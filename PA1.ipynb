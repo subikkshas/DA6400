{
  "nbformat": 4,
  "nbformat_minor": 0,
  "metadata": {
    "colab": {
      "provenance": [],
      "authorship_tag": "ABX9TyNK2xGaijF/8T54bapdDQ63",
      "include_colab_link": true
    },
    "kernelspec": {
      "name": "python3",
      "display_name": "Python 3"
    },
    "language_info": {
      "name": "python"
    }
  },
  "cells": [
    {
      "cell_type": "markdown",
      "metadata": {
        "id": "view-in-github",
        "colab_type": "text"
      },
      "source": [
        "<a href=\"https://colab.research.google.com/github/subikkshas/DA6400/blob/main/PA1.ipynb\" target=\"_parent\"><img src=\"https://colab.research.google.com/assets/colab-badge.svg\" alt=\"Open In Colab\"/></a>"
      ]
    },
    {
      "cell_type": "code",
      "execution_count": null,
      "metadata": {
        "colab": {
          "base_uri": "https://localhost:8080/"
        },
        "id": "9-J75XMG9Hnw",
        "outputId": "4f063e26-c32c-4e8c-be73-b621bc1bf2ca"
      },
      "outputs": [
        {
          "output_type": "stream",
          "name": "stdout",
          "text": [
            "Requirement already satisfied: gymnasium in /usr/local/lib/python3.11/dist-packages (1.1.1)\n",
            "Requirement already satisfied: numpy>=1.21.0 in /usr/local/lib/python3.11/dist-packages (from gymnasium) (2.0.2)\n",
            "Requirement already satisfied: cloudpickle>=1.2.0 in /usr/local/lib/python3.11/dist-packages (from gymnasium) (3.1.1)\n",
            "Requirement already satisfied: typing-extensions>=4.3.0 in /usr/local/lib/python3.11/dist-packages (from gymnasium) (4.12.2)\n",
            "Requirement already satisfied: farama-notifications>=0.0.1 in /usr/local/lib/python3.11/dist-packages (from gymnasium) (0.0.4)\n",
            "Requirement already satisfied: matplotlib in /usr/local/lib/python3.11/dist-packages (3.10.0)\n",
            "Requirement already satisfied: contourpy>=1.0.1 in /usr/local/lib/python3.11/dist-packages (from matplotlib) (1.3.1)\n",
            "Requirement already satisfied: cycler>=0.10 in /usr/local/lib/python3.11/dist-packages (from matplotlib) (0.12.1)\n",
            "Requirement already satisfied: fonttools>=4.22.0 in /usr/local/lib/python3.11/dist-packages (from matplotlib) (4.56.0)\n",
            "Requirement already satisfied: kiwisolver>=1.3.1 in /usr/local/lib/python3.11/dist-packages (from matplotlib) (1.4.8)\n",
            "Requirement already satisfied: numpy>=1.23 in /usr/local/lib/python3.11/dist-packages (from matplotlib) (2.0.2)\n",
            "Requirement already satisfied: packaging>=20.0 in /usr/local/lib/python3.11/dist-packages (from matplotlib) (24.2)\n",
            "Requirement already satisfied: pillow>=8 in /usr/local/lib/python3.11/dist-packages (from matplotlib) (11.1.0)\n",
            "Requirement already satisfied: pyparsing>=2.3.1 in /usr/local/lib/python3.11/dist-packages (from matplotlib) (3.2.1)\n",
            "Requirement already satisfied: python-dateutil>=2.7 in /usr/local/lib/python3.11/dist-packages (from matplotlib) (2.8.2)\n",
            "Requirement already satisfied: six>=1.5 in /usr/local/lib/python3.11/dist-packages (from python-dateutil>=2.7->matplotlib) (1.17.0)\n",
            "Requirement already satisfied: wandb in /usr/local/lib/python3.11/dist-packages (0.19.8)\n",
            "Requirement already satisfied: click!=8.0.0,>=7.1 in /usr/local/lib/python3.11/dist-packages (from wandb) (8.1.8)\n",
            "Requirement already satisfied: docker-pycreds>=0.4.0 in /usr/local/lib/python3.11/dist-packages (from wandb) (0.4.0)\n",
            "Requirement already satisfied: gitpython!=3.1.29,>=1.0.0 in /usr/local/lib/python3.11/dist-packages (from wandb) (3.1.44)\n",
            "Requirement already satisfied: platformdirs in /usr/local/lib/python3.11/dist-packages (from wandb) (4.3.6)\n",
            "Requirement already satisfied: protobuf!=4.21.0,!=5.28.0,<6,>=3.19.0 in /usr/local/lib/python3.11/dist-packages (from wandb) (5.29.3)\n",
            "Requirement already satisfied: psutil>=5.0.0 in /usr/local/lib/python3.11/dist-packages (from wandb) (5.9.5)\n",
            "Requirement already satisfied: pydantic<3,>=2.6 in /usr/local/lib/python3.11/dist-packages (from wandb) (2.10.6)\n",
            "Requirement already satisfied: pyyaml in /usr/local/lib/python3.11/dist-packages (from wandb) (6.0.2)\n",
            "Requirement already satisfied: requests<3,>=2.0.0 in /usr/local/lib/python3.11/dist-packages (from wandb) (2.32.3)\n",
            "Requirement already satisfied: sentry-sdk>=2.0.0 in /usr/local/lib/python3.11/dist-packages (from wandb) (2.23.1)\n",
            "Requirement already satisfied: setproctitle in /usr/local/lib/python3.11/dist-packages (from wandb) (1.3.5)\n",
            "Requirement already satisfied: setuptools in /usr/local/lib/python3.11/dist-packages (from wandb) (75.1.0)\n",
            "Requirement already satisfied: typing-extensions<5,>=4.4 in /usr/local/lib/python3.11/dist-packages (from wandb) (4.12.2)\n",
            "Requirement already satisfied: six>=1.4.0 in /usr/local/lib/python3.11/dist-packages (from docker-pycreds>=0.4.0->wandb) (1.17.0)\n",
            "Requirement already satisfied: gitdb<5,>=4.0.1 in /usr/local/lib/python3.11/dist-packages (from gitpython!=3.1.29,>=1.0.0->wandb) (4.0.12)\n",
            "Requirement already satisfied: annotated-types>=0.6.0 in /usr/local/lib/python3.11/dist-packages (from pydantic<3,>=2.6->wandb) (0.7.0)\n",
            "Requirement already satisfied: pydantic-core==2.27.2 in /usr/local/lib/python3.11/dist-packages (from pydantic<3,>=2.6->wandb) (2.27.2)\n",
            "Requirement already satisfied: charset-normalizer<4,>=2 in /usr/local/lib/python3.11/dist-packages (from requests<3,>=2.0.0->wandb) (3.4.1)\n",
            "Requirement already satisfied: idna<4,>=2.5 in /usr/local/lib/python3.11/dist-packages (from requests<3,>=2.0.0->wandb) (3.10)\n",
            "Requirement already satisfied: urllib3<3,>=1.21.1 in /usr/local/lib/python3.11/dist-packages (from requests<3,>=2.0.0->wandb) (2.3.0)\n",
            "Requirement already satisfied: certifi>=2017.4.17 in /usr/local/lib/python3.11/dist-packages (from requests<3,>=2.0.0->wandb) (2025.1.31)\n",
            "Requirement already satisfied: smmap<6,>=3.0.1 in /usr/local/lib/python3.11/dist-packages (from gitdb<5,>=4.0.1->gitpython!=3.1.29,>=1.0.0->wandb) (5.0.2)\n"
          ]
        }
      ],
      "source": [
        "!pip install gymnasium\n",
        "!pip install matplotlib\n",
        "!pip install wandb"
      ]
    },
    {
      "cell_type": "code",
      "source": [
        "import gymnasium as gym\n",
        "import matplotlib.pyplot as plt\n",
        "import numpy as np\n",
        "import wandb"
      ],
      "metadata": {
        "id": "YZ9q6Z-z9WEG"
      },
      "execution_count": null,
      "outputs": []
    },
    {
      "cell_type": "markdown",
      "source": [
        "MountainCar-v0 Environment"
      ],
      "metadata": {
        "id": "wDQSloJQ92vA"
      }
    },
    {
      "cell_type": "code",
      "source": [
        "env = gym.make('MountainCar-v0', render_mode='human')\n",
        "print(\"Observation Space:\", env.observation_space)\n",
        "print(\"Action Space:\", env.action_space)"
      ],
      "metadata": {
        "colab": {
          "base_uri": "https://localhost:8080/"
        },
        "id": "zlp4TIqe9lsz",
        "outputId": "7854fe4e-4ab8-47d9-da2c-14684e25f3da"
      },
      "execution_count": null,
      "outputs": [
        {
          "output_type": "stream",
          "name": "stdout",
          "text": [
            "Observation Space: Box([-1.2  -0.07], [0.6  0.07], (2,), float32)\n",
            "Action Space: Discrete(3)\n"
          ]
        }
      ]
    },
    {
      "cell_type": "code",
      "source": [
        "state = env.reset(seed=42)\n",
        "print(\"Initial State:\", state)  # Should be in the range [-0.6, -0.4] for position, 0 for velocity"
      ],
      "metadata": {
        "colab": {
          "base_uri": "https://localhost:8080/"
        },
        "id": "0ZZXavPS-BtD",
        "outputId": "20801fbd-b92e-4551-9bb6-28bfd1f1c0d6"
      },
      "execution_count": null,
      "outputs": [
        {
          "output_type": "stream",
          "name": "stdout",
          "text": [
            "Initial State: (array([-0.4452088,  0.       ], dtype=float32), {})\n"
          ]
        }
      ]
    },
    {
      "cell_type": "code",
      "source": [
        "env.render()"
      ],
      "metadata": {
        "id": "sbFHmyxv-Oz6"
      },
      "execution_count": null,
      "outputs": []
    },
    {
      "cell_type": "code",
      "source": [
        "# Discretize the state space\n",
        "def discretize_state(state, bins):\n",
        "    return tuple(np.digitize(s, b) - 1 for s, b in zip(state, bins))\n",
        "\n",
        "# Initialize the Q-table\n",
        "def initialize_q_table(state_space, action_space):\n",
        "    return np.zeros(state_space + (action_space,))"
      ],
      "metadata": {
        "id": "5cg0yJEbEq_k"
      },
      "execution_count": null,
      "outputs": []
    },
    {
      "cell_type": "code",
      "source": [
        "# Epsilon-greedy policy\n",
        "def epsilon_greedy_policy(q_table, state, epsilon, action_space):\n",
        "    if np.random.rand() < epsilon:\n",
        "        return np.random.choice(action_space)  # Explore\n",
        "    else:\n",
        "        return np.argmax(q_table[state])  # Exploit\n",
        "\n",
        "# Softmax policy\n",
        "def softmax_policy(q_table, state, temperature, action_space):\n",
        "    probabilities = np.exp(q_table[state] / temperature)\n",
        "    probabilities /= np.sum(probabilities)  # Normalize to probabilities\n",
        "    return np.random.choice(action_space, p=probabilities)"
      ],
      "metadata": {
        "id": "Daza0RRIBEtY"
      },
      "execution_count": null,
      "outputs": []
    },
    {
      "cell_type": "code",
      "source": [
        "# SARSA algorithm\n",
        "def sarsa(env, num_episodes, alpha, gamma, epsilon, bins, max_steps=200, seed=None):\n",
        "    if seed is not None:\n",
        "        np.random.seed(seed)\n",
        "        env.reset(seed=seed)\n",
        "\n",
        "    # Discretize the state space\n",
        "    state_space = (len(bins[0]), len(bins[1]))\n",
        "    action_space = env.action_space.n\n",
        "    q_table = initialize_q_table(state_space, action_space)\n",
        "\n",
        "    # Track rewards for plotting\n",
        "    rewards = []\n",
        "\n",
        "    for episode in range(num_episodes):\n",
        "        # Manually set the initial state: position is random, velocity is 0\n",
        "        initial_position = np.random.uniform(-0.6, -0.4)  # Random position near the bottom\n",
        "        initial_velocity = 0.0  # Starting velocity is always 0\n",
        "        state = env.reset(options={'initial_state': (initial_position, initial_velocity)})[0]\n",
        "        state = discretize_state(state, bins)\n",
        "        action = epsilon_greedy_policy(q_table, state, epsilon, action_space)\n",
        "        total_reward = 0\n",
        "\n",
        "        for step in range(max_steps):\n",
        "            # Take action and observe next state and reward\n",
        "            next_state, reward, done, truncated, _ = env.step(action)\n",
        "            next_state = discretize_state(next_state, bins)\n",
        "\n",
        "            # Choose next action using epsilon-greedy policy\n",
        "            next_action = epsilon_greedy_policy(q_table, next_state, epsilon, action_space)\n",
        "\n",
        "            # SARSA update rule\n",
        "            q_table[state][action] += alpha * (\n",
        "                reward + gamma * q_table[next_state][next_action] - q_table[state][action]\n",
        "            )\n",
        "\n",
        "            # Update state and action\n",
        "            state, action = next_state, next_action\n",
        "            total_reward += reward\n",
        "\n",
        "            if done or truncated:\n",
        "                break\n",
        "\n",
        "        rewards.append(total_reward)\n",
        "        if (episode + 1) % 100 == 0:\n",
        "            print(f\"Seed {seed}, Episode {episode + 1}, Total Reward: {total_reward}\")\n",
        "\n",
        "    return rewards"
      ],
      "metadata": {
        "id": "0J0LfG2YDGIj"
      },
      "execution_count": null,
      "outputs": []
    },
    {
      "cell_type": "code",
      "source": [
        "# Q-learning algorithm with Softmax\n",
        "def q_learning(env, num_episodes, alpha, gamma, temperature, bins, max_steps=200, seed=None):\n",
        "    if seed is not None:\n",
        "        np.random.seed(seed)\n",
        "        env.reset(seed=seed)\n",
        "\n",
        "    # Discretize the state space\n",
        "    state_space = (len(bins[0]), len(bins[1]))\n",
        "    action_space = env.action_space.n\n",
        "    q_table = initialize_q_table(state_space, action_space)\n",
        "\n",
        "    # Track rewards for plotting\n",
        "    rewards = []\n",
        "\n",
        "    for episode in range(num_episodes):\n",
        "        # Manually set the initial state: position is random, velocity is 0\n",
        "        initial_position = np.random.uniform(-0.6, -0.4)  # Random position near the bottom\n",
        "        initial_velocity = 0.0  # Starting velocity is always 0\n",
        "        state = env.reset(options={'initial_state': (initial_position, initial_velocity)})[0]\n",
        "        state = discretize_state(state, bins)\n",
        "        total_reward = 0\n",
        "\n",
        "        for step in range(max_steps):\n",
        "            # Choose action using Softmax policy\n",
        "            action = softmax_policy(q_table, state, temperature, action_space)\n",
        "\n",
        "            # Take action and observe next state and reward\n",
        "            next_state, reward, done, truncated, _ = env.step(action)\n",
        "            next_state = discretize_state(next_state, bins)\n",
        "\n",
        "            # Q-learning update rule\n",
        "            best_next_action = np.argmax(q_table[next_state])\n",
        "            q_table[state][action] += alpha * (\n",
        "                reward + gamma * q_table[next_state][best_next_action] - q_table[state][action]\n",
        "            )\n",
        "\n",
        "            # Update state\n",
        "            state = next_state\n",
        "            total_reward += reward\n",
        "\n",
        "            if done or truncated:\n",
        "                break\n",
        "\n",
        "        rewards.append(total_reward)\n",
        "        if (episode + 1) % 100 == 0:\n",
        "            print(f\"Q-learning - Seed {seed}, Episode {episode + 1}, Total Reward: {total_reward}\")\n",
        "\n",
        "    return rewards"
      ],
      "metadata": {
        "id": "vknKPURgNDfL"
      },
      "execution_count": null,
      "outputs": []
    },
    {
      "cell_type": "code",
      "source": [
        "def wandb_train():\n",
        "    wandb.init(project=\"MountainCar-RL\", entity=\"subikksha\")\n",
        "    config = wandb.config\n",
        "    wandb.run.name = f\"alpha_{config.alpha}_eps_{config.epsilon}_temp_{config.temperature}_bins_{config.num_bins}\"\n",
        "    env = gym.make('MountainCar-v0')\n",
        "\n",
        "    bins = [\n",
        "        np.linspace(-1.2, 0.6, config.num_bins),\n",
        "        np.linspace(-0.07, 0.07, config.num_bins)\n",
        "    ]\n",
        "\n",
        "    # SARSA\n",
        "    rewards_sarsa = sarsa(env, config.num_episodes, config.alpha, config.gamma, config.epsilon, bins, config.max_steps, seed=42)\n",
        "    avg_return_sarsa = np.mean(rewards_sarsa[-100:])\n",
        "\n",
        "    # Q-learning\n",
        "    rewards_q = q_learning(env, config.num_episodes, config.alpha, config.gamma, config.temperature, bins, config.max_steps, seed=42)\n",
        "    avg_return_q = np.mean(rewards_q[-100:])\n",
        "\n",
        "    wandb.log({\"avg_return_sarsa\": avg_return_sarsa, \"avg_return_q_learning\": avg_return_q})\n",
        "\n",
        "# Sweep Configuration\n",
        "sweep_config = {\n",
        "    \"method\": \"random\",\n",
        "    \"metric\": {\"name\": \"avg_return_sarsa\", \"goal\": \"maximize\"},\n",
        "    \"parameters\": {\n",
        "        \"alpha\": {\"values\": [0.05, 0.1, 0.15, 0.2]},\n",
        "        \"epsilon\": {\"values\": [0.01, 0.05, 0.1, 0.2]},\n",
        "        \"temperature\": {\"values\": [0.2, 0.5, 1.0]},\n",
        "        \"num_bins\": {\"values\": [15, 20, 25]},\n",
        "        \"gamma\": {\"value\": 0.99},\n",
        "        \"num_episodes\": {\"value\": 5000},\n",
        "        \"max_steps\": {\"value\": 200}\n",
        "    }\n",
        "}"
      ],
      "metadata": {
        "id": "x-ynRFF7jUEA"
      },
      "execution_count": null,
      "outputs": []
    },
    {
      "cell_type": "code",
      "source": [
        "sweep_id = wandb.sweep(sweep_config, project=\"MountainCar-RL\")\n",
        "wandb.agent(sweep_id, wandb_train, count=20)"
      ],
      "metadata": {
        "colab": {
          "base_uri": "https://localhost:8080/",
          "height": 1000
        },
        "id": "NwMuBJoTjee6",
        "outputId": "359f509b-04e9-4e6c-ea1c-1d77b2779b51"
      },
      "execution_count": null,
      "outputs": [
        {
          "output_type": "stream",
          "name": "stdout",
          "text": [
            "Create sweep with ID: cppzkh1g\n",
            "Sweep URL: https://wandb.ai/subikksha-indian-institute-of-technology-madras/MountainCar-RL/sweeps/cppzkh1g\n"
          ]
        },
        {
          "output_type": "stream",
          "name": "stderr",
          "text": [
            "\u001b[34m\u001b[1mwandb\u001b[0m: Agent Starting Run: vzzs1hrg with config:\n",
            "\u001b[34m\u001b[1mwandb\u001b[0m: \talpha: 0.2\n",
            "\u001b[34m\u001b[1mwandb\u001b[0m: \tepsilon: 0.01\n",
            "\u001b[34m\u001b[1mwandb\u001b[0m: \tgamma: 0.99\n",
            "\u001b[34m\u001b[1mwandb\u001b[0m: \tmax_steps: 200\n",
            "\u001b[34m\u001b[1mwandb\u001b[0m: \tnum_bins: 20\n",
            "\u001b[34m\u001b[1mwandb\u001b[0m: \tnum_episodes: 5000\n",
            "\u001b[34m\u001b[1mwandb\u001b[0m: \ttemperature: 0.5\n"
          ]
        },
        {
          "output_type": "display_data",
          "data": {
            "text/plain": [
              "<IPython.core.display.HTML object>"
            ],
            "text/html": [
              "Ignoring project 'MountainCar-RL' when running a sweep."
            ]
          },
          "metadata": {}
        },
        {
          "output_type": "display_data",
          "data": {
            "text/plain": [
              "<IPython.core.display.HTML object>"
            ],
            "text/html": [
              "Ignoring entity 'subikksha' when running a sweep."
            ]
          },
          "metadata": {}
        },
        {
          "output_type": "display_data",
          "data": {
            "text/plain": [
              "<IPython.core.display.HTML object>"
            ],
            "text/html": [
              "Tracking run with wandb version 0.19.8"
            ]
          },
          "metadata": {}
        },
        {
          "output_type": "display_data",
          "data": {
            "text/plain": [
              "<IPython.core.display.HTML object>"
            ],
            "text/html": [
              "Run data is saved locally in <code>/content/wandb/run-20250322_195604-vzzs1hrg</code>"
            ]
          },
          "metadata": {}
        },
        {
          "output_type": "display_data",
          "data": {
            "text/plain": [
              "<IPython.core.display.HTML object>"
            ],
            "text/html": [
              "Syncing run <strong><a href='https://wandb.ai/subikksha-indian-institute-of-technology-madras/MountainCar-RL/runs/vzzs1hrg' target=\"_blank\">likely-sweep-1</a></strong> to <a href='https://wandb.ai/subikksha-indian-institute-of-technology-madras/MountainCar-RL' target=\"_blank\">Weights & Biases</a> (<a href='https://wandb.me/developer-guide' target=\"_blank\">docs</a>)<br>Sweep page: <a href='https://wandb.ai/subikksha-indian-institute-of-technology-madras/MountainCar-RL/sweeps/cppzkh1g' target=\"_blank\">https://wandb.ai/subikksha-indian-institute-of-technology-madras/MountainCar-RL/sweeps/cppzkh1g</a>"
            ]
          },
          "metadata": {}
        },
        {
          "output_type": "display_data",
          "data": {
            "text/plain": [
              "<IPython.core.display.HTML object>"
            ],
            "text/html": [
              " View project at <a href='https://wandb.ai/subikksha-indian-institute-of-technology-madras/MountainCar-RL' target=\"_blank\">https://wandb.ai/subikksha-indian-institute-of-technology-madras/MountainCar-RL</a>"
            ]
          },
          "metadata": {}
        },
        {
          "output_type": "display_data",
          "data": {
            "text/plain": [
              "<IPython.core.display.HTML object>"
            ],
            "text/html": [
              " View sweep at <a href='https://wandb.ai/subikksha-indian-institute-of-technology-madras/MountainCar-RL/sweeps/cppzkh1g' target=\"_blank\">https://wandb.ai/subikksha-indian-institute-of-technology-madras/MountainCar-RL/sweeps/cppzkh1g</a>"
            ]
          },
          "metadata": {}
        },
        {
          "output_type": "display_data",
          "data": {
            "text/plain": [
              "<IPython.core.display.HTML object>"
            ],
            "text/html": [
              " View run at <a href='https://wandb.ai/subikksha-indian-institute-of-technology-madras/MountainCar-RL/runs/vzzs1hrg' target=\"_blank\">https://wandb.ai/subikksha-indian-institute-of-technology-madras/MountainCar-RL/runs/vzzs1hrg</a>"
            ]
          },
          "metadata": {}
        },
        {
          "output_type": "stream",
          "name": "stdout",
          "text": [
            "Seed 42, Episode 100, Total Reward: -200.0\n",
            "Seed 42, Episode 200, Total Reward: -200.0\n",
            "Seed 42, Episode 300, Total Reward: -200.0\n",
            "Seed 42, Episode 400, Total Reward: -200.0\n",
            "Seed 42, Episode 500, Total Reward: -200.0\n",
            "Seed 42, Episode 600, Total Reward: -200.0\n",
            "Seed 42, Episode 700, Total Reward: -200.0\n",
            "Seed 42, Episode 800, Total Reward: -160.0\n",
            "Seed 42, Episode 900, Total Reward: -200.0\n",
            "Seed 42, Episode 1000, Total Reward: -176.0\n",
            "Seed 42, Episode 1100, Total Reward: -200.0\n",
            "Seed 42, Episode 1200, Total Reward: -193.0\n",
            "Seed 42, Episode 1300, Total Reward: -200.0\n",
            "Seed 42, Episode 1400, Total Reward: -200.0\n",
            "Seed 42, Episode 1500, Total Reward: -175.0\n",
            "Seed 42, Episode 1600, Total Reward: -163.0\n",
            "Seed 42, Episode 1700, Total Reward: -166.0\n",
            "Seed 42, Episode 1800, Total Reward: -166.0\n",
            "Seed 42, Episode 1900, Total Reward: -156.0\n",
            "Seed 42, Episode 2000, Total Reward: -157.0\n",
            "Seed 42, Episode 2100, Total Reward: -200.0\n",
            "Seed 42, Episode 2200, Total Reward: -200.0\n",
            "Seed 42, Episode 2300, Total Reward: -200.0\n",
            "Seed 42, Episode 2400, Total Reward: -200.0\n",
            "Seed 42, Episode 2500, Total Reward: -199.0\n",
            "Seed 42, Episode 2600, Total Reward: -168.0\n",
            "Seed 42, Episode 2700, Total Reward: -152.0\n",
            "Seed 42, Episode 2800, Total Reward: -148.0\n",
            "Seed 42, Episode 2900, Total Reward: -200.0\n",
            "Seed 42, Episode 3000, Total Reward: -147.0\n",
            "Seed 42, Episode 3100, Total Reward: -151.0\n",
            "Seed 42, Episode 3200, Total Reward: -159.0\n",
            "Seed 42, Episode 3300, Total Reward: -155.0\n",
            "Seed 42, Episode 3400, Total Reward: -138.0\n",
            "Seed 42, Episode 3500, Total Reward: -139.0\n",
            "Seed 42, Episode 3600, Total Reward: -200.0\n",
            "Seed 42, Episode 3700, Total Reward: -150.0\n",
            "Seed 42, Episode 3800, Total Reward: -167.0\n",
            "Seed 42, Episode 3900, Total Reward: -181.0\n",
            "Seed 42, Episode 4000, Total Reward: -169.0\n",
            "Seed 42, Episode 4100, Total Reward: -200.0\n",
            "Seed 42, Episode 4200, Total Reward: -198.0\n",
            "Seed 42, Episode 4300, Total Reward: -139.0\n",
            "Seed 42, Episode 4400, Total Reward: -139.0\n",
            "Seed 42, Episode 4500, Total Reward: -199.0\n",
            "Seed 42, Episode 4600, Total Reward: -136.0\n",
            "Seed 42, Episode 4700, Total Reward: -153.0\n",
            "Seed 42, Episode 4800, Total Reward: -200.0\n",
            "Seed 42, Episode 4900, Total Reward: -154.0\n",
            "Seed 42, Episode 5000, Total Reward: -181.0\n",
            "Q-learning - Seed 42, Episode 100, Total Reward: -200.0\n",
            "Q-learning - Seed 42, Episode 200, Total Reward: -200.0\n",
            "Q-learning - Seed 42, Episode 300, Total Reward: -200.0\n",
            "Q-learning - Seed 42, Episode 400, Total Reward: -200.0\n",
            "Q-learning - Seed 42, Episode 500, Total Reward: -200.0\n",
            "Q-learning - Seed 42, Episode 600, Total Reward: -200.0\n",
            "Q-learning - Seed 42, Episode 700, Total Reward: -200.0\n",
            "Q-learning - Seed 42, Episode 800, Total Reward: -200.0\n",
            "Q-learning - Seed 42, Episode 900, Total Reward: -200.0\n",
            "Q-learning - Seed 42, Episode 1000, Total Reward: -199.0\n",
            "Q-learning - Seed 42, Episode 1100, Total Reward: -200.0\n",
            "Q-learning - Seed 42, Episode 1200, Total Reward: -200.0\n",
            "Q-learning - Seed 42, Episode 1300, Total Reward: -188.0\n",
            "Q-learning - Seed 42, Episode 1400, Total Reward: -200.0\n",
            "Q-learning - Seed 42, Episode 1500, Total Reward: -200.0\n",
            "Q-learning - Seed 42, Episode 1600, Total Reward: -200.0\n",
            "Q-learning - Seed 42, Episode 1700, Total Reward: -200.0\n",
            "Q-learning - Seed 42, Episode 1800, Total Reward: -161.0\n",
            "Q-learning - Seed 42, Episode 1900, Total Reward: -200.0\n",
            "Q-learning - Seed 42, Episode 2000, Total Reward: -163.0\n",
            "Q-learning - Seed 42, Episode 2100, Total Reward: -200.0\n",
            "Q-learning - Seed 42, Episode 2200, Total Reward: -200.0\n",
            "Q-learning - Seed 42, Episode 2300, Total Reward: -200.0\n",
            "Q-learning - Seed 42, Episode 2400, Total Reward: -200.0\n",
            "Q-learning - Seed 42, Episode 2500, Total Reward: -200.0\n",
            "Q-learning - Seed 42, Episode 2600, Total Reward: -200.0\n",
            "Q-learning - Seed 42, Episode 2700, Total Reward: -200.0\n",
            "Q-learning - Seed 42, Episode 2800, Total Reward: -165.0\n",
            "Q-learning - Seed 42, Episode 2900, Total Reward: -159.0\n",
            "Q-learning - Seed 42, Episode 3000, Total Reward: -161.0\n",
            "Q-learning - Seed 42, Episode 3100, Total Reward: -167.0\n",
            "Q-learning - Seed 42, Episode 3200, Total Reward: -200.0\n",
            "Q-learning - Seed 42, Episode 3300, Total Reward: -164.0\n",
            "Q-learning - Seed 42, Episode 3400, Total Reward: -200.0\n",
            "Q-learning - Seed 42, Episode 3500, Total Reward: -200.0\n",
            "Q-learning - Seed 42, Episode 3600, Total Reward: -200.0\n",
            "Q-learning - Seed 42, Episode 3700, Total Reward: -153.0\n",
            "Q-learning - Seed 42, Episode 3800, Total Reward: -119.0\n",
            "Q-learning - Seed 42, Episode 3900, Total Reward: -124.0\n",
            "Q-learning - Seed 42, Episode 4000, Total Reward: -163.0\n",
            "Q-learning - Seed 42, Episode 4100, Total Reward: -180.0\n",
            "Q-learning - Seed 42, Episode 4200, Total Reward: -169.0\n",
            "Q-learning - Seed 42, Episode 4300, Total Reward: -200.0\n",
            "Q-learning - Seed 42, Episode 4400, Total Reward: -157.0\n",
            "Q-learning - Seed 42, Episode 4500, Total Reward: -191.0\n",
            "Q-learning - Seed 42, Episode 4600, Total Reward: -200.0\n",
            "Q-learning - Seed 42, Episode 4700, Total Reward: -168.0\n",
            "Q-learning - Seed 42, Episode 4800, Total Reward: -145.0\n",
            "Q-learning - Seed 42, Episode 4900, Total Reward: -139.0\n",
            "Q-learning - Seed 42, Episode 5000, Total Reward: -114.0\n"
          ]
        },
        {
          "output_type": "display_data",
          "data": {
            "text/plain": [
              "<IPython.core.display.HTML object>"
            ],
            "text/html": []
          },
          "metadata": {}
        },
        {
          "output_type": "display_data",
          "data": {
            "text/plain": [
              "<IPython.core.display.HTML object>"
            ],
            "text/html": [
              "<br>    <style><br>        .wandb-row {<br>            display: flex;<br>            flex-direction: row;<br>            flex-wrap: wrap;<br>            justify-content: flex-start;<br>            width: 100%;<br>        }<br>        .wandb-col {<br>            display: flex;<br>            flex-direction: column;<br>            flex-basis: 100%;<br>            flex: 1;<br>            padding: 10px;<br>        }<br>    </style><br><div class=\"wandb-row\"><div class=\"wandb-col\"><h3>Run history:</h3><br/><table class=\"wandb\"><tr><td>avg_return_q_learning</td><td>▁</td></tr><tr><td>avg_return_sarsa</td><td>▁</td></tr></table><br/></div><div class=\"wandb-col\"><h3>Run summary:</h3><br/><table class=\"wandb\"><tr><td>avg_return_q_learning</td><td>-153.75</td></tr><tr><td>avg_return_sarsa</td><td>-167.92</td></tr></table><br/></div></div>"
            ]
          },
          "metadata": {}
        },
        {
          "output_type": "display_data",
          "data": {
            "text/plain": [
              "<IPython.core.display.HTML object>"
            ],
            "text/html": [
              " View run <strong style=\"color:#cdcd00\">alpha_0.2_eps_0.01_temp_0.5_bins_20</strong> at: <a href='https://wandb.ai/subikksha-indian-institute-of-technology-madras/MountainCar-RL/runs/vzzs1hrg' target=\"_blank\">https://wandb.ai/subikksha-indian-institute-of-technology-madras/MountainCar-RL/runs/vzzs1hrg</a><br> View project at: <a href='https://wandb.ai/subikksha-indian-institute-of-technology-madras/MountainCar-RL' target=\"_blank\">https://wandb.ai/subikksha-indian-institute-of-technology-madras/MountainCar-RL</a><br>Synced 5 W&B file(s), 0 media file(s), 0 artifact file(s) and 0 other file(s)"
            ]
          },
          "metadata": {}
        },
        {
          "output_type": "display_data",
          "data": {
            "text/plain": [
              "<IPython.core.display.HTML object>"
            ],
            "text/html": [
              "Find logs at: <code>./wandb/run-20250322_195604-vzzs1hrg/logs</code>"
            ]
          },
          "metadata": {}
        },
        {
          "output_type": "stream",
          "name": "stderr",
          "text": [
            "\u001b[34m\u001b[1mwandb\u001b[0m: Agent Starting Run: 1zqyx1so with config:\n",
            "\u001b[34m\u001b[1mwandb\u001b[0m: \talpha: 0.1\n",
            "\u001b[34m\u001b[1mwandb\u001b[0m: \tepsilon: 0.05\n",
            "\u001b[34m\u001b[1mwandb\u001b[0m: \tgamma: 0.99\n",
            "\u001b[34m\u001b[1mwandb\u001b[0m: \tmax_steps: 200\n",
            "\u001b[34m\u001b[1mwandb\u001b[0m: \tnum_bins: 25\n",
            "\u001b[34m\u001b[1mwandb\u001b[0m: \tnum_episodes: 5000\n",
            "\u001b[34m\u001b[1mwandb\u001b[0m: \ttemperature: 0.2\n"
          ]
        },
        {
          "output_type": "display_data",
          "data": {
            "text/plain": [
              "<IPython.core.display.HTML object>"
            ],
            "text/html": [
              "Ignoring project 'MountainCar-RL' when running a sweep."
            ]
          },
          "metadata": {}
        },
        {
          "output_type": "display_data",
          "data": {
            "text/plain": [
              "<IPython.core.display.HTML object>"
            ],
            "text/html": [
              "Ignoring entity 'subikksha' when running a sweep."
            ]
          },
          "metadata": {}
        },
        {
          "output_type": "display_data",
          "data": {
            "text/plain": [
              "<IPython.core.display.HTML object>"
            ],
            "text/html": [
              "Tracking run with wandb version 0.19.8"
            ]
          },
          "metadata": {}
        },
        {
          "output_type": "display_data",
          "data": {
            "text/plain": [
              "<IPython.core.display.HTML object>"
            ],
            "text/html": [
              "Run data is saved locally in <code>/content/wandb/run-20250322_195826-1zqyx1so</code>"
            ]
          },
          "metadata": {}
        },
        {
          "output_type": "display_data",
          "data": {
            "text/plain": [
              "<IPython.core.display.HTML object>"
            ],
            "text/html": [
              "Syncing run <strong><a href='https://wandb.ai/subikksha-indian-institute-of-technology-madras/MountainCar-RL/runs/1zqyx1so' target=\"_blank\">stellar-sweep-2</a></strong> to <a href='https://wandb.ai/subikksha-indian-institute-of-technology-madras/MountainCar-RL' target=\"_blank\">Weights & Biases</a> (<a href='https://wandb.me/developer-guide' target=\"_blank\">docs</a>)<br>Sweep page: <a href='https://wandb.ai/subikksha-indian-institute-of-technology-madras/MountainCar-RL/sweeps/cppzkh1g' target=\"_blank\">https://wandb.ai/subikksha-indian-institute-of-technology-madras/MountainCar-RL/sweeps/cppzkh1g</a>"
            ]
          },
          "metadata": {}
        },
        {
          "output_type": "display_data",
          "data": {
            "text/plain": [
              "<IPython.core.display.HTML object>"
            ],
            "text/html": [
              " View project at <a href='https://wandb.ai/subikksha-indian-institute-of-technology-madras/MountainCar-RL' target=\"_blank\">https://wandb.ai/subikksha-indian-institute-of-technology-madras/MountainCar-RL</a>"
            ]
          },
          "metadata": {}
        },
        {
          "output_type": "display_data",
          "data": {
            "text/plain": [
              "<IPython.core.display.HTML object>"
            ],
            "text/html": [
              " View sweep at <a href='https://wandb.ai/subikksha-indian-institute-of-technology-madras/MountainCar-RL/sweeps/cppzkh1g' target=\"_blank\">https://wandb.ai/subikksha-indian-institute-of-technology-madras/MountainCar-RL/sweeps/cppzkh1g</a>"
            ]
          },
          "metadata": {}
        },
        {
          "output_type": "display_data",
          "data": {
            "text/plain": [
              "<IPython.core.display.HTML object>"
            ],
            "text/html": [
              " View run at <a href='https://wandb.ai/subikksha-indian-institute-of-technology-madras/MountainCar-RL/runs/1zqyx1so' target=\"_blank\">https://wandb.ai/subikksha-indian-institute-of-technology-madras/MountainCar-RL/runs/1zqyx1so</a>"
            ]
          },
          "metadata": {}
        },
        {
          "output_type": "stream",
          "name": "stdout",
          "text": [
            "Seed 42, Episode 100, Total Reward: -200.0\n",
            "Seed 42, Episode 200, Total Reward: -200.0\n",
            "Seed 42, Episode 300, Total Reward: -200.0\n",
            "Seed 42, Episode 400, Total Reward: -200.0\n",
            "Seed 42, Episode 500, Total Reward: -200.0\n",
            "Seed 42, Episode 600, Total Reward: -200.0\n",
            "Seed 42, Episode 700, Total Reward: -200.0\n",
            "Seed 42, Episode 800, Total Reward: -200.0\n",
            "Seed 42, Episode 900, Total Reward: -200.0\n",
            "Seed 42, Episode 1000, Total Reward: -200.0\n",
            "Seed 42, Episode 1100, Total Reward: -200.0\n",
            "Seed 42, Episode 1200, Total Reward: -200.0\n",
            "Seed 42, Episode 1300, Total Reward: -200.0\n",
            "Seed 42, Episode 1400, Total Reward: -200.0\n",
            "Seed 42, Episode 1500, Total Reward: -200.0\n",
            "Seed 42, Episode 1600, Total Reward: -200.0\n",
            "Seed 42, Episode 1700, Total Reward: -200.0\n",
            "Seed 42, Episode 1800, Total Reward: -200.0\n",
            "Seed 42, Episode 1900, Total Reward: -200.0\n",
            "Seed 42, Episode 2000, Total Reward: -165.0\n",
            "Seed 42, Episode 2100, Total Reward: -200.0\n",
            "Seed 42, Episode 2200, Total Reward: -198.0\n",
            "Seed 42, Episode 2300, Total Reward: -200.0\n",
            "Seed 42, Episode 2400, Total Reward: -200.0\n",
            "Seed 42, Episode 2500, Total Reward: -195.0\n",
            "Seed 42, Episode 2600, Total Reward: -147.0\n",
            "Seed 42, Episode 2700, Total Reward: -156.0\n",
            "Seed 42, Episode 2800, Total Reward: -161.0\n",
            "Seed 42, Episode 2900, Total Reward: -200.0\n",
            "Seed 42, Episode 3000, Total Reward: -200.0\n",
            "Seed 42, Episode 3100, Total Reward: -153.0\n",
            "Seed 42, Episode 3200, Total Reward: -166.0\n",
            "Seed 42, Episode 3300, Total Reward: -151.0\n",
            "Seed 42, Episode 3400, Total Reward: -199.0\n",
            "Seed 42, Episode 3500, Total Reward: -200.0\n",
            "Seed 42, Episode 3600, Total Reward: -190.0\n",
            "Seed 42, Episode 3700, Total Reward: -152.0\n",
            "Seed 42, Episode 3800, Total Reward: -198.0\n",
            "Seed 42, Episode 3900, Total Reward: -185.0\n",
            "Seed 42, Episode 4000, Total Reward: -200.0\n",
            "Seed 42, Episode 4100, Total Reward: -200.0\n",
            "Seed 42, Episode 4200, Total Reward: -198.0\n",
            "Seed 42, Episode 4300, Total Reward: -200.0\n",
            "Seed 42, Episode 4400, Total Reward: -155.0\n",
            "Seed 42, Episode 4500, Total Reward: -117.0\n",
            "Seed 42, Episode 4600, Total Reward: -165.0\n",
            "Seed 42, Episode 4700, Total Reward: -197.0\n",
            "Seed 42, Episode 4800, Total Reward: -147.0\n",
            "Seed 42, Episode 4900, Total Reward: -153.0\n",
            "Seed 42, Episode 5000, Total Reward: -200.0\n",
            "Q-learning - Seed 42, Episode 100, Total Reward: -200.0\n",
            "Q-learning - Seed 42, Episode 200, Total Reward: -200.0\n",
            "Q-learning - Seed 42, Episode 300, Total Reward: -200.0\n",
            "Q-learning - Seed 42, Episode 400, Total Reward: -200.0\n",
            "Q-learning - Seed 42, Episode 500, Total Reward: -200.0\n",
            "Q-learning - Seed 42, Episode 600, Total Reward: -200.0\n",
            "Q-learning - Seed 42, Episode 700, Total Reward: -200.0\n",
            "Q-learning - Seed 42, Episode 800, Total Reward: -200.0\n",
            "Q-learning - Seed 42, Episode 900, Total Reward: -200.0\n",
            "Q-learning - Seed 42, Episode 1000, Total Reward: -200.0\n",
            "Q-learning - Seed 42, Episode 1100, Total Reward: -200.0\n",
            "Q-learning - Seed 42, Episode 1200, Total Reward: -200.0\n",
            "Q-learning - Seed 42, Episode 1300, Total Reward: -200.0\n",
            "Q-learning - Seed 42, Episode 1400, Total Reward: -200.0\n",
            "Q-learning - Seed 42, Episode 1500, Total Reward: -200.0\n",
            "Q-learning - Seed 42, Episode 1600, Total Reward: -200.0\n",
            "Q-learning - Seed 42, Episode 1700, Total Reward: -200.0\n",
            "Q-learning - Seed 42, Episode 1800, Total Reward: -200.0\n",
            "Q-learning - Seed 42, Episode 1900, Total Reward: -200.0\n",
            "Q-learning - Seed 42, Episode 2000, Total Reward: -200.0\n",
            "Q-learning - Seed 42, Episode 2100, Total Reward: -200.0\n",
            "Q-learning - Seed 42, Episode 2200, Total Reward: -200.0\n",
            "Q-learning - Seed 42, Episode 2300, Total Reward: -161.0\n",
            "Q-learning - Seed 42, Episode 2400, Total Reward: -158.0\n",
            "Q-learning - Seed 42, Episode 2500, Total Reward: -199.0\n",
            "Q-learning - Seed 42, Episode 2600, Total Reward: -200.0\n",
            "Q-learning - Seed 42, Episode 2700, Total Reward: -200.0\n",
            "Q-learning - Seed 42, Episode 2800, Total Reward: -200.0\n",
            "Q-learning - Seed 42, Episode 2900, Total Reward: -200.0\n",
            "Q-learning - Seed 42, Episode 3000, Total Reward: -200.0\n",
            "Q-learning - Seed 42, Episode 3100, Total Reward: -200.0\n",
            "Q-learning - Seed 42, Episode 3200, Total Reward: -168.0\n",
            "Q-learning - Seed 42, Episode 3300, Total Reward: -200.0\n",
            "Q-learning - Seed 42, Episode 3400, Total Reward: -200.0\n",
            "Q-learning - Seed 42, Episode 3500, Total Reward: -200.0\n",
            "Q-learning - Seed 42, Episode 3600, Total Reward: -188.0\n",
            "Q-learning - Seed 42, Episode 3700, Total Reward: -161.0\n",
            "Q-learning - Seed 42, Episode 3800, Total Reward: -192.0\n",
            "Q-learning - Seed 42, Episode 3900, Total Reward: -194.0\n",
            "Q-learning - Seed 42, Episode 4000, Total Reward: -200.0\n",
            "Q-learning - Seed 42, Episode 4100, Total Reward: -200.0\n",
            "Q-learning - Seed 42, Episode 4200, Total Reward: -197.0\n",
            "Q-learning - Seed 42, Episode 4300, Total Reward: -200.0\n",
            "Q-learning - Seed 42, Episode 4400, Total Reward: -156.0\n",
            "Q-learning - Seed 42, Episode 4500, Total Reward: -192.0\n",
            "Q-learning - Seed 42, Episode 4600, Total Reward: -151.0\n",
            "Q-learning - Seed 42, Episode 4700, Total Reward: -200.0\n",
            "Q-learning - Seed 42, Episode 4800, Total Reward: -199.0\n",
            "Q-learning - Seed 42, Episode 4900, Total Reward: -200.0\n",
            "Q-learning - Seed 42, Episode 5000, Total Reward: -170.0\n"
          ]
        },
        {
          "output_type": "display_data",
          "data": {
            "text/plain": [
              "<IPython.core.display.HTML object>"
            ],
            "text/html": []
          },
          "metadata": {}
        },
        {
          "output_type": "display_data",
          "data": {
            "text/plain": [
              "<IPython.core.display.HTML object>"
            ],
            "text/html": [
              "<br>    <style><br>        .wandb-row {<br>            display: flex;<br>            flex-direction: row;<br>            flex-wrap: wrap;<br>            justify-content: flex-start;<br>            width: 100%;<br>        }<br>        .wandb-col {<br>            display: flex;<br>            flex-direction: column;<br>            flex-basis: 100%;<br>            flex: 1;<br>            padding: 10px;<br>        }<br>    </style><br><div class=\"wandb-row\"><div class=\"wandb-col\"><h3>Run history:</h3><br/><table class=\"wandb\"><tr><td>avg_return_q_learning</td><td>▁</td></tr><tr><td>avg_return_sarsa</td><td>▁</td></tr></table><br/></div><div class=\"wandb-col\"><h3>Run summary:</h3><br/><table class=\"wandb\"><tr><td>avg_return_q_learning</td><td>-175.94</td></tr><tr><td>avg_return_sarsa</td><td>-160.67</td></tr></table><br/></div></div>"
            ]
          },
          "metadata": {}
        },
        {
          "output_type": "display_data",
          "data": {
            "text/plain": [
              "<IPython.core.display.HTML object>"
            ],
            "text/html": [
              " View run <strong style=\"color:#cdcd00\">alpha_0.1_eps_0.05_temp_0.2_bins_25</strong> at: <a href='https://wandb.ai/subikksha-indian-institute-of-technology-madras/MountainCar-RL/runs/1zqyx1so' target=\"_blank\">https://wandb.ai/subikksha-indian-institute-of-technology-madras/MountainCar-RL/runs/1zqyx1so</a><br> View project at: <a href='https://wandb.ai/subikksha-indian-institute-of-technology-madras/MountainCar-RL' target=\"_blank\">https://wandb.ai/subikksha-indian-institute-of-technology-madras/MountainCar-RL</a><br>Synced 5 W&B file(s), 0 media file(s), 0 artifact file(s) and 0 other file(s)"
            ]
          },
          "metadata": {}
        },
        {
          "output_type": "display_data",
          "data": {
            "text/plain": [
              "<IPython.core.display.HTML object>"
            ],
            "text/html": [
              "Find logs at: <code>./wandb/run-20250322_195826-1zqyx1so/logs</code>"
            ]
          },
          "metadata": {}
        },
        {
          "output_type": "stream",
          "name": "stderr",
          "text": [
            "\u001b[34m\u001b[1mwandb\u001b[0m: Agent Starting Run: h35z9bpn with config:\n",
            "\u001b[34m\u001b[1mwandb\u001b[0m: \talpha: 0.15\n",
            "\u001b[34m\u001b[1mwandb\u001b[0m: \tepsilon: 0.1\n",
            "\u001b[34m\u001b[1mwandb\u001b[0m: \tgamma: 0.99\n",
            "\u001b[34m\u001b[1mwandb\u001b[0m: \tmax_steps: 200\n",
            "\u001b[34m\u001b[1mwandb\u001b[0m: \tnum_bins: 20\n",
            "\u001b[34m\u001b[1mwandb\u001b[0m: \tnum_episodes: 5000\n",
            "\u001b[34m\u001b[1mwandb\u001b[0m: \ttemperature: 1\n"
          ]
        },
        {
          "output_type": "display_data",
          "data": {
            "text/plain": [
              "<IPython.core.display.HTML object>"
            ],
            "text/html": [
              "Ignoring project 'MountainCar-RL' when running a sweep."
            ]
          },
          "metadata": {}
        },
        {
          "output_type": "display_data",
          "data": {
            "text/plain": [
              "<IPython.core.display.HTML object>"
            ],
            "text/html": [
              "Ignoring entity 'subikksha' when running a sweep."
            ]
          },
          "metadata": {}
        },
        {
          "output_type": "display_data",
          "data": {
            "text/plain": [
              "<IPython.core.display.HTML object>"
            ],
            "text/html": [
              "Tracking run with wandb version 0.19.8"
            ]
          },
          "metadata": {}
        },
        {
          "output_type": "display_data",
          "data": {
            "text/plain": [
              "<IPython.core.display.HTML object>"
            ],
            "text/html": [
              "Run data is saved locally in <code>/content/wandb/run-20250322_200057-h35z9bpn</code>"
            ]
          },
          "metadata": {}
        },
        {
          "output_type": "display_data",
          "data": {
            "text/plain": [
              "<IPython.core.display.HTML object>"
            ],
            "text/html": [
              "Syncing run <strong><a href='https://wandb.ai/subikksha-indian-institute-of-technology-madras/MountainCar-RL/runs/h35z9bpn' target=\"_blank\">polar-sweep-3</a></strong> to <a href='https://wandb.ai/subikksha-indian-institute-of-technology-madras/MountainCar-RL' target=\"_blank\">Weights & Biases</a> (<a href='https://wandb.me/developer-guide' target=\"_blank\">docs</a>)<br>Sweep page: <a href='https://wandb.ai/subikksha-indian-institute-of-technology-madras/MountainCar-RL/sweeps/cppzkh1g' target=\"_blank\">https://wandb.ai/subikksha-indian-institute-of-technology-madras/MountainCar-RL/sweeps/cppzkh1g</a>"
            ]
          },
          "metadata": {}
        },
        {
          "output_type": "display_data",
          "data": {
            "text/plain": [
              "<IPython.core.display.HTML object>"
            ],
            "text/html": [
              " View project at <a href='https://wandb.ai/subikksha-indian-institute-of-technology-madras/MountainCar-RL' target=\"_blank\">https://wandb.ai/subikksha-indian-institute-of-technology-madras/MountainCar-RL</a>"
            ]
          },
          "metadata": {}
        },
        {
          "output_type": "display_data",
          "data": {
            "text/plain": [
              "<IPython.core.display.HTML object>"
            ],
            "text/html": [
              " View sweep at <a href='https://wandb.ai/subikksha-indian-institute-of-technology-madras/MountainCar-RL/sweeps/cppzkh1g' target=\"_blank\">https://wandb.ai/subikksha-indian-institute-of-technology-madras/MountainCar-RL/sweeps/cppzkh1g</a>"
            ]
          },
          "metadata": {}
        },
        {
          "output_type": "display_data",
          "data": {
            "text/plain": [
              "<IPython.core.display.HTML object>"
            ],
            "text/html": [
              " View run at <a href='https://wandb.ai/subikksha-indian-institute-of-technology-madras/MountainCar-RL/runs/h35z9bpn' target=\"_blank\">https://wandb.ai/subikksha-indian-institute-of-technology-madras/MountainCar-RL/runs/h35z9bpn</a>"
            ]
          },
          "metadata": {}
        },
        {
          "output_type": "stream",
          "name": "stdout",
          "text": [
            "Seed 42, Episode 100, Total Reward: -200.0\n",
            "Seed 42, Episode 200, Total Reward: -200.0\n",
            "Seed 42, Episode 300, Total Reward: -200.0\n",
            "Seed 42, Episode 400, Total Reward: -200.0\n",
            "Seed 42, Episode 500, Total Reward: -200.0\n",
            "Seed 42, Episode 600, Total Reward: -200.0\n",
            "Seed 42, Episode 700, Total Reward: -200.0\n",
            "Seed 42, Episode 800, Total Reward: -200.0\n",
            "Seed 42, Episode 900, Total Reward: -200.0\n",
            "Seed 42, Episode 1000, Total Reward: -200.0\n",
            "Seed 42, Episode 1100, Total Reward: -194.0\n",
            "Seed 42, Episode 1200, Total Reward: -200.0\n",
            "Seed 42, Episode 1300, Total Reward: -188.0\n",
            "Seed 42, Episode 1400, Total Reward: -200.0\n",
            "Seed 42, Episode 1500, Total Reward: -200.0\n",
            "Seed 42, Episode 1600, Total Reward: -160.0\n",
            "Seed 42, Episode 1700, Total Reward: -200.0\n",
            "Seed 42, Episode 1800, Total Reward: -200.0\n",
            "Seed 42, Episode 1900, Total Reward: -154.0\n",
            "Seed 42, Episode 2000, Total Reward: -161.0\n",
            "Seed 42, Episode 2100, Total Reward: -165.0\n",
            "Seed 42, Episode 2200, Total Reward: -126.0\n",
            "Seed 42, Episode 2300, Total Reward: -161.0\n",
            "Seed 42, Episode 2400, Total Reward: -143.0\n",
            "Seed 42, Episode 2500, Total Reward: -188.0\n",
            "Seed 42, Episode 2600, Total Reward: -147.0\n",
            "Seed 42, Episode 2700, Total Reward: -160.0\n",
            "Seed 42, Episode 2800, Total Reward: -176.0\n",
            "Seed 42, Episode 2900, Total Reward: -178.0\n",
            "Seed 42, Episode 3000, Total Reward: -148.0\n",
            "Seed 42, Episode 3100, Total Reward: -200.0\n",
            "Seed 42, Episode 3200, Total Reward: -200.0\n",
            "Seed 42, Episode 3300, Total Reward: -161.0\n",
            "Seed 42, Episode 3400, Total Reward: -200.0\n",
            "Seed 42, Episode 3500, Total Reward: -141.0\n",
            "Seed 42, Episode 3600, Total Reward: -200.0\n",
            "Seed 42, Episode 3700, Total Reward: -159.0\n",
            "Seed 42, Episode 3800, Total Reward: -118.0\n",
            "Seed 42, Episode 3900, Total Reward: -200.0\n",
            "Seed 42, Episode 4000, Total Reward: -200.0\n",
            "Seed 42, Episode 4100, Total Reward: -200.0\n",
            "Seed 42, Episode 4200, Total Reward: -200.0\n",
            "Seed 42, Episode 4300, Total Reward: -152.0\n",
            "Seed 42, Episode 4400, Total Reward: -151.0\n",
            "Seed 42, Episode 4500, Total Reward: -190.0\n",
            "Seed 42, Episode 4600, Total Reward: -154.0\n",
            "Seed 42, Episode 4700, Total Reward: -155.0\n",
            "Seed 42, Episode 4800, Total Reward: -146.0\n",
            "Seed 42, Episode 4900, Total Reward: -187.0\n",
            "Seed 42, Episode 5000, Total Reward: -200.0\n",
            "Q-learning - Seed 42, Episode 100, Total Reward: -200.0\n",
            "Q-learning - Seed 42, Episode 200, Total Reward: -200.0\n",
            "Q-learning - Seed 42, Episode 300, Total Reward: -200.0\n",
            "Q-learning - Seed 42, Episode 400, Total Reward: -200.0\n",
            "Q-learning - Seed 42, Episode 500, Total Reward: -200.0\n",
            "Q-learning - Seed 42, Episode 600, Total Reward: -200.0\n",
            "Q-learning - Seed 42, Episode 700, Total Reward: -200.0\n",
            "Q-learning - Seed 42, Episode 800, Total Reward: -200.0\n",
            "Q-learning - Seed 42, Episode 900, Total Reward: -200.0\n",
            "Q-learning - Seed 42, Episode 1000, Total Reward: -200.0\n",
            "Q-learning - Seed 42, Episode 1100, Total Reward: -200.0\n",
            "Q-learning - Seed 42, Episode 1200, Total Reward: -200.0\n",
            "Q-learning - Seed 42, Episode 1300, Total Reward: -200.0\n",
            "Q-learning - Seed 42, Episode 1400, Total Reward: -200.0\n",
            "Q-learning - Seed 42, Episode 1500, Total Reward: -200.0\n",
            "Q-learning - Seed 42, Episode 1600, Total Reward: -200.0\n",
            "Q-learning - Seed 42, Episode 1700, Total Reward: -200.0\n",
            "Q-learning - Seed 42, Episode 1800, Total Reward: -200.0\n",
            "Q-learning - Seed 42, Episode 1900, Total Reward: -200.0\n",
            "Q-learning - Seed 42, Episode 2000, Total Reward: -200.0\n",
            "Q-learning - Seed 42, Episode 2100, Total Reward: -200.0\n",
            "Q-learning - Seed 42, Episode 2200, Total Reward: -200.0\n",
            "Q-learning - Seed 42, Episode 2300, Total Reward: -200.0\n",
            "Q-learning - Seed 42, Episode 2400, Total Reward: -200.0\n",
            "Q-learning - Seed 42, Episode 2500, Total Reward: -200.0\n",
            "Q-learning - Seed 42, Episode 2600, Total Reward: -200.0\n",
            "Q-learning - Seed 42, Episode 2700, Total Reward: -200.0\n",
            "Q-learning - Seed 42, Episode 2800, Total Reward: -200.0\n",
            "Q-learning - Seed 42, Episode 2900, Total Reward: -200.0\n",
            "Q-learning - Seed 42, Episode 3000, Total Reward: -200.0\n",
            "Q-learning - Seed 42, Episode 3100, Total Reward: -200.0\n",
            "Q-learning - Seed 42, Episode 3200, Total Reward: -200.0\n",
            "Q-learning - Seed 42, Episode 3300, Total Reward: -200.0\n",
            "Q-learning - Seed 42, Episode 3400, Total Reward: -200.0\n",
            "Q-learning - Seed 42, Episode 3500, Total Reward: -200.0\n",
            "Q-learning - Seed 42, Episode 3600, Total Reward: -200.0\n",
            "Q-learning - Seed 42, Episode 3700, Total Reward: -200.0\n",
            "Q-learning - Seed 42, Episode 3800, Total Reward: -200.0\n",
            "Q-learning - Seed 42, Episode 3900, Total Reward: -200.0\n",
            "Q-learning - Seed 42, Episode 4000, Total Reward: -200.0\n",
            "Q-learning - Seed 42, Episode 4100, Total Reward: -200.0\n",
            "Q-learning - Seed 42, Episode 4200, Total Reward: -200.0\n",
            "Q-learning - Seed 42, Episode 4300, Total Reward: -200.0\n",
            "Q-learning - Seed 42, Episode 4400, Total Reward: -200.0\n",
            "Q-learning - Seed 42, Episode 4500, Total Reward: -200.0\n",
            "Q-learning - Seed 42, Episode 4600, Total Reward: -200.0\n",
            "Q-learning - Seed 42, Episode 4700, Total Reward: -200.0\n",
            "Q-learning - Seed 42, Episode 4800, Total Reward: -200.0\n",
            "Q-learning - Seed 42, Episode 4900, Total Reward: -200.0\n",
            "Q-learning - Seed 42, Episode 5000, Total Reward: -200.0\n"
          ]
        },
        {
          "output_type": "display_data",
          "data": {
            "text/plain": [
              "<IPython.core.display.HTML object>"
            ],
            "text/html": []
          },
          "metadata": {}
        },
        {
          "output_type": "display_data",
          "data": {
            "text/plain": [
              "<IPython.core.display.HTML object>"
            ],
            "text/html": [
              "<br>    <style><br>        .wandb-row {<br>            display: flex;<br>            flex-direction: row;<br>            flex-wrap: wrap;<br>            justify-content: flex-start;<br>            width: 100%;<br>        }<br>        .wandb-col {<br>            display: flex;<br>            flex-direction: column;<br>            flex-basis: 100%;<br>            flex: 1;<br>            padding: 10px;<br>        }<br>    </style><br><div class=\"wandb-row\"><div class=\"wandb-col\"><h3>Run history:</h3><br/><table class=\"wandb\"><tr><td>avg_return_q_learning</td><td>▁</td></tr><tr><td>avg_return_sarsa</td><td>▁</td></tr></table><br/></div><div class=\"wandb-col\"><h3>Run summary:</h3><br/><table class=\"wandb\"><tr><td>avg_return_q_learning</td><td>-200</td></tr><tr><td>avg_return_sarsa</td><td>-171.01</td></tr></table><br/></div></div>"
            ]
          },
          "metadata": {}
        },
        {
          "output_type": "display_data",
          "data": {
            "text/plain": [
              "<IPython.core.display.HTML object>"
            ],
            "text/html": [
              " View run <strong style=\"color:#cdcd00\">alpha_0.15_eps_0.1_temp_1_bins_20</strong> at: <a href='https://wandb.ai/subikksha-indian-institute-of-technology-madras/MountainCar-RL/runs/h35z9bpn' target=\"_blank\">https://wandb.ai/subikksha-indian-institute-of-technology-madras/MountainCar-RL/runs/h35z9bpn</a><br> View project at: <a href='https://wandb.ai/subikksha-indian-institute-of-technology-madras/MountainCar-RL' target=\"_blank\">https://wandb.ai/subikksha-indian-institute-of-technology-madras/MountainCar-RL</a><br>Synced 5 W&B file(s), 0 media file(s), 0 artifact file(s) and 0 other file(s)"
            ]
          },
          "metadata": {}
        },
        {
          "output_type": "display_data",
          "data": {
            "text/plain": [
              "<IPython.core.display.HTML object>"
            ],
            "text/html": [
              "Find logs at: <code>./wandb/run-20250322_200057-h35z9bpn/logs</code>"
            ]
          },
          "metadata": {}
        },
        {
          "output_type": "stream",
          "name": "stderr",
          "text": [
            "\u001b[34m\u001b[1mwandb\u001b[0m: Agent Starting Run: sl0tduxf with config:\n",
            "\u001b[34m\u001b[1mwandb\u001b[0m: \talpha: 0.1\n",
            "\u001b[34m\u001b[1mwandb\u001b[0m: \tepsilon: 0.01\n",
            "\u001b[34m\u001b[1mwandb\u001b[0m: \tgamma: 0.99\n",
            "\u001b[34m\u001b[1mwandb\u001b[0m: \tmax_steps: 200\n",
            "\u001b[34m\u001b[1mwandb\u001b[0m: \tnum_bins: 20\n",
            "\u001b[34m\u001b[1mwandb\u001b[0m: \tnum_episodes: 5000\n",
            "\u001b[34m\u001b[1mwandb\u001b[0m: \ttemperature: 1\n"
          ]
        },
        {
          "output_type": "display_data",
          "data": {
            "text/plain": [
              "<IPython.core.display.HTML object>"
            ],
            "text/html": [
              "Ignoring project 'MountainCar-RL' when running a sweep."
            ]
          },
          "metadata": {}
        },
        {
          "output_type": "display_data",
          "data": {
            "text/plain": [
              "<IPython.core.display.HTML object>"
            ],
            "text/html": [
              "Ignoring entity 'subikksha' when running a sweep."
            ]
          },
          "metadata": {}
        },
        {
          "output_type": "display_data",
          "data": {
            "text/plain": [
              "<IPython.core.display.HTML object>"
            ],
            "text/html": [
              "Tracking run with wandb version 0.19.8"
            ]
          },
          "metadata": {}
        },
        {
          "output_type": "display_data",
          "data": {
            "text/plain": [
              "<IPython.core.display.HTML object>"
            ],
            "text/html": [
              "Run data is saved locally in <code>/content/wandb/run-20250322_200329-sl0tduxf</code>"
            ]
          },
          "metadata": {}
        },
        {
          "output_type": "display_data",
          "data": {
            "text/plain": [
              "<IPython.core.display.HTML object>"
            ],
            "text/html": [
              "Syncing run <strong><a href='https://wandb.ai/subikksha-indian-institute-of-technology-madras/MountainCar-RL/runs/sl0tduxf' target=\"_blank\">hearty-sweep-4</a></strong> to <a href='https://wandb.ai/subikksha-indian-institute-of-technology-madras/MountainCar-RL' target=\"_blank\">Weights & Biases</a> (<a href='https://wandb.me/developer-guide' target=\"_blank\">docs</a>)<br>Sweep page: <a href='https://wandb.ai/subikksha-indian-institute-of-technology-madras/MountainCar-RL/sweeps/cppzkh1g' target=\"_blank\">https://wandb.ai/subikksha-indian-institute-of-technology-madras/MountainCar-RL/sweeps/cppzkh1g</a>"
            ]
          },
          "metadata": {}
        },
        {
          "output_type": "display_data",
          "data": {
            "text/plain": [
              "<IPython.core.display.HTML object>"
            ],
            "text/html": [
              " View project at <a href='https://wandb.ai/subikksha-indian-institute-of-technology-madras/MountainCar-RL' target=\"_blank\">https://wandb.ai/subikksha-indian-institute-of-technology-madras/MountainCar-RL</a>"
            ]
          },
          "metadata": {}
        },
        {
          "output_type": "display_data",
          "data": {
            "text/plain": [
              "<IPython.core.display.HTML object>"
            ],
            "text/html": [
              " View sweep at <a href='https://wandb.ai/subikksha-indian-institute-of-technology-madras/MountainCar-RL/sweeps/cppzkh1g' target=\"_blank\">https://wandb.ai/subikksha-indian-institute-of-technology-madras/MountainCar-RL/sweeps/cppzkh1g</a>"
            ]
          },
          "metadata": {}
        },
        {
          "output_type": "display_data",
          "data": {
            "text/plain": [
              "<IPython.core.display.HTML object>"
            ],
            "text/html": [
              " View run at <a href='https://wandb.ai/subikksha-indian-institute-of-technology-madras/MountainCar-RL/runs/sl0tduxf' target=\"_blank\">https://wandb.ai/subikksha-indian-institute-of-technology-madras/MountainCar-RL/runs/sl0tduxf</a>"
            ]
          },
          "metadata": {}
        },
        {
          "output_type": "stream",
          "name": "stdout",
          "text": [
            "Seed 42, Episode 100, Total Reward: -200.0\n",
            "Seed 42, Episode 200, Total Reward: -200.0\n",
            "Seed 42, Episode 300, Total Reward: -200.0\n",
            "Seed 42, Episode 400, Total Reward: -200.0\n",
            "Seed 42, Episode 500, Total Reward: -200.0\n",
            "Seed 42, Episode 600, Total Reward: -200.0\n",
            "Seed 42, Episode 700, Total Reward: -200.0\n",
            "Seed 42, Episode 800, Total Reward: -200.0\n",
            "Seed 42, Episode 900, Total Reward: -200.0\n",
            "Seed 42, Episode 1000, Total Reward: -200.0\n",
            "Seed 42, Episode 1100, Total Reward: -200.0\n",
            "Seed 42, Episode 1200, Total Reward: -200.0\n",
            "Seed 42, Episode 1300, Total Reward: -200.0\n",
            "Seed 42, Episode 1400, Total Reward: -157.0\n",
            "Seed 42, Episode 1500, Total Reward: -200.0\n",
            "Seed 42, Episode 1600, Total Reward: -160.0\n",
            "Seed 42, Episode 1700, Total Reward: -200.0\n",
            "Seed 42, Episode 1800, Total Reward: -157.0\n",
            "Seed 42, Episode 1900, Total Reward: -200.0\n",
            "Seed 42, Episode 2000, Total Reward: -165.0\n",
            "Seed 42, Episode 2100, Total Reward: -194.0\n",
            "Seed 42, Episode 2200, Total Reward: -196.0\n",
            "Seed 42, Episode 2300, Total Reward: -158.0\n",
            "Seed 42, Episode 2400, Total Reward: -167.0\n",
            "Seed 42, Episode 2500, Total Reward: -123.0\n",
            "Seed 42, Episode 2600, Total Reward: -200.0\n",
            "Seed 42, Episode 2700, Total Reward: -149.0\n",
            "Seed 42, Episode 2800, Total Reward: -200.0\n",
            "Seed 42, Episode 2900, Total Reward: -149.0\n",
            "Seed 42, Episode 3000, Total Reward: -157.0\n",
            "Seed 42, Episode 3100, Total Reward: -153.0\n",
            "Seed 42, Episode 3200, Total Reward: -200.0\n",
            "Seed 42, Episode 3300, Total Reward: -157.0\n",
            "Seed 42, Episode 3400, Total Reward: -137.0\n",
            "Seed 42, Episode 3500, Total Reward: -145.0\n",
            "Seed 42, Episode 3600, Total Reward: -139.0\n",
            "Seed 42, Episode 3700, Total Reward: -148.0\n",
            "Seed 42, Episode 3800, Total Reward: -182.0\n",
            "Seed 42, Episode 3900, Total Reward: -158.0\n",
            "Seed 42, Episode 4000, Total Reward: -168.0\n",
            "Seed 42, Episode 4100, Total Reward: -144.0\n",
            "Seed 42, Episode 4200, Total Reward: -133.0\n",
            "Seed 42, Episode 4300, Total Reward: -151.0\n",
            "Seed 42, Episode 4400, Total Reward: -154.0\n",
            "Seed 42, Episode 4500, Total Reward: -141.0\n",
            "Seed 42, Episode 4600, Total Reward: -145.0\n",
            "Seed 42, Episode 4700, Total Reward: -148.0\n",
            "Seed 42, Episode 4800, Total Reward: -153.0\n",
            "Seed 42, Episode 4900, Total Reward: -139.0\n",
            "Seed 42, Episode 5000, Total Reward: -138.0\n",
            "Q-learning - Seed 42, Episode 100, Total Reward: -200.0\n",
            "Q-learning - Seed 42, Episode 200, Total Reward: -200.0\n",
            "Q-learning - Seed 42, Episode 300, Total Reward: -200.0\n",
            "Q-learning - Seed 42, Episode 400, Total Reward: -200.0\n",
            "Q-learning - Seed 42, Episode 500, Total Reward: -200.0\n",
            "Q-learning - Seed 42, Episode 600, Total Reward: -200.0\n",
            "Q-learning - Seed 42, Episode 700, Total Reward: -200.0\n",
            "Q-learning - Seed 42, Episode 800, Total Reward: -200.0\n",
            "Q-learning - Seed 42, Episode 900, Total Reward: -200.0\n",
            "Q-learning - Seed 42, Episode 1000, Total Reward: -200.0\n",
            "Q-learning - Seed 42, Episode 1100, Total Reward: -200.0\n",
            "Q-learning - Seed 42, Episode 1200, Total Reward: -200.0\n",
            "Q-learning - Seed 42, Episode 1300, Total Reward: -200.0\n",
            "Q-learning - Seed 42, Episode 1400, Total Reward: -200.0\n",
            "Q-learning - Seed 42, Episode 1500, Total Reward: -200.0\n",
            "Q-learning - Seed 42, Episode 1600, Total Reward: -200.0\n",
            "Q-learning - Seed 42, Episode 1700, Total Reward: -200.0\n",
            "Q-learning - Seed 42, Episode 1800, Total Reward: -200.0\n",
            "Q-learning - Seed 42, Episode 1900, Total Reward: -200.0\n",
            "Q-learning - Seed 42, Episode 2000, Total Reward: -200.0\n",
            "Q-learning - Seed 42, Episode 2100, Total Reward: -200.0\n",
            "Q-learning - Seed 42, Episode 2200, Total Reward: -200.0\n",
            "Q-learning - Seed 42, Episode 2300, Total Reward: -200.0\n",
            "Q-learning - Seed 42, Episode 2400, Total Reward: -200.0\n",
            "Q-learning - Seed 42, Episode 2500, Total Reward: -200.0\n",
            "Q-learning - Seed 42, Episode 2600, Total Reward: -200.0\n",
            "Q-learning - Seed 42, Episode 2700, Total Reward: -200.0\n",
            "Q-learning - Seed 42, Episode 2800, Total Reward: -200.0\n",
            "Q-learning - Seed 42, Episode 2900, Total Reward: -200.0\n",
            "Q-learning - Seed 42, Episode 3000, Total Reward: -200.0\n",
            "Q-learning - Seed 42, Episode 3100, Total Reward: -200.0\n",
            "Q-learning - Seed 42, Episode 3200, Total Reward: -200.0\n",
            "Q-learning - Seed 42, Episode 3300, Total Reward: -200.0\n",
            "Q-learning - Seed 42, Episode 3400, Total Reward: -200.0\n",
            "Q-learning - Seed 42, Episode 3500, Total Reward: -200.0\n",
            "Q-learning - Seed 42, Episode 3600, Total Reward: -200.0\n",
            "Q-learning - Seed 42, Episode 3700, Total Reward: -200.0\n",
            "Q-learning - Seed 42, Episode 3800, Total Reward: -200.0\n",
            "Q-learning - Seed 42, Episode 3900, Total Reward: -200.0\n",
            "Q-learning - Seed 42, Episode 4000, Total Reward: -200.0\n",
            "Q-learning - Seed 42, Episode 4100, Total Reward: -200.0\n",
            "Q-learning - Seed 42, Episode 4200, Total Reward: -200.0\n",
            "Q-learning - Seed 42, Episode 4300, Total Reward: -200.0\n",
            "Q-learning - Seed 42, Episode 4400, Total Reward: -200.0\n",
            "Q-learning - Seed 42, Episode 4500, Total Reward: -200.0\n",
            "Q-learning - Seed 42, Episode 4600, Total Reward: -200.0\n",
            "Q-learning - Seed 42, Episode 4700, Total Reward: -200.0\n",
            "Q-learning - Seed 42, Episode 4800, Total Reward: -200.0\n",
            "Q-learning - Seed 42, Episode 4900, Total Reward: -200.0\n",
            "Q-learning - Seed 42, Episode 5000, Total Reward: -200.0\n"
          ]
        },
        {
          "output_type": "display_data",
          "data": {
            "text/plain": [
              "<IPython.core.display.HTML object>"
            ],
            "text/html": []
          },
          "metadata": {}
        },
        {
          "output_type": "display_data",
          "data": {
            "text/plain": [
              "<IPython.core.display.HTML object>"
            ],
            "text/html": [
              "<br>    <style><br>        .wandb-row {<br>            display: flex;<br>            flex-direction: row;<br>            flex-wrap: wrap;<br>            justify-content: flex-start;<br>            width: 100%;<br>        }<br>        .wandb-col {<br>            display: flex;<br>            flex-direction: column;<br>            flex-basis: 100%;<br>            flex: 1;<br>            padding: 10px;<br>        }<br>    </style><br><div class=\"wandb-row\"><div class=\"wandb-col\"><h3>Run history:</h3><br/><table class=\"wandb\"><tr><td>avg_return_q_learning</td><td>▁</td></tr><tr><td>avg_return_sarsa</td><td>▁</td></tr></table><br/></div><div class=\"wandb-col\"><h3>Run summary:</h3><br/><table class=\"wandb\"><tr><td>avg_return_q_learning</td><td>-200</td></tr><tr><td>avg_return_sarsa</td><td>-143.98</td></tr></table><br/></div></div>"
            ]
          },
          "metadata": {}
        },
        {
          "output_type": "display_data",
          "data": {
            "text/plain": [
              "<IPython.core.display.HTML object>"
            ],
            "text/html": [
              " View run <strong style=\"color:#cdcd00\">alpha_0.1_eps_0.01_temp_1_bins_20</strong> at: <a href='https://wandb.ai/subikksha-indian-institute-of-technology-madras/MountainCar-RL/runs/sl0tduxf' target=\"_blank\">https://wandb.ai/subikksha-indian-institute-of-technology-madras/MountainCar-RL/runs/sl0tduxf</a><br> View project at: <a href='https://wandb.ai/subikksha-indian-institute-of-technology-madras/MountainCar-RL' target=\"_blank\">https://wandb.ai/subikksha-indian-institute-of-technology-madras/MountainCar-RL</a><br>Synced 5 W&B file(s), 0 media file(s), 0 artifact file(s) and 0 other file(s)"
            ]
          },
          "metadata": {}
        },
        {
          "output_type": "display_data",
          "data": {
            "text/plain": [
              "<IPython.core.display.HTML object>"
            ],
            "text/html": [
              "Find logs at: <code>./wandb/run-20250322_200329-sl0tduxf/logs</code>"
            ]
          },
          "metadata": {}
        },
        {
          "output_type": "stream",
          "name": "stderr",
          "text": [
            "\u001b[34m\u001b[1mwandb\u001b[0m: Agent Starting Run: djxwpq11 with config:\n",
            "\u001b[34m\u001b[1mwandb\u001b[0m: \talpha: 0.2\n",
            "\u001b[34m\u001b[1mwandb\u001b[0m: \tepsilon: 0.1\n",
            "\u001b[34m\u001b[1mwandb\u001b[0m: \tgamma: 0.99\n",
            "\u001b[34m\u001b[1mwandb\u001b[0m: \tmax_steps: 200\n",
            "\u001b[34m\u001b[1mwandb\u001b[0m: \tnum_bins: 25\n",
            "\u001b[34m\u001b[1mwandb\u001b[0m: \tnum_episodes: 5000\n",
            "\u001b[34m\u001b[1mwandb\u001b[0m: \ttemperature: 0.2\n"
          ]
        },
        {
          "output_type": "display_data",
          "data": {
            "text/plain": [
              "<IPython.core.display.HTML object>"
            ],
            "text/html": [
              "Ignoring project 'MountainCar-RL' when running a sweep."
            ]
          },
          "metadata": {}
        },
        {
          "output_type": "display_data",
          "data": {
            "text/plain": [
              "<IPython.core.display.HTML object>"
            ],
            "text/html": [
              "Ignoring entity 'subikksha' when running a sweep."
            ]
          },
          "metadata": {}
        },
        {
          "output_type": "display_data",
          "data": {
            "text/plain": [
              "<IPython.core.display.HTML object>"
            ],
            "text/html": [
              "Tracking run with wandb version 0.19.8"
            ]
          },
          "metadata": {}
        },
        {
          "output_type": "display_data",
          "data": {
            "text/plain": [
              "<IPython.core.display.HTML object>"
            ],
            "text/html": [
              "Run data is saved locally in <code>/content/wandb/run-20250322_200555-djxwpq11</code>"
            ]
          },
          "metadata": {}
        },
        {
          "output_type": "display_data",
          "data": {
            "text/plain": [
              "<IPython.core.display.HTML object>"
            ],
            "text/html": [
              "Syncing run <strong><a href='https://wandb.ai/subikksha-indian-institute-of-technology-madras/MountainCar-RL/runs/djxwpq11' target=\"_blank\">vivid-sweep-5</a></strong> to <a href='https://wandb.ai/subikksha-indian-institute-of-technology-madras/MountainCar-RL' target=\"_blank\">Weights & Biases</a> (<a href='https://wandb.me/developer-guide' target=\"_blank\">docs</a>)<br>Sweep page: <a href='https://wandb.ai/subikksha-indian-institute-of-technology-madras/MountainCar-RL/sweeps/cppzkh1g' target=\"_blank\">https://wandb.ai/subikksha-indian-institute-of-technology-madras/MountainCar-RL/sweeps/cppzkh1g</a>"
            ]
          },
          "metadata": {}
        },
        {
          "output_type": "display_data",
          "data": {
            "text/plain": [
              "<IPython.core.display.HTML object>"
            ],
            "text/html": [
              " View project at <a href='https://wandb.ai/subikksha-indian-institute-of-technology-madras/MountainCar-RL' target=\"_blank\">https://wandb.ai/subikksha-indian-institute-of-technology-madras/MountainCar-RL</a>"
            ]
          },
          "metadata": {}
        },
        {
          "output_type": "display_data",
          "data": {
            "text/plain": [
              "<IPython.core.display.HTML object>"
            ],
            "text/html": [
              " View sweep at <a href='https://wandb.ai/subikksha-indian-institute-of-technology-madras/MountainCar-RL/sweeps/cppzkh1g' target=\"_blank\">https://wandb.ai/subikksha-indian-institute-of-technology-madras/MountainCar-RL/sweeps/cppzkh1g</a>"
            ]
          },
          "metadata": {}
        },
        {
          "output_type": "display_data",
          "data": {
            "text/plain": [
              "<IPython.core.display.HTML object>"
            ],
            "text/html": [
              " View run at <a href='https://wandb.ai/subikksha-indian-institute-of-technology-madras/MountainCar-RL/runs/djxwpq11' target=\"_blank\">https://wandb.ai/subikksha-indian-institute-of-technology-madras/MountainCar-RL/runs/djxwpq11</a>"
            ]
          },
          "metadata": {}
        },
        {
          "output_type": "stream",
          "name": "stdout",
          "text": [
            "Seed 42, Episode 100, Total Reward: -200.0\n",
            "Seed 42, Episode 200, Total Reward: -200.0\n",
            "Seed 42, Episode 300, Total Reward: -200.0\n",
            "Seed 42, Episode 400, Total Reward: -200.0\n",
            "Seed 42, Episode 500, Total Reward: -200.0\n",
            "Seed 42, Episode 600, Total Reward: -200.0\n",
            "Seed 42, Episode 700, Total Reward: -200.0\n",
            "Seed 42, Episode 800, Total Reward: -173.0\n",
            "Seed 42, Episode 900, Total Reward: -200.0\n",
            "Seed 42, Episode 1000, Total Reward: -200.0\n",
            "Seed 42, Episode 1100, Total Reward: -190.0\n",
            "Seed 42, Episode 1200, Total Reward: -156.0\n",
            "Seed 42, Episode 1300, Total Reward: -195.0\n",
            "Seed 42, Episode 1400, Total Reward: -181.0\n",
            "Seed 42, Episode 1500, Total Reward: -167.0\n",
            "Seed 42, Episode 1600, Total Reward: -200.0\n",
            "Seed 42, Episode 1700, Total Reward: -200.0\n",
            "Seed 42, Episode 1800, Total Reward: -200.0\n",
            "Seed 42, Episode 1900, Total Reward: -200.0\n",
            "Seed 42, Episode 2000, Total Reward: -200.0\n",
            "Seed 42, Episode 2100, Total Reward: -200.0\n",
            "Seed 42, Episode 2200, Total Reward: -200.0\n",
            "Seed 42, Episode 2300, Total Reward: -200.0\n",
            "Seed 42, Episode 2400, Total Reward: -155.0\n",
            "Seed 42, Episode 2500, Total Reward: -200.0\n",
            "Seed 42, Episode 2600, Total Reward: -185.0\n",
            "Seed 42, Episode 2700, Total Reward: -172.0\n",
            "Seed 42, Episode 2800, Total Reward: -200.0\n",
            "Seed 42, Episode 2900, Total Reward: -200.0\n",
            "Seed 42, Episode 3000, Total Reward: -158.0\n",
            "Seed 42, Episode 3100, Total Reward: -200.0\n",
            "Seed 42, Episode 3200, Total Reward: -163.0\n",
            "Seed 42, Episode 3300, Total Reward: -159.0\n",
            "Seed 42, Episode 3400, Total Reward: -190.0\n",
            "Seed 42, Episode 3500, Total Reward: -200.0\n",
            "Seed 42, Episode 3600, Total Reward: -191.0\n",
            "Seed 42, Episode 3700, Total Reward: -154.0\n",
            "Seed 42, Episode 3800, Total Reward: -190.0\n",
            "Seed 42, Episode 3900, Total Reward: -200.0\n",
            "Seed 42, Episode 4000, Total Reward: -200.0\n",
            "Seed 42, Episode 4100, Total Reward: -159.0\n",
            "Seed 42, Episode 4200, Total Reward: -189.0\n",
            "Seed 42, Episode 4300, Total Reward: -150.0\n",
            "Seed 42, Episode 4400, Total Reward: -163.0\n",
            "Seed 42, Episode 4500, Total Reward: -187.0\n",
            "Seed 42, Episode 4600, Total Reward: -200.0\n",
            "Seed 42, Episode 4700, Total Reward: -200.0\n",
            "Seed 42, Episode 4800, Total Reward: -166.0\n",
            "Seed 42, Episode 4900, Total Reward: -200.0\n",
            "Seed 42, Episode 5000, Total Reward: -179.0\n",
            "Q-learning - Seed 42, Episode 100, Total Reward: -200.0\n",
            "Q-learning - Seed 42, Episode 200, Total Reward: -200.0\n",
            "Q-learning - Seed 42, Episode 300, Total Reward: -200.0\n",
            "Q-learning - Seed 42, Episode 400, Total Reward: -200.0\n",
            "Q-learning - Seed 42, Episode 500, Total Reward: -200.0\n",
            "Q-learning - Seed 42, Episode 600, Total Reward: -200.0\n",
            "Q-learning - Seed 42, Episode 700, Total Reward: -200.0\n",
            "Q-learning - Seed 42, Episode 800, Total Reward: -200.0\n",
            "Q-learning - Seed 42, Episode 900, Total Reward: -200.0\n",
            "Q-learning - Seed 42, Episode 1000, Total Reward: -200.0\n",
            "Q-learning - Seed 42, Episode 1100, Total Reward: -197.0\n",
            "Q-learning - Seed 42, Episode 1200, Total Reward: -200.0\n",
            "Q-learning - Seed 42, Episode 1300, Total Reward: -200.0\n",
            "Q-learning - Seed 42, Episode 1400, Total Reward: -200.0\n",
            "Q-learning - Seed 42, Episode 1500, Total Reward: -200.0\n",
            "Q-learning - Seed 42, Episode 1600, Total Reward: -200.0\n",
            "Q-learning - Seed 42, Episode 1700, Total Reward: -160.0\n",
            "Q-learning - Seed 42, Episode 1800, Total Reward: -155.0\n",
            "Q-learning - Seed 42, Episode 1900, Total Reward: -164.0\n",
            "Q-learning - Seed 42, Episode 2000, Total Reward: -200.0\n",
            "Q-learning - Seed 42, Episode 2100, Total Reward: -200.0\n",
            "Q-learning - Seed 42, Episode 2200, Total Reward: -182.0\n",
            "Q-learning - Seed 42, Episode 2300, Total Reward: -154.0\n",
            "Q-learning - Seed 42, Episode 2400, Total Reward: -180.0\n",
            "Q-learning - Seed 42, Episode 2500, Total Reward: -200.0\n",
            "Q-learning - Seed 42, Episode 2600, Total Reward: -200.0\n",
            "Q-learning - Seed 42, Episode 2700, Total Reward: -160.0\n",
            "Q-learning - Seed 42, Episode 2800, Total Reward: -200.0\n",
            "Q-learning - Seed 42, Episode 2900, Total Reward: -200.0\n",
            "Q-learning - Seed 42, Episode 3000, Total Reward: -157.0\n",
            "Q-learning - Seed 42, Episode 3100, Total Reward: -200.0\n",
            "Q-learning - Seed 42, Episode 3200, Total Reward: -144.0\n",
            "Q-learning - Seed 42, Episode 3300, Total Reward: -154.0\n",
            "Q-learning - Seed 42, Episode 3400, Total Reward: -198.0\n",
            "Q-learning - Seed 42, Episode 3500, Total Reward: -175.0\n",
            "Q-learning - Seed 42, Episode 3600, Total Reward: -112.0\n",
            "Q-learning - Seed 42, Episode 3700, Total Reward: -200.0\n",
            "Q-learning - Seed 42, Episode 3800, Total Reward: -196.0\n",
            "Q-learning - Seed 42, Episode 3900, Total Reward: -187.0\n",
            "Q-learning - Seed 42, Episode 4000, Total Reward: -148.0\n",
            "Q-learning - Seed 42, Episode 4100, Total Reward: -136.0\n",
            "Q-learning - Seed 42, Episode 4200, Total Reward: -187.0\n",
            "Q-learning - Seed 42, Episode 4300, Total Reward: -153.0\n",
            "Q-learning - Seed 42, Episode 4400, Total Reward: -151.0\n",
            "Q-learning - Seed 42, Episode 4500, Total Reward: -200.0\n",
            "Q-learning - Seed 42, Episode 4600, Total Reward: -155.0\n",
            "Q-learning - Seed 42, Episode 4700, Total Reward: -150.0\n",
            "Q-learning - Seed 42, Episode 4800, Total Reward: -148.0\n",
            "Q-learning - Seed 42, Episode 4900, Total Reward: -145.0\n",
            "Q-learning - Seed 42, Episode 5000, Total Reward: -200.0\n"
          ]
        },
        {
          "output_type": "display_data",
          "data": {
            "text/plain": [
              "<IPython.core.display.HTML object>"
            ],
            "text/html": []
          },
          "metadata": {}
        },
        {
          "output_type": "display_data",
          "data": {
            "text/plain": [
              "<IPython.core.display.HTML object>"
            ],
            "text/html": [
              "<br>    <style><br>        .wandb-row {<br>            display: flex;<br>            flex-direction: row;<br>            flex-wrap: wrap;<br>            justify-content: flex-start;<br>            width: 100%;<br>        }<br>        .wandb-col {<br>            display: flex;<br>            flex-direction: column;<br>            flex-basis: 100%;<br>            flex: 1;<br>            padding: 10px;<br>        }<br>    </style><br><div class=\"wandb-row\"><div class=\"wandb-col\"><h3>Run history:</h3><br/><table class=\"wandb\"><tr><td>avg_return_q_learning</td><td>▁</td></tr><tr><td>avg_return_sarsa</td><td>▁</td></tr></table><br/></div><div class=\"wandb-col\"><h3>Run summary:</h3><br/><table class=\"wandb\"><tr><td>avg_return_q_learning</td><td>-169.69</td></tr><tr><td>avg_return_sarsa</td><td>-177.8</td></tr></table><br/></div></div>"
            ]
          },
          "metadata": {}
        },
        {
          "output_type": "display_data",
          "data": {
            "text/plain": [
              "<IPython.core.display.HTML object>"
            ],
            "text/html": [
              " View run <strong style=\"color:#cdcd00\">alpha_0.2_eps_0.1_temp_0.2_bins_25</strong> at: <a href='https://wandb.ai/subikksha-indian-institute-of-technology-madras/MountainCar-RL/runs/djxwpq11' target=\"_blank\">https://wandb.ai/subikksha-indian-institute-of-technology-madras/MountainCar-RL/runs/djxwpq11</a><br> View project at: <a href='https://wandb.ai/subikksha-indian-institute-of-technology-madras/MountainCar-RL' target=\"_blank\">https://wandb.ai/subikksha-indian-institute-of-technology-madras/MountainCar-RL</a><br>Synced 5 W&B file(s), 0 media file(s), 0 artifact file(s) and 0 other file(s)"
            ]
          },
          "metadata": {}
        },
        {
          "output_type": "display_data",
          "data": {
            "text/plain": [
              "<IPython.core.display.HTML object>"
            ],
            "text/html": [
              "Find logs at: <code>./wandb/run-20250322_200555-djxwpq11/logs</code>"
            ]
          },
          "metadata": {}
        },
        {
          "output_type": "stream",
          "name": "stderr",
          "text": [
            "\u001b[34m\u001b[1mwandb\u001b[0m: Agent Starting Run: ehri4y14 with config:\n",
            "\u001b[34m\u001b[1mwandb\u001b[0m: \talpha: 0.05\n",
            "\u001b[34m\u001b[1mwandb\u001b[0m: \tepsilon: 0.05\n",
            "\u001b[34m\u001b[1mwandb\u001b[0m: \tgamma: 0.99\n",
            "\u001b[34m\u001b[1mwandb\u001b[0m: \tmax_steps: 200\n",
            "\u001b[34m\u001b[1mwandb\u001b[0m: \tnum_bins: 15\n",
            "\u001b[34m\u001b[1mwandb\u001b[0m: \tnum_episodes: 5000\n",
            "\u001b[34m\u001b[1mwandb\u001b[0m: \ttemperature: 1\n"
          ]
        },
        {
          "output_type": "display_data",
          "data": {
            "text/plain": [
              "<IPython.core.display.HTML object>"
            ],
            "text/html": [
              "Ignoring project 'MountainCar-RL' when running a sweep."
            ]
          },
          "metadata": {}
        },
        {
          "output_type": "display_data",
          "data": {
            "text/plain": [
              "<IPython.core.display.HTML object>"
            ],
            "text/html": [
              "Ignoring entity 'subikksha' when running a sweep."
            ]
          },
          "metadata": {}
        },
        {
          "output_type": "display_data",
          "data": {
            "text/plain": [
              "<IPython.core.display.HTML object>"
            ],
            "text/html": [
              "Tracking run with wandb version 0.19.8"
            ]
          },
          "metadata": {}
        },
        {
          "output_type": "display_data",
          "data": {
            "text/plain": [
              "<IPython.core.display.HTML object>"
            ],
            "text/html": [
              "Run data is saved locally in <code>/content/wandb/run-20250322_200816-ehri4y14</code>"
            ]
          },
          "metadata": {}
        },
        {
          "output_type": "display_data",
          "data": {
            "text/plain": [
              "<IPython.core.display.HTML object>"
            ],
            "text/html": [
              "Syncing run <strong><a href='https://wandb.ai/subikksha-indian-institute-of-technology-madras/MountainCar-RL/runs/ehri4y14' target=\"_blank\">confused-sweep-6</a></strong> to <a href='https://wandb.ai/subikksha-indian-institute-of-technology-madras/MountainCar-RL' target=\"_blank\">Weights & Biases</a> (<a href='https://wandb.me/developer-guide' target=\"_blank\">docs</a>)<br>Sweep page: <a href='https://wandb.ai/subikksha-indian-institute-of-technology-madras/MountainCar-RL/sweeps/cppzkh1g' target=\"_blank\">https://wandb.ai/subikksha-indian-institute-of-technology-madras/MountainCar-RL/sweeps/cppzkh1g</a>"
            ]
          },
          "metadata": {}
        },
        {
          "output_type": "display_data",
          "data": {
            "text/plain": [
              "<IPython.core.display.HTML object>"
            ],
            "text/html": [
              " View project at <a href='https://wandb.ai/subikksha-indian-institute-of-technology-madras/MountainCar-RL' target=\"_blank\">https://wandb.ai/subikksha-indian-institute-of-technology-madras/MountainCar-RL</a>"
            ]
          },
          "metadata": {}
        },
        {
          "output_type": "display_data",
          "data": {
            "text/plain": [
              "<IPython.core.display.HTML object>"
            ],
            "text/html": [
              " View sweep at <a href='https://wandb.ai/subikksha-indian-institute-of-technology-madras/MountainCar-RL/sweeps/cppzkh1g' target=\"_blank\">https://wandb.ai/subikksha-indian-institute-of-technology-madras/MountainCar-RL/sweeps/cppzkh1g</a>"
            ]
          },
          "metadata": {}
        },
        {
          "output_type": "display_data",
          "data": {
            "text/plain": [
              "<IPython.core.display.HTML object>"
            ],
            "text/html": [
              " View run at <a href='https://wandb.ai/subikksha-indian-institute-of-technology-madras/MountainCar-RL/runs/ehri4y14' target=\"_blank\">https://wandb.ai/subikksha-indian-institute-of-technology-madras/MountainCar-RL/runs/ehri4y14</a>"
            ]
          },
          "metadata": {}
        },
        {
          "output_type": "stream",
          "name": "stdout",
          "text": [
            "Seed 42, Episode 100, Total Reward: -200.0\n",
            "Seed 42, Episode 200, Total Reward: -200.0\n",
            "Seed 42, Episode 300, Total Reward: -200.0\n",
            "Seed 42, Episode 400, Total Reward: -200.0\n",
            "Seed 42, Episode 500, Total Reward: -200.0\n",
            "Seed 42, Episode 600, Total Reward: -200.0\n",
            "Seed 42, Episode 700, Total Reward: -200.0\n",
            "Seed 42, Episode 800, Total Reward: -175.0\n",
            "Seed 42, Episode 900, Total Reward: -176.0\n",
            "Seed 42, Episode 1000, Total Reward: -195.0\n",
            "Seed 42, Episode 1100, Total Reward: -200.0\n",
            "Seed 42, Episode 1200, Total Reward: -164.0\n",
            "Seed 42, Episode 1300, Total Reward: -195.0\n",
            "Seed 42, Episode 1400, Total Reward: -179.0\n",
            "Seed 42, Episode 1500, Total Reward: -200.0\n",
            "Seed 42, Episode 1600, Total Reward: -200.0\n",
            "Seed 42, Episode 1700, Total Reward: -170.0\n",
            "Seed 42, Episode 1800, Total Reward: -148.0\n",
            "Seed 42, Episode 1900, Total Reward: -200.0\n",
            "Seed 42, Episode 2000, Total Reward: -178.0\n",
            "Seed 42, Episode 2100, Total Reward: -171.0\n",
            "Seed 42, Episode 2200, Total Reward: -150.0\n",
            "Seed 42, Episode 2300, Total Reward: -200.0\n",
            "Seed 42, Episode 2400, Total Reward: -160.0\n",
            "Seed 42, Episode 2500, Total Reward: -131.0\n",
            "Seed 42, Episode 2600, Total Reward: -200.0\n",
            "Seed 42, Episode 2700, Total Reward: -174.0\n",
            "Seed 42, Episode 2800, Total Reward: -158.0\n",
            "Seed 42, Episode 2900, Total Reward: -172.0\n",
            "Seed 42, Episode 3000, Total Reward: -166.0\n",
            "Seed 42, Episode 3100, Total Reward: -151.0\n",
            "Seed 42, Episode 3200, Total Reward: -156.0\n",
            "Seed 42, Episode 3300, Total Reward: -163.0\n",
            "Seed 42, Episode 3400, Total Reward: -165.0\n",
            "Seed 42, Episode 3500, Total Reward: -153.0\n",
            "Seed 42, Episode 3600, Total Reward: -151.0\n",
            "Seed 42, Episode 3700, Total Reward: -146.0\n",
            "Seed 42, Episode 3800, Total Reward: -182.0\n",
            "Seed 42, Episode 3900, Total Reward: -196.0\n",
            "Seed 42, Episode 4000, Total Reward: -151.0\n",
            "Seed 42, Episode 4100, Total Reward: -200.0\n",
            "Seed 42, Episode 4200, Total Reward: -116.0\n",
            "Seed 42, Episode 4300, Total Reward: -173.0\n",
            "Seed 42, Episode 4400, Total Reward: -159.0\n",
            "Seed 42, Episode 4500, Total Reward: -188.0\n",
            "Seed 42, Episode 4600, Total Reward: -173.0\n",
            "Seed 42, Episode 4700, Total Reward: -162.0\n",
            "Seed 42, Episode 4800, Total Reward: -149.0\n",
            "Seed 42, Episode 4900, Total Reward: -157.0\n",
            "Seed 42, Episode 5000, Total Reward: -199.0\n",
            "Q-learning - Seed 42, Episode 100, Total Reward: -200.0\n",
            "Q-learning - Seed 42, Episode 200, Total Reward: -200.0\n",
            "Q-learning - Seed 42, Episode 300, Total Reward: -200.0\n",
            "Q-learning - Seed 42, Episode 400, Total Reward: -200.0\n",
            "Q-learning - Seed 42, Episode 500, Total Reward: -200.0\n",
            "Q-learning - Seed 42, Episode 600, Total Reward: -200.0\n",
            "Q-learning - Seed 42, Episode 700, Total Reward: -200.0\n",
            "Q-learning - Seed 42, Episode 800, Total Reward: -200.0\n",
            "Q-learning - Seed 42, Episode 900, Total Reward: -200.0\n",
            "Q-learning - Seed 42, Episode 1000, Total Reward: -200.0\n",
            "Q-learning - Seed 42, Episode 1100, Total Reward: -200.0\n",
            "Q-learning - Seed 42, Episode 1200, Total Reward: -200.0\n",
            "Q-learning - Seed 42, Episode 1300, Total Reward: -200.0\n",
            "Q-learning - Seed 42, Episode 1400, Total Reward: -200.0\n",
            "Q-learning - Seed 42, Episode 1500, Total Reward: -200.0\n",
            "Q-learning - Seed 42, Episode 1600, Total Reward: -200.0\n",
            "Q-learning - Seed 42, Episode 1700, Total Reward: -200.0\n",
            "Q-learning - Seed 42, Episode 1800, Total Reward: -200.0\n",
            "Q-learning - Seed 42, Episode 1900, Total Reward: -200.0\n",
            "Q-learning - Seed 42, Episode 2000, Total Reward: -200.0\n",
            "Q-learning - Seed 42, Episode 2100, Total Reward: -200.0\n",
            "Q-learning - Seed 42, Episode 2200, Total Reward: -200.0\n",
            "Q-learning - Seed 42, Episode 2300, Total Reward: -200.0\n",
            "Q-learning - Seed 42, Episode 2400, Total Reward: -200.0\n",
            "Q-learning - Seed 42, Episode 2500, Total Reward: -200.0\n",
            "Q-learning - Seed 42, Episode 2600, Total Reward: -200.0\n",
            "Q-learning - Seed 42, Episode 2700, Total Reward: -200.0\n",
            "Q-learning - Seed 42, Episode 2800, Total Reward: -200.0\n",
            "Q-learning - Seed 42, Episode 2900, Total Reward: -200.0\n",
            "Q-learning - Seed 42, Episode 3000, Total Reward: -200.0\n",
            "Q-learning - Seed 42, Episode 3100, Total Reward: -200.0\n",
            "Q-learning - Seed 42, Episode 3200, Total Reward: -200.0\n",
            "Q-learning - Seed 42, Episode 3300, Total Reward: -200.0\n",
            "Q-learning - Seed 42, Episode 3400, Total Reward: -200.0\n",
            "Q-learning - Seed 42, Episode 3500, Total Reward: -200.0\n",
            "Q-learning - Seed 42, Episode 3600, Total Reward: -200.0\n",
            "Q-learning - Seed 42, Episode 3700, Total Reward: -200.0\n",
            "Q-learning - Seed 42, Episode 3800, Total Reward: -200.0\n",
            "Q-learning - Seed 42, Episode 3900, Total Reward: -200.0\n",
            "Q-learning - Seed 42, Episode 4000, Total Reward: -200.0\n",
            "Q-learning - Seed 42, Episode 4100, Total Reward: -200.0\n",
            "Q-learning - Seed 42, Episode 4200, Total Reward: -200.0\n",
            "Q-learning - Seed 42, Episode 4300, Total Reward: -200.0\n",
            "Q-learning - Seed 42, Episode 4400, Total Reward: -200.0\n",
            "Q-learning - Seed 42, Episode 4500, Total Reward: -200.0\n",
            "Q-learning - Seed 42, Episode 4600, Total Reward: -200.0\n",
            "Q-learning - Seed 42, Episode 4700, Total Reward: -200.0\n",
            "Q-learning - Seed 42, Episode 4800, Total Reward: -200.0\n",
            "Q-learning - Seed 42, Episode 4900, Total Reward: -200.0\n",
            "Q-learning - Seed 42, Episode 5000, Total Reward: -200.0\n"
          ]
        },
        {
          "output_type": "display_data",
          "data": {
            "text/plain": [
              "<IPython.core.display.HTML object>"
            ],
            "text/html": []
          },
          "metadata": {}
        },
        {
          "output_type": "display_data",
          "data": {
            "text/plain": [
              "<IPython.core.display.HTML object>"
            ],
            "text/html": [
              "<br>    <style><br>        .wandb-row {<br>            display: flex;<br>            flex-direction: row;<br>            flex-wrap: wrap;<br>            justify-content: flex-start;<br>            width: 100%;<br>        }<br>        .wandb-col {<br>            display: flex;<br>            flex-direction: column;<br>            flex-basis: 100%;<br>            flex: 1;<br>            padding: 10px;<br>        }<br>    </style><br><div class=\"wandb-row\"><div class=\"wandb-col\"><h3>Run history:</h3><br/><table class=\"wandb\"><tr><td>avg_return_q_learning</td><td>▁</td></tr><tr><td>avg_return_sarsa</td><td>▁</td></tr></table><br/></div><div class=\"wandb-col\"><h3>Run summary:</h3><br/><table class=\"wandb\"><tr><td>avg_return_q_learning</td><td>-200</td></tr><tr><td>avg_return_sarsa</td><td>-176.3</td></tr></table><br/></div></div>"
            ]
          },
          "metadata": {}
        },
        {
          "output_type": "display_data",
          "data": {
            "text/plain": [
              "<IPython.core.display.HTML object>"
            ],
            "text/html": [
              " View run <strong style=\"color:#cdcd00\">alpha_0.05_eps_0.05_temp_1_bins_15</strong> at: <a href='https://wandb.ai/subikksha-indian-institute-of-technology-madras/MountainCar-RL/runs/ehri4y14' target=\"_blank\">https://wandb.ai/subikksha-indian-institute-of-technology-madras/MountainCar-RL/runs/ehri4y14</a><br> View project at: <a href='https://wandb.ai/subikksha-indian-institute-of-technology-madras/MountainCar-RL' target=\"_blank\">https://wandb.ai/subikksha-indian-institute-of-technology-madras/MountainCar-RL</a><br>Synced 5 W&B file(s), 0 media file(s), 0 artifact file(s) and 0 other file(s)"
            ]
          },
          "metadata": {}
        },
        {
          "output_type": "display_data",
          "data": {
            "text/plain": [
              "<IPython.core.display.HTML object>"
            ],
            "text/html": [
              "Find logs at: <code>./wandb/run-20250322_200816-ehri4y14/logs</code>"
            ]
          },
          "metadata": {}
        },
        {
          "output_type": "stream",
          "name": "stderr",
          "text": [
            "\u001b[34m\u001b[1mwandb\u001b[0m: Agent Starting Run: aylsn08f with config:\n",
            "\u001b[34m\u001b[1mwandb\u001b[0m: \talpha: 0.15\n",
            "\u001b[34m\u001b[1mwandb\u001b[0m: \tepsilon: 0.05\n",
            "\u001b[34m\u001b[1mwandb\u001b[0m: \tgamma: 0.99\n",
            "\u001b[34m\u001b[1mwandb\u001b[0m: \tmax_steps: 200\n",
            "\u001b[34m\u001b[1mwandb\u001b[0m: \tnum_bins: 25\n",
            "\u001b[34m\u001b[1mwandb\u001b[0m: \tnum_episodes: 5000\n",
            "\u001b[34m\u001b[1mwandb\u001b[0m: \ttemperature: 0.5\n"
          ]
        },
        {
          "output_type": "display_data",
          "data": {
            "text/plain": [
              "<IPython.core.display.HTML object>"
            ],
            "text/html": [
              "Ignoring project 'MountainCar-RL' when running a sweep."
            ]
          },
          "metadata": {}
        },
        {
          "output_type": "display_data",
          "data": {
            "text/plain": [
              "<IPython.core.display.HTML object>"
            ],
            "text/html": [
              "Ignoring entity 'subikksha' when running a sweep."
            ]
          },
          "metadata": {}
        },
        {
          "output_type": "display_data",
          "data": {
            "text/plain": [
              "<IPython.core.display.HTML object>"
            ],
            "text/html": [
              "Tracking run with wandb version 0.19.8"
            ]
          },
          "metadata": {}
        },
        {
          "output_type": "display_data",
          "data": {
            "text/plain": [
              "<IPython.core.display.HTML object>"
            ],
            "text/html": [
              "Run data is saved locally in <code>/content/wandb/run-20250322_201049-aylsn08f</code>"
            ]
          },
          "metadata": {}
        },
        {
          "output_type": "display_data",
          "data": {
            "text/plain": [
              "<IPython.core.display.HTML object>"
            ],
            "text/html": [
              "Syncing run <strong><a href='https://wandb.ai/subikksha-indian-institute-of-technology-madras/MountainCar-RL/runs/aylsn08f' target=\"_blank\">generous-sweep-7</a></strong> to <a href='https://wandb.ai/subikksha-indian-institute-of-technology-madras/MountainCar-RL' target=\"_blank\">Weights & Biases</a> (<a href='https://wandb.me/developer-guide' target=\"_blank\">docs</a>)<br>Sweep page: <a href='https://wandb.ai/subikksha-indian-institute-of-technology-madras/MountainCar-RL/sweeps/cppzkh1g' target=\"_blank\">https://wandb.ai/subikksha-indian-institute-of-technology-madras/MountainCar-RL/sweeps/cppzkh1g</a>"
            ]
          },
          "metadata": {}
        },
        {
          "output_type": "display_data",
          "data": {
            "text/plain": [
              "<IPython.core.display.HTML object>"
            ],
            "text/html": [
              " View project at <a href='https://wandb.ai/subikksha-indian-institute-of-technology-madras/MountainCar-RL' target=\"_blank\">https://wandb.ai/subikksha-indian-institute-of-technology-madras/MountainCar-RL</a>"
            ]
          },
          "metadata": {}
        },
        {
          "output_type": "display_data",
          "data": {
            "text/plain": [
              "<IPython.core.display.HTML object>"
            ],
            "text/html": [
              " View sweep at <a href='https://wandb.ai/subikksha-indian-institute-of-technology-madras/MountainCar-RL/sweeps/cppzkh1g' target=\"_blank\">https://wandb.ai/subikksha-indian-institute-of-technology-madras/MountainCar-RL/sweeps/cppzkh1g</a>"
            ]
          },
          "metadata": {}
        },
        {
          "output_type": "display_data",
          "data": {
            "text/plain": [
              "<IPython.core.display.HTML object>"
            ],
            "text/html": [
              " View run at <a href='https://wandb.ai/subikksha-indian-institute-of-technology-madras/MountainCar-RL/runs/aylsn08f' target=\"_blank\">https://wandb.ai/subikksha-indian-institute-of-technology-madras/MountainCar-RL/runs/aylsn08f</a>"
            ]
          },
          "metadata": {}
        },
        {
          "output_type": "stream",
          "name": "stdout",
          "text": [
            "Seed 42, Episode 100, Total Reward: -200.0\n",
            "Seed 42, Episode 200, Total Reward: -200.0\n",
            "Seed 42, Episode 300, Total Reward: -200.0\n",
            "Seed 42, Episode 400, Total Reward: -200.0\n",
            "Seed 42, Episode 500, Total Reward: -200.0\n",
            "Seed 42, Episode 600, Total Reward: -200.0\n",
            "Seed 42, Episode 700, Total Reward: -192.0\n",
            "Seed 42, Episode 800, Total Reward: -200.0\n",
            "Seed 42, Episode 900, Total Reward: -200.0\n",
            "Seed 42, Episode 1000, Total Reward: -188.0\n",
            "Seed 42, Episode 1100, Total Reward: -200.0\n",
            "Seed 42, Episode 1200, Total Reward: -200.0\n",
            "Seed 42, Episode 1300, Total Reward: -191.0\n",
            "Seed 42, Episode 1400, Total Reward: -200.0\n",
            "Seed 42, Episode 1500, Total Reward: -200.0\n",
            "Seed 42, Episode 1600, Total Reward: -200.0\n",
            "Seed 42, Episode 1700, Total Reward: -156.0\n",
            "Seed 42, Episode 1800, Total Reward: -155.0\n",
            "Seed 42, Episode 1900, Total Reward: -156.0\n",
            "Seed 42, Episode 2000, Total Reward: -200.0\n",
            "Seed 42, Episode 2100, Total Reward: -200.0\n",
            "Seed 42, Episode 2200, Total Reward: -160.0\n",
            "Seed 42, Episode 2300, Total Reward: -153.0\n",
            "Seed 42, Episode 2400, Total Reward: -163.0\n",
            "Seed 42, Episode 2500, Total Reward: -190.0\n",
            "Seed 42, Episode 2600, Total Reward: -200.0\n",
            "Seed 42, Episode 2700, Total Reward: -161.0\n",
            "Seed 42, Episode 2800, Total Reward: -153.0\n",
            "Seed 42, Episode 2900, Total Reward: -148.0\n",
            "Seed 42, Episode 3000, Total Reward: -200.0\n",
            "Seed 42, Episode 3100, Total Reward: -154.0\n",
            "Seed 42, Episode 3200, Total Reward: -151.0\n",
            "Seed 42, Episode 3300, Total Reward: -158.0\n",
            "Seed 42, Episode 3400, Total Reward: -118.0\n",
            "Seed 42, Episode 3500, Total Reward: -139.0\n",
            "Seed 42, Episode 3600, Total Reward: -200.0\n",
            "Seed 42, Episode 3700, Total Reward: -155.0\n",
            "Seed 42, Episode 3800, Total Reward: -198.0\n",
            "Seed 42, Episode 3900, Total Reward: -200.0\n",
            "Seed 42, Episode 4000, Total Reward: -151.0\n",
            "Seed 42, Episode 4100, Total Reward: -158.0\n",
            "Seed 42, Episode 4200, Total Reward: -189.0\n",
            "Seed 42, Episode 4300, Total Reward: -200.0\n",
            "Seed 42, Episode 4400, Total Reward: -157.0\n",
            "Seed 42, Episode 4500, Total Reward: -193.0\n",
            "Seed 42, Episode 4600, Total Reward: -153.0\n",
            "Seed 42, Episode 4700, Total Reward: -172.0\n",
            "Seed 42, Episode 4800, Total Reward: -138.0\n",
            "Seed 42, Episode 4900, Total Reward: -149.0\n",
            "Seed 42, Episode 5000, Total Reward: -186.0\n",
            "Q-learning - Seed 42, Episode 100, Total Reward: -200.0\n",
            "Q-learning - Seed 42, Episode 200, Total Reward: -200.0\n",
            "Q-learning - Seed 42, Episode 300, Total Reward: -200.0\n",
            "Q-learning - Seed 42, Episode 400, Total Reward: -200.0\n",
            "Q-learning - Seed 42, Episode 500, Total Reward: -200.0\n",
            "Q-learning - Seed 42, Episode 600, Total Reward: -200.0\n",
            "Q-learning - Seed 42, Episode 700, Total Reward: -200.0\n",
            "Q-learning - Seed 42, Episode 800, Total Reward: -200.0\n",
            "Q-learning - Seed 42, Episode 900, Total Reward: -200.0\n",
            "Q-learning - Seed 42, Episode 1000, Total Reward: -200.0\n",
            "Q-learning - Seed 42, Episode 1100, Total Reward: -200.0\n",
            "Q-learning - Seed 42, Episode 1200, Total Reward: -200.0\n",
            "Q-learning - Seed 42, Episode 1300, Total Reward: -196.0\n",
            "Q-learning - Seed 42, Episode 1400, Total Reward: -200.0\n",
            "Q-learning - Seed 42, Episode 1500, Total Reward: -200.0\n",
            "Q-learning - Seed 42, Episode 1600, Total Reward: -200.0\n",
            "Q-learning - Seed 42, Episode 1700, Total Reward: -200.0\n",
            "Q-learning - Seed 42, Episode 1800, Total Reward: -200.0\n",
            "Q-learning - Seed 42, Episode 1900, Total Reward: -200.0\n",
            "Q-learning - Seed 42, Episode 2000, Total Reward: -200.0\n",
            "Q-learning - Seed 42, Episode 2100, Total Reward: -200.0\n",
            "Q-learning - Seed 42, Episode 2200, Total Reward: -192.0\n",
            "Q-learning - Seed 42, Episode 2300, Total Reward: -200.0\n",
            "Q-learning - Seed 42, Episode 2400, Total Reward: -200.0\n",
            "Q-learning - Seed 42, Episode 2500, Total Reward: -200.0\n",
            "Q-learning - Seed 42, Episode 2600, Total Reward: -200.0\n",
            "Q-learning - Seed 42, Episode 2700, Total Reward: -159.0\n",
            "Q-learning - Seed 42, Episode 2800, Total Reward: -167.0\n",
            "Q-learning - Seed 42, Episode 2900, Total Reward: -200.0\n",
            "Q-learning - Seed 42, Episode 3000, Total Reward: -172.0\n",
            "Q-learning - Seed 42, Episode 3100, Total Reward: -200.0\n",
            "Q-learning - Seed 42, Episode 3200, Total Reward: -200.0\n",
            "Q-learning - Seed 42, Episode 3300, Total Reward: -200.0\n",
            "Q-learning - Seed 42, Episode 3400, Total Reward: -197.0\n",
            "Q-learning - Seed 42, Episode 3500, Total Reward: -158.0\n",
            "Q-learning - Seed 42, Episode 3600, Total Reward: -200.0\n",
            "Q-learning - Seed 42, Episode 3700, Total Reward: -170.0\n",
            "Q-learning - Seed 42, Episode 3800, Total Reward: -200.0\n",
            "Q-learning - Seed 42, Episode 3900, Total Reward: -200.0\n",
            "Q-learning - Seed 42, Episode 4000, Total Reward: -200.0\n",
            "Q-learning - Seed 42, Episode 4100, Total Reward: -200.0\n",
            "Q-learning - Seed 42, Episode 4200, Total Reward: -200.0\n",
            "Q-learning - Seed 42, Episode 4300, Total Reward: -200.0\n",
            "Q-learning - Seed 42, Episode 4400, Total Reward: -200.0\n",
            "Q-learning - Seed 42, Episode 4500, Total Reward: -200.0\n",
            "Q-learning - Seed 42, Episode 4600, Total Reward: -156.0\n",
            "Q-learning - Seed 42, Episode 4700, Total Reward: -158.0\n",
            "Q-learning - Seed 42, Episode 4800, Total Reward: -200.0\n",
            "Q-learning - Seed 42, Episode 4900, Total Reward: -200.0\n",
            "Q-learning - Seed 42, Episode 5000, Total Reward: -195.0\n"
          ]
        },
        {
          "output_type": "display_data",
          "data": {
            "text/plain": [
              "<IPython.core.display.HTML object>"
            ],
            "text/html": []
          },
          "metadata": {}
        },
        {
          "output_type": "display_data",
          "data": {
            "text/plain": [
              "<IPython.core.display.HTML object>"
            ],
            "text/html": [
              "<br>    <style><br>        .wandb-row {<br>            display: flex;<br>            flex-direction: row;<br>            flex-wrap: wrap;<br>            justify-content: flex-start;<br>            width: 100%;<br>        }<br>        .wandb-col {<br>            display: flex;<br>            flex-direction: column;<br>            flex-basis: 100%;<br>            flex: 1;<br>            padding: 10px;<br>        }<br>    </style><br><div class=\"wandb-row\"><div class=\"wandb-col\"><h3>Run history:</h3><br/><table class=\"wandb\"><tr><td>avg_return_q_learning</td><td>▁</td></tr><tr><td>avg_return_sarsa</td><td>▁</td></tr></table><br/></div><div class=\"wandb-col\"><h3>Run summary:</h3><br/><table class=\"wandb\"><tr><td>avg_return_q_learning</td><td>-195.49</td></tr><tr><td>avg_return_sarsa</td><td>-165.7</td></tr></table><br/></div></div>"
            ]
          },
          "metadata": {}
        },
        {
          "output_type": "display_data",
          "data": {
            "text/plain": [
              "<IPython.core.display.HTML object>"
            ],
            "text/html": [
              " View run <strong style=\"color:#cdcd00\">alpha_0.15_eps_0.05_temp_0.5_bins_25</strong> at: <a href='https://wandb.ai/subikksha-indian-institute-of-technology-madras/MountainCar-RL/runs/aylsn08f' target=\"_blank\">https://wandb.ai/subikksha-indian-institute-of-technology-madras/MountainCar-RL/runs/aylsn08f</a><br> View project at: <a href='https://wandb.ai/subikksha-indian-institute-of-technology-madras/MountainCar-RL' target=\"_blank\">https://wandb.ai/subikksha-indian-institute-of-technology-madras/MountainCar-RL</a><br>Synced 5 W&B file(s), 0 media file(s), 0 artifact file(s) and 0 other file(s)"
            ]
          },
          "metadata": {}
        },
        {
          "output_type": "display_data",
          "data": {
            "text/plain": [
              "<IPython.core.display.HTML object>"
            ],
            "text/html": [
              "Find logs at: <code>./wandb/run-20250322_201049-aylsn08f/logs</code>"
            ]
          },
          "metadata": {}
        },
        {
          "output_type": "stream",
          "name": "stderr",
          "text": [
            "\u001b[34m\u001b[1mwandb\u001b[0m: Sweep Agent: Waiting for job.\n",
            "\u001b[34m\u001b[1mwandb\u001b[0m: Job received.\n",
            "\u001b[34m\u001b[1mwandb\u001b[0m: Agent Starting Run: mxg12252 with config:\n",
            "\u001b[34m\u001b[1mwandb\u001b[0m: \talpha: 0.15\n",
            "\u001b[34m\u001b[1mwandb\u001b[0m: \tepsilon: 0.01\n",
            "\u001b[34m\u001b[1mwandb\u001b[0m: \tgamma: 0.99\n",
            "\u001b[34m\u001b[1mwandb\u001b[0m: \tmax_steps: 200\n",
            "\u001b[34m\u001b[1mwandb\u001b[0m: \tnum_bins: 25\n",
            "\u001b[34m\u001b[1mwandb\u001b[0m: \tnum_episodes: 5000\n",
            "\u001b[34m\u001b[1mwandb\u001b[0m: \ttemperature: 0.2\n"
          ]
        },
        {
          "output_type": "display_data",
          "data": {
            "text/plain": [
              "<IPython.core.display.HTML object>"
            ],
            "text/html": [
              "Ignoring project 'MountainCar-RL' when running a sweep."
            ]
          },
          "metadata": {}
        },
        {
          "output_type": "display_data",
          "data": {
            "text/plain": [
              "<IPython.core.display.HTML object>"
            ],
            "text/html": [
              "Ignoring entity 'subikksha' when running a sweep."
            ]
          },
          "metadata": {}
        },
        {
          "output_type": "display_data",
          "data": {
            "text/plain": [
              "<IPython.core.display.HTML object>"
            ],
            "text/html": [
              "Tracking run with wandb version 0.19.8"
            ]
          },
          "metadata": {}
        },
        {
          "output_type": "display_data",
          "data": {
            "text/plain": [
              "<IPython.core.display.HTML object>"
            ],
            "text/html": [
              "Run data is saved locally in <code>/content/wandb/run-20250322_201326-mxg12252</code>"
            ]
          },
          "metadata": {}
        },
        {
          "output_type": "display_data",
          "data": {
            "text/plain": [
              "<IPython.core.display.HTML object>"
            ],
            "text/html": [
              "Syncing run <strong><a href='https://wandb.ai/subikksha-indian-institute-of-technology-madras/MountainCar-RL/runs/mxg12252' target=\"_blank\">jumping-sweep-8</a></strong> to <a href='https://wandb.ai/subikksha-indian-institute-of-technology-madras/MountainCar-RL' target=\"_blank\">Weights & Biases</a> (<a href='https://wandb.me/developer-guide' target=\"_blank\">docs</a>)<br>Sweep page: <a href='https://wandb.ai/subikksha-indian-institute-of-technology-madras/MountainCar-RL/sweeps/cppzkh1g' target=\"_blank\">https://wandb.ai/subikksha-indian-institute-of-technology-madras/MountainCar-RL/sweeps/cppzkh1g</a>"
            ]
          },
          "metadata": {}
        },
        {
          "output_type": "display_data",
          "data": {
            "text/plain": [
              "<IPython.core.display.HTML object>"
            ],
            "text/html": [
              " View project at <a href='https://wandb.ai/subikksha-indian-institute-of-technology-madras/MountainCar-RL' target=\"_blank\">https://wandb.ai/subikksha-indian-institute-of-technology-madras/MountainCar-RL</a>"
            ]
          },
          "metadata": {}
        },
        {
          "output_type": "display_data",
          "data": {
            "text/plain": [
              "<IPython.core.display.HTML object>"
            ],
            "text/html": [
              " View sweep at <a href='https://wandb.ai/subikksha-indian-institute-of-technology-madras/MountainCar-RL/sweeps/cppzkh1g' target=\"_blank\">https://wandb.ai/subikksha-indian-institute-of-technology-madras/MountainCar-RL/sweeps/cppzkh1g</a>"
            ]
          },
          "metadata": {}
        },
        {
          "output_type": "display_data",
          "data": {
            "text/plain": [
              "<IPython.core.display.HTML object>"
            ],
            "text/html": [
              " View run at <a href='https://wandb.ai/subikksha-indian-institute-of-technology-madras/MountainCar-RL/runs/mxg12252' target=\"_blank\">https://wandb.ai/subikksha-indian-institute-of-technology-madras/MountainCar-RL/runs/mxg12252</a>"
            ]
          },
          "metadata": {}
        },
        {
          "output_type": "stream",
          "name": "stdout",
          "text": [
            "Seed 42, Episode 100, Total Reward: -200.0\n",
            "Seed 42, Episode 200, Total Reward: -200.0\n",
            "Seed 42, Episode 300, Total Reward: -200.0\n",
            "Seed 42, Episode 400, Total Reward: -200.0\n",
            "Seed 42, Episode 500, Total Reward: -200.0\n",
            "Seed 42, Episode 600, Total Reward: -200.0\n",
            "Seed 42, Episode 700, Total Reward: -200.0\n",
            "Seed 42, Episode 800, Total Reward: -200.0\n",
            "Seed 42, Episode 900, Total Reward: -200.0\n",
            "Seed 42, Episode 1000, Total Reward: -198.0\n",
            "Seed 42, Episode 1100, Total Reward: -191.0\n",
            "Seed 42, Episode 1200, Total Reward: -170.0\n",
            "Seed 42, Episode 1300, Total Reward: -181.0\n",
            "Seed 42, Episode 1400, Total Reward: -194.0\n",
            "Seed 42, Episode 1500, Total Reward: -200.0\n",
            "Seed 42, Episode 1600, Total Reward: -200.0\n",
            "Seed 42, Episode 1700, Total Reward: -200.0\n",
            "Seed 42, Episode 1800, Total Reward: -158.0\n",
            "Seed 42, Episode 1900, Total Reward: -200.0\n",
            "Seed 42, Episode 2000, Total Reward: -149.0\n",
            "Seed 42, Episode 2100, Total Reward: -200.0\n",
            "Seed 42, Episode 2200, Total Reward: -180.0\n",
            "Seed 42, Episode 2300, Total Reward: -200.0\n",
            "Seed 42, Episode 2400, Total Reward: -200.0\n",
            "Seed 42, Episode 2500, Total Reward: -173.0\n",
            "Seed 42, Episode 2600, Total Reward: -151.0\n",
            "Seed 42, Episode 2700, Total Reward: -164.0\n",
            "Seed 42, Episode 2800, Total Reward: -162.0\n",
            "Seed 42, Episode 2900, Total Reward: -147.0\n",
            "Seed 42, Episode 3000, Total Reward: -157.0\n",
            "Seed 42, Episode 3100, Total Reward: -165.0\n",
            "Seed 42, Episode 3200, Total Reward: -155.0\n",
            "Seed 42, Episode 3300, Total Reward: -161.0\n",
            "Seed 42, Episode 3400, Total Reward: -200.0\n",
            "Seed 42, Episode 3500, Total Reward: -146.0\n",
            "Seed 42, Episode 3600, Total Reward: -191.0\n",
            "Seed 42, Episode 3700, Total Reward: -155.0\n",
            "Seed 42, Episode 3800, Total Reward: -178.0\n",
            "Seed 42, Episode 3900, Total Reward: -116.0\n",
            "Seed 42, Episode 4000, Total Reward: -200.0\n",
            "Seed 42, Episode 4100, Total Reward: -199.0\n",
            "Seed 42, Episode 4200, Total Reward: -188.0\n",
            "Seed 42, Episode 4300, Total Reward: -169.0\n",
            "Seed 42, Episode 4400, Total Reward: -144.0\n",
            "Seed 42, Episode 4500, Total Reward: -189.0\n",
            "Seed 42, Episode 4600, Total Reward: -168.0\n",
            "Seed 42, Episode 4700, Total Reward: -149.0\n",
            "Seed 42, Episode 4800, Total Reward: -159.0\n",
            "Seed 42, Episode 4900, Total Reward: -200.0\n",
            "Seed 42, Episode 5000, Total Reward: -200.0\n",
            "Q-learning - Seed 42, Episode 100, Total Reward: -200.0\n",
            "Q-learning - Seed 42, Episode 200, Total Reward: -200.0\n",
            "Q-learning - Seed 42, Episode 300, Total Reward: -200.0\n",
            "Q-learning - Seed 42, Episode 400, Total Reward: -200.0\n",
            "Q-learning - Seed 42, Episode 500, Total Reward: -200.0\n",
            "Q-learning - Seed 42, Episode 600, Total Reward: -200.0\n",
            "Q-learning - Seed 42, Episode 700, Total Reward: -200.0\n",
            "Q-learning - Seed 42, Episode 800, Total Reward: -200.0\n",
            "Q-learning - Seed 42, Episode 900, Total Reward: -200.0\n",
            "Q-learning - Seed 42, Episode 1000, Total Reward: -200.0\n",
            "Q-learning - Seed 42, Episode 1100, Total Reward: -196.0\n",
            "Q-learning - Seed 42, Episode 1200, Total Reward: -200.0\n",
            "Q-learning - Seed 42, Episode 1300, Total Reward: -195.0\n",
            "Q-learning - Seed 42, Episode 1400, Total Reward: -200.0\n",
            "Q-learning - Seed 42, Episode 1500, Total Reward: -200.0\n",
            "Q-learning - Seed 42, Episode 1600, Total Reward: -200.0\n",
            "Q-learning - Seed 42, Episode 1700, Total Reward: -200.0\n",
            "Q-learning - Seed 42, Episode 1800, Total Reward: -200.0\n",
            "Q-learning - Seed 42, Episode 1900, Total Reward: -200.0\n",
            "Q-learning - Seed 42, Episode 2000, Total Reward: -156.0\n",
            "Q-learning - Seed 42, Episode 2100, Total Reward: -157.0\n",
            "Q-learning - Seed 42, Episode 2200, Total Reward: -200.0\n",
            "Q-learning - Seed 42, Episode 2300, Total Reward: -174.0\n",
            "Q-learning - Seed 42, Episode 2400, Total Reward: -159.0\n",
            "Q-learning - Seed 42, Episode 2500, Total Reward: -200.0\n",
            "Q-learning - Seed 42, Episode 2600, Total Reward: -176.0\n",
            "Q-learning - Seed 42, Episode 2700, Total Reward: -200.0\n",
            "Q-learning - Seed 42, Episode 2800, Total Reward: -155.0\n",
            "Q-learning - Seed 42, Episode 2900, Total Reward: -151.0\n",
            "Q-learning - Seed 42, Episode 3000, Total Reward: -158.0\n",
            "Q-learning - Seed 42, Episode 3100, Total Reward: -161.0\n",
            "Q-learning - Seed 42, Episode 3200, Total Reward: -200.0\n",
            "Q-learning - Seed 42, Episode 3300, Total Reward: -200.0\n",
            "Q-learning - Seed 42, Episode 3400, Total Reward: -200.0\n",
            "Q-learning - Seed 42, Episode 3500, Total Reward: -200.0\n",
            "Q-learning - Seed 42, Episode 3600, Total Reward: -178.0\n",
            "Q-learning - Seed 42, Episode 3700, Total Reward: -149.0\n",
            "Q-learning - Seed 42, Episode 3800, Total Reward: -180.0\n",
            "Q-learning - Seed 42, Episode 3900, Total Reward: -193.0\n",
            "Q-learning - Seed 42, Episode 4000, Total Reward: -167.0\n",
            "Q-learning - Seed 42, Episode 4100, Total Reward: -200.0\n",
            "Q-learning - Seed 42, Episode 4200, Total Reward: -199.0\n",
            "Q-learning - Seed 42, Episode 4300, Total Reward: -143.0\n",
            "Q-learning - Seed 42, Episode 4400, Total Reward: -147.0\n",
            "Q-learning - Seed 42, Episode 4500, Total Reward: -190.0\n",
            "Q-learning - Seed 42, Episode 4600, Total Reward: -200.0\n",
            "Q-learning - Seed 42, Episode 4700, Total Reward: -164.0\n",
            "Q-learning - Seed 42, Episode 4800, Total Reward: -152.0\n",
            "Q-learning - Seed 42, Episode 4900, Total Reward: -150.0\n",
            "Q-learning - Seed 42, Episode 5000, Total Reward: -138.0\n"
          ]
        },
        {
          "output_type": "display_data",
          "data": {
            "text/plain": [
              "<IPython.core.display.HTML object>"
            ],
            "text/html": []
          },
          "metadata": {}
        },
        {
          "output_type": "display_data",
          "data": {
            "text/plain": [
              "<IPython.core.display.HTML object>"
            ],
            "text/html": [
              "<br>    <style><br>        .wandb-row {<br>            display: flex;<br>            flex-direction: row;<br>            flex-wrap: wrap;<br>            justify-content: flex-start;<br>            width: 100%;<br>        }<br>        .wandb-col {<br>            display: flex;<br>            flex-direction: column;<br>            flex-basis: 100%;<br>            flex: 1;<br>            padding: 10px;<br>        }<br>    </style><br><div class=\"wandb-row\"><div class=\"wandb-col\"><h3>Run history:</h3><br/><table class=\"wandb\"><tr><td>avg_return_q_learning</td><td>▁</td></tr><tr><td>avg_return_sarsa</td><td>▁</td></tr></table><br/></div><div class=\"wandb-col\"><h3>Run summary:</h3><br/><table class=\"wandb\"><tr><td>avg_return_q_learning</td><td>-162.05</td></tr><tr><td>avg_return_sarsa</td><td>-174.02</td></tr></table><br/></div></div>"
            ]
          },
          "metadata": {}
        },
        {
          "output_type": "display_data",
          "data": {
            "text/plain": [
              "<IPython.core.display.HTML object>"
            ],
            "text/html": [
              " View run <strong style=\"color:#cdcd00\">alpha_0.15_eps_0.01_temp_0.2_bins_25</strong> at: <a href='https://wandb.ai/subikksha-indian-institute-of-technology-madras/MountainCar-RL/runs/mxg12252' target=\"_blank\">https://wandb.ai/subikksha-indian-institute-of-technology-madras/MountainCar-RL/runs/mxg12252</a><br> View project at: <a href='https://wandb.ai/subikksha-indian-institute-of-technology-madras/MountainCar-RL' target=\"_blank\">https://wandb.ai/subikksha-indian-institute-of-technology-madras/MountainCar-RL</a><br>Synced 5 W&B file(s), 0 media file(s), 0 artifact file(s) and 0 other file(s)"
            ]
          },
          "metadata": {}
        },
        {
          "output_type": "display_data",
          "data": {
            "text/plain": [
              "<IPython.core.display.HTML object>"
            ],
            "text/html": [
              "Find logs at: <code>./wandb/run-20250322_201326-mxg12252/logs</code>"
            ]
          },
          "metadata": {}
        },
        {
          "output_type": "stream",
          "name": "stderr",
          "text": [
            "\u001b[34m\u001b[1mwandb\u001b[0m: Agent Starting Run: 5yvxr0g8 with config:\n",
            "\u001b[34m\u001b[1mwandb\u001b[0m: \talpha: 0.05\n",
            "\u001b[34m\u001b[1mwandb\u001b[0m: \tepsilon: 0.05\n",
            "\u001b[34m\u001b[1mwandb\u001b[0m: \tgamma: 0.99\n",
            "\u001b[34m\u001b[1mwandb\u001b[0m: \tmax_steps: 200\n",
            "\u001b[34m\u001b[1mwandb\u001b[0m: \tnum_bins: 15\n",
            "\u001b[34m\u001b[1mwandb\u001b[0m: \tnum_episodes: 5000\n",
            "\u001b[34m\u001b[1mwandb\u001b[0m: \ttemperature: 1\n"
          ]
        },
        {
          "output_type": "display_data",
          "data": {
            "text/plain": [
              "<IPython.core.display.HTML object>"
            ],
            "text/html": [
              "Ignoring project 'MountainCar-RL' when running a sweep."
            ]
          },
          "metadata": {}
        },
        {
          "output_type": "display_data",
          "data": {
            "text/plain": [
              "<IPython.core.display.HTML object>"
            ],
            "text/html": [
              "Ignoring entity 'subikksha' when running a sweep."
            ]
          },
          "metadata": {}
        },
        {
          "output_type": "display_data",
          "data": {
            "text/plain": [
              "<IPython.core.display.HTML object>"
            ],
            "text/html": [
              "Tracking run with wandb version 0.19.8"
            ]
          },
          "metadata": {}
        },
        {
          "output_type": "display_data",
          "data": {
            "text/plain": [
              "<IPython.core.display.HTML object>"
            ],
            "text/html": [
              "Run data is saved locally in <code>/content/wandb/run-20250322_201546-5yvxr0g8</code>"
            ]
          },
          "metadata": {}
        },
        {
          "output_type": "display_data",
          "data": {
            "text/plain": [
              "<IPython.core.display.HTML object>"
            ],
            "text/html": [
              "Syncing run <strong><a href='https://wandb.ai/subikksha-indian-institute-of-technology-madras/MountainCar-RL/runs/5yvxr0g8' target=\"_blank\">solar-sweep-9</a></strong> to <a href='https://wandb.ai/subikksha-indian-institute-of-technology-madras/MountainCar-RL' target=\"_blank\">Weights & Biases</a> (<a href='https://wandb.me/developer-guide' target=\"_blank\">docs</a>)<br>Sweep page: <a href='https://wandb.ai/subikksha-indian-institute-of-technology-madras/MountainCar-RL/sweeps/cppzkh1g' target=\"_blank\">https://wandb.ai/subikksha-indian-institute-of-technology-madras/MountainCar-RL/sweeps/cppzkh1g</a>"
            ]
          },
          "metadata": {}
        },
        {
          "output_type": "display_data",
          "data": {
            "text/plain": [
              "<IPython.core.display.HTML object>"
            ],
            "text/html": [
              " View project at <a href='https://wandb.ai/subikksha-indian-institute-of-technology-madras/MountainCar-RL' target=\"_blank\">https://wandb.ai/subikksha-indian-institute-of-technology-madras/MountainCar-RL</a>"
            ]
          },
          "metadata": {}
        },
        {
          "output_type": "display_data",
          "data": {
            "text/plain": [
              "<IPython.core.display.HTML object>"
            ],
            "text/html": [
              " View sweep at <a href='https://wandb.ai/subikksha-indian-institute-of-technology-madras/MountainCar-RL/sweeps/cppzkh1g' target=\"_blank\">https://wandb.ai/subikksha-indian-institute-of-technology-madras/MountainCar-RL/sweeps/cppzkh1g</a>"
            ]
          },
          "metadata": {}
        },
        {
          "output_type": "display_data",
          "data": {
            "text/plain": [
              "<IPython.core.display.HTML object>"
            ],
            "text/html": [
              " View run at <a href='https://wandb.ai/subikksha-indian-institute-of-technology-madras/MountainCar-RL/runs/5yvxr0g8' target=\"_blank\">https://wandb.ai/subikksha-indian-institute-of-technology-madras/MountainCar-RL/runs/5yvxr0g8</a>"
            ]
          },
          "metadata": {}
        },
        {
          "output_type": "stream",
          "name": "stdout",
          "text": [
            "Seed 42, Episode 100, Total Reward: -200.0\n",
            "Seed 42, Episode 200, Total Reward: -200.0\n",
            "Seed 42, Episode 300, Total Reward: -200.0\n",
            "Seed 42, Episode 400, Total Reward: -200.0\n",
            "Seed 42, Episode 500, Total Reward: -200.0\n",
            "Seed 42, Episode 600, Total Reward: -200.0\n",
            "Seed 42, Episode 700, Total Reward: -200.0\n",
            "Seed 42, Episode 800, Total Reward: -175.0\n",
            "Seed 42, Episode 900, Total Reward: -176.0\n",
            "Seed 42, Episode 1000, Total Reward: -195.0\n",
            "Seed 42, Episode 1100, Total Reward: -200.0\n",
            "Seed 42, Episode 1200, Total Reward: -164.0\n",
            "Seed 42, Episode 1300, Total Reward: -195.0\n",
            "Seed 42, Episode 1400, Total Reward: -179.0\n",
            "Seed 42, Episode 1500, Total Reward: -200.0\n",
            "Seed 42, Episode 1600, Total Reward: -200.0\n",
            "Seed 42, Episode 1700, Total Reward: -170.0\n",
            "Seed 42, Episode 1800, Total Reward: -148.0\n",
            "Seed 42, Episode 1900, Total Reward: -200.0\n",
            "Seed 42, Episode 2000, Total Reward: -178.0\n",
            "Seed 42, Episode 2100, Total Reward: -171.0\n",
            "Seed 42, Episode 2200, Total Reward: -150.0\n",
            "Seed 42, Episode 2300, Total Reward: -200.0\n",
            "Seed 42, Episode 2400, Total Reward: -160.0\n",
            "Seed 42, Episode 2500, Total Reward: -131.0\n",
            "Seed 42, Episode 2600, Total Reward: -200.0\n",
            "Seed 42, Episode 2700, Total Reward: -174.0\n",
            "Seed 42, Episode 2800, Total Reward: -158.0\n",
            "Seed 42, Episode 2900, Total Reward: -172.0\n",
            "Seed 42, Episode 3000, Total Reward: -166.0\n",
            "Seed 42, Episode 3100, Total Reward: -151.0\n",
            "Seed 42, Episode 3200, Total Reward: -156.0\n",
            "Seed 42, Episode 3300, Total Reward: -163.0\n",
            "Seed 42, Episode 3400, Total Reward: -165.0\n",
            "Seed 42, Episode 3500, Total Reward: -153.0\n",
            "Seed 42, Episode 3600, Total Reward: -151.0\n",
            "Seed 42, Episode 3700, Total Reward: -146.0\n",
            "Seed 42, Episode 3800, Total Reward: -182.0\n",
            "Seed 42, Episode 3900, Total Reward: -196.0\n",
            "Seed 42, Episode 4000, Total Reward: -151.0\n",
            "Seed 42, Episode 4100, Total Reward: -200.0\n",
            "Seed 42, Episode 4200, Total Reward: -116.0\n",
            "Seed 42, Episode 4300, Total Reward: -173.0\n",
            "Seed 42, Episode 4400, Total Reward: -159.0\n",
            "Seed 42, Episode 4500, Total Reward: -188.0\n",
            "Seed 42, Episode 4600, Total Reward: -173.0\n",
            "Seed 42, Episode 4700, Total Reward: -162.0\n",
            "Seed 42, Episode 4800, Total Reward: -149.0\n",
            "Seed 42, Episode 4900, Total Reward: -157.0\n",
            "Seed 42, Episode 5000, Total Reward: -199.0\n",
            "Q-learning - Seed 42, Episode 100, Total Reward: -200.0\n",
            "Q-learning - Seed 42, Episode 200, Total Reward: -200.0\n",
            "Q-learning - Seed 42, Episode 300, Total Reward: -200.0\n",
            "Q-learning - Seed 42, Episode 400, Total Reward: -200.0\n",
            "Q-learning - Seed 42, Episode 500, Total Reward: -200.0\n",
            "Q-learning - Seed 42, Episode 600, Total Reward: -200.0\n",
            "Q-learning - Seed 42, Episode 700, Total Reward: -200.0\n",
            "Q-learning - Seed 42, Episode 800, Total Reward: -200.0\n",
            "Q-learning - Seed 42, Episode 900, Total Reward: -200.0\n",
            "Q-learning - Seed 42, Episode 1000, Total Reward: -200.0\n",
            "Q-learning - Seed 42, Episode 1100, Total Reward: -200.0\n",
            "Q-learning - Seed 42, Episode 1200, Total Reward: -200.0\n",
            "Q-learning - Seed 42, Episode 1300, Total Reward: -200.0\n",
            "Q-learning - Seed 42, Episode 1400, Total Reward: -200.0\n",
            "Q-learning - Seed 42, Episode 1500, Total Reward: -200.0\n",
            "Q-learning - Seed 42, Episode 1600, Total Reward: -200.0\n",
            "Q-learning - Seed 42, Episode 1700, Total Reward: -200.0\n",
            "Q-learning - Seed 42, Episode 1800, Total Reward: -200.0\n",
            "Q-learning - Seed 42, Episode 1900, Total Reward: -200.0\n",
            "Q-learning - Seed 42, Episode 2000, Total Reward: -200.0\n",
            "Q-learning - Seed 42, Episode 2100, Total Reward: -200.0\n",
            "Q-learning - Seed 42, Episode 2200, Total Reward: -200.0\n",
            "Q-learning - Seed 42, Episode 2300, Total Reward: -200.0\n",
            "Q-learning - Seed 42, Episode 2400, Total Reward: -200.0\n",
            "Q-learning - Seed 42, Episode 2500, Total Reward: -200.0\n",
            "Q-learning - Seed 42, Episode 2600, Total Reward: -200.0\n",
            "Q-learning - Seed 42, Episode 2700, Total Reward: -200.0\n",
            "Q-learning - Seed 42, Episode 2800, Total Reward: -200.0\n",
            "Q-learning - Seed 42, Episode 2900, Total Reward: -200.0\n",
            "Q-learning - Seed 42, Episode 3000, Total Reward: -200.0\n",
            "Q-learning - Seed 42, Episode 3100, Total Reward: -200.0\n",
            "Q-learning - Seed 42, Episode 3200, Total Reward: -200.0\n",
            "Q-learning - Seed 42, Episode 3300, Total Reward: -200.0\n",
            "Q-learning - Seed 42, Episode 3400, Total Reward: -200.0\n",
            "Q-learning - Seed 42, Episode 3500, Total Reward: -200.0\n",
            "Q-learning - Seed 42, Episode 3600, Total Reward: -200.0\n",
            "Q-learning - Seed 42, Episode 3700, Total Reward: -200.0\n",
            "Q-learning - Seed 42, Episode 3800, Total Reward: -200.0\n",
            "Q-learning - Seed 42, Episode 3900, Total Reward: -200.0\n",
            "Q-learning - Seed 42, Episode 4000, Total Reward: -200.0\n",
            "Q-learning - Seed 42, Episode 4100, Total Reward: -200.0\n",
            "Q-learning - Seed 42, Episode 4200, Total Reward: -200.0\n",
            "Q-learning - Seed 42, Episode 4300, Total Reward: -200.0\n",
            "Q-learning - Seed 42, Episode 4400, Total Reward: -200.0\n",
            "Q-learning - Seed 42, Episode 4500, Total Reward: -200.0\n",
            "Q-learning - Seed 42, Episode 4600, Total Reward: -200.0\n",
            "Q-learning - Seed 42, Episode 4700, Total Reward: -200.0\n",
            "Q-learning - Seed 42, Episode 4800, Total Reward: -200.0\n",
            "Q-learning - Seed 42, Episode 4900, Total Reward: -200.0\n",
            "Q-learning - Seed 42, Episode 5000, Total Reward: -200.0\n"
          ]
        },
        {
          "output_type": "display_data",
          "data": {
            "text/plain": [
              "<IPython.core.display.HTML object>"
            ],
            "text/html": []
          },
          "metadata": {}
        },
        {
          "output_type": "display_data",
          "data": {
            "text/plain": [
              "<IPython.core.display.HTML object>"
            ],
            "text/html": [
              "<br>    <style><br>        .wandb-row {<br>            display: flex;<br>            flex-direction: row;<br>            flex-wrap: wrap;<br>            justify-content: flex-start;<br>            width: 100%;<br>        }<br>        .wandb-col {<br>            display: flex;<br>            flex-direction: column;<br>            flex-basis: 100%;<br>            flex: 1;<br>            padding: 10px;<br>        }<br>    </style><br><div class=\"wandb-row\"><div class=\"wandb-col\"><h3>Run history:</h3><br/><table class=\"wandb\"><tr><td>avg_return_q_learning</td><td>▁</td></tr><tr><td>avg_return_sarsa</td><td>▁</td></tr></table><br/></div><div class=\"wandb-col\"><h3>Run summary:</h3><br/><table class=\"wandb\"><tr><td>avg_return_q_learning</td><td>-200</td></tr><tr><td>avg_return_sarsa</td><td>-176.3</td></tr></table><br/></div></div>"
            ]
          },
          "metadata": {}
        },
        {
          "output_type": "display_data",
          "data": {
            "text/plain": [
              "<IPython.core.display.HTML object>"
            ],
            "text/html": [
              " View run <strong style=\"color:#cdcd00\">alpha_0.05_eps_0.05_temp_1_bins_15</strong> at: <a href='https://wandb.ai/subikksha-indian-institute-of-technology-madras/MountainCar-RL/runs/5yvxr0g8' target=\"_blank\">https://wandb.ai/subikksha-indian-institute-of-technology-madras/MountainCar-RL/runs/5yvxr0g8</a><br> View project at: <a href='https://wandb.ai/subikksha-indian-institute-of-technology-madras/MountainCar-RL' target=\"_blank\">https://wandb.ai/subikksha-indian-institute-of-technology-madras/MountainCar-RL</a><br>Synced 5 W&B file(s), 0 media file(s), 0 artifact file(s) and 0 other file(s)"
            ]
          },
          "metadata": {}
        },
        {
          "output_type": "display_data",
          "data": {
            "text/plain": [
              "<IPython.core.display.HTML object>"
            ],
            "text/html": [
              "Find logs at: <code>./wandb/run-20250322_201546-5yvxr0g8/logs</code>"
            ]
          },
          "metadata": {}
        },
        {
          "output_type": "stream",
          "name": "stderr",
          "text": [
            "\u001b[34m\u001b[1mwandb\u001b[0m: Agent Starting Run: yfabfx7c with config:\n",
            "\u001b[34m\u001b[1mwandb\u001b[0m: \talpha: 0.05\n",
            "\u001b[34m\u001b[1mwandb\u001b[0m: \tepsilon: 0.2\n",
            "\u001b[34m\u001b[1mwandb\u001b[0m: \tgamma: 0.99\n",
            "\u001b[34m\u001b[1mwandb\u001b[0m: \tmax_steps: 200\n",
            "\u001b[34m\u001b[1mwandb\u001b[0m: \tnum_bins: 20\n",
            "\u001b[34m\u001b[1mwandb\u001b[0m: \tnum_episodes: 5000\n",
            "\u001b[34m\u001b[1mwandb\u001b[0m: \ttemperature: 0.2\n"
          ]
        },
        {
          "output_type": "display_data",
          "data": {
            "text/plain": [
              "<IPython.core.display.HTML object>"
            ],
            "text/html": [
              "Ignoring project 'MountainCar-RL' when running a sweep."
            ]
          },
          "metadata": {}
        },
        {
          "output_type": "display_data",
          "data": {
            "text/plain": [
              "<IPython.core.display.HTML object>"
            ],
            "text/html": [
              "Ignoring entity 'subikksha' when running a sweep."
            ]
          },
          "metadata": {}
        },
        {
          "output_type": "display_data",
          "data": {
            "text/plain": [
              "<IPython.core.display.HTML object>"
            ],
            "text/html": [
              "Tracking run with wandb version 0.19.8"
            ]
          },
          "metadata": {}
        },
        {
          "output_type": "display_data",
          "data": {
            "text/plain": [
              "<IPython.core.display.HTML object>"
            ],
            "text/html": [
              "Run data is saved locally in <code>/content/wandb/run-20250322_201818-yfabfx7c</code>"
            ]
          },
          "metadata": {}
        },
        {
          "output_type": "display_data",
          "data": {
            "text/plain": [
              "<IPython.core.display.HTML object>"
            ],
            "text/html": [
              "Syncing run <strong><a href='https://wandb.ai/subikksha-indian-institute-of-technology-madras/MountainCar-RL/runs/yfabfx7c' target=\"_blank\">fine-sweep-10</a></strong> to <a href='https://wandb.ai/subikksha-indian-institute-of-technology-madras/MountainCar-RL' target=\"_blank\">Weights & Biases</a> (<a href='https://wandb.me/developer-guide' target=\"_blank\">docs</a>)<br>Sweep page: <a href='https://wandb.ai/subikksha-indian-institute-of-technology-madras/MountainCar-RL/sweeps/cppzkh1g' target=\"_blank\">https://wandb.ai/subikksha-indian-institute-of-technology-madras/MountainCar-RL/sweeps/cppzkh1g</a>"
            ]
          },
          "metadata": {}
        },
        {
          "output_type": "display_data",
          "data": {
            "text/plain": [
              "<IPython.core.display.HTML object>"
            ],
            "text/html": [
              " View project at <a href='https://wandb.ai/subikksha-indian-institute-of-technology-madras/MountainCar-RL' target=\"_blank\">https://wandb.ai/subikksha-indian-institute-of-technology-madras/MountainCar-RL</a>"
            ]
          },
          "metadata": {}
        },
        {
          "output_type": "display_data",
          "data": {
            "text/plain": [
              "<IPython.core.display.HTML object>"
            ],
            "text/html": [
              " View sweep at <a href='https://wandb.ai/subikksha-indian-institute-of-technology-madras/MountainCar-RL/sweeps/cppzkh1g' target=\"_blank\">https://wandb.ai/subikksha-indian-institute-of-technology-madras/MountainCar-RL/sweeps/cppzkh1g</a>"
            ]
          },
          "metadata": {}
        },
        {
          "output_type": "display_data",
          "data": {
            "text/plain": [
              "<IPython.core.display.HTML object>"
            ],
            "text/html": [
              " View run at <a href='https://wandb.ai/subikksha-indian-institute-of-technology-madras/MountainCar-RL/runs/yfabfx7c' target=\"_blank\">https://wandb.ai/subikksha-indian-institute-of-technology-madras/MountainCar-RL/runs/yfabfx7c</a>"
            ]
          },
          "metadata": {}
        },
        {
          "output_type": "stream",
          "name": "stdout",
          "text": [
            "Seed 42, Episode 100, Total Reward: -200.0\n",
            "Seed 42, Episode 200, Total Reward: -200.0\n",
            "Seed 42, Episode 300, Total Reward: -200.0\n",
            "Seed 42, Episode 400, Total Reward: -200.0\n",
            "Seed 42, Episode 500, Total Reward: -200.0\n",
            "Seed 42, Episode 600, Total Reward: -200.0\n",
            "Seed 42, Episode 700, Total Reward: -200.0\n",
            "Seed 42, Episode 800, Total Reward: -200.0\n",
            "Seed 42, Episode 900, Total Reward: -200.0\n",
            "Seed 42, Episode 1000, Total Reward: -200.0\n",
            "Seed 42, Episode 1100, Total Reward: -200.0\n",
            "Seed 42, Episode 1200, Total Reward: -200.0\n",
            "Seed 42, Episode 1300, Total Reward: -198.0\n",
            "Seed 42, Episode 1400, Total Reward: -200.0\n",
            "Seed 42, Episode 1500, Total Reward: -200.0\n",
            "Seed 42, Episode 1600, Total Reward: -200.0\n",
            "Seed 42, Episode 1700, Total Reward: -200.0\n",
            "Seed 42, Episode 1800, Total Reward: -200.0\n",
            "Seed 42, Episode 1900, Total Reward: -200.0\n",
            "Seed 42, Episode 2000, Total Reward: -200.0\n",
            "Seed 42, Episode 2100, Total Reward: -200.0\n",
            "Seed 42, Episode 2200, Total Reward: -191.0\n",
            "Seed 42, Episode 2300, Total Reward: -200.0\n",
            "Seed 42, Episode 2400, Total Reward: -200.0\n",
            "Seed 42, Episode 2500, Total Reward: -200.0\n",
            "Seed 42, Episode 2600, Total Reward: -182.0\n",
            "Seed 42, Episode 2700, Total Reward: -200.0\n",
            "Seed 42, Episode 2800, Total Reward: -200.0\n",
            "Seed 42, Episode 2900, Total Reward: -200.0\n",
            "Seed 42, Episode 3000, Total Reward: -164.0\n",
            "Seed 42, Episode 3100, Total Reward: -158.0\n",
            "Seed 42, Episode 3200, Total Reward: -157.0\n",
            "Seed 42, Episode 3300, Total Reward: -172.0\n",
            "Seed 42, Episode 3400, Total Reward: -200.0\n",
            "Seed 42, Episode 3500, Total Reward: -200.0\n",
            "Seed 42, Episode 3600, Total Reward: -196.0\n",
            "Seed 42, Episode 3700, Total Reward: -200.0\n",
            "Seed 42, Episode 3800, Total Reward: -199.0\n",
            "Seed 42, Episode 3900, Total Reward: -194.0\n",
            "Seed 42, Episode 4000, Total Reward: -153.0\n",
            "Seed 42, Episode 4100, Total Reward: -169.0\n",
            "Seed 42, Episode 4200, Total Reward: -200.0\n",
            "Seed 42, Episode 4300, Total Reward: -200.0\n",
            "Seed 42, Episode 4400, Total Reward: -150.0\n",
            "Seed 42, Episode 4500, Total Reward: -188.0\n",
            "Seed 42, Episode 4600, Total Reward: -151.0\n",
            "Seed 42, Episode 4700, Total Reward: -200.0\n",
            "Seed 42, Episode 4800, Total Reward: -162.0\n",
            "Seed 42, Episode 4900, Total Reward: -200.0\n",
            "Seed 42, Episode 5000, Total Reward: -200.0\n",
            "Q-learning - Seed 42, Episode 100, Total Reward: -200.0\n",
            "Q-learning - Seed 42, Episode 200, Total Reward: -200.0\n",
            "Q-learning - Seed 42, Episode 300, Total Reward: -200.0\n",
            "Q-learning - Seed 42, Episode 400, Total Reward: -200.0\n",
            "Q-learning - Seed 42, Episode 500, Total Reward: -200.0\n",
            "Q-learning - Seed 42, Episode 600, Total Reward: -200.0\n",
            "Q-learning - Seed 42, Episode 700, Total Reward: -200.0\n",
            "Q-learning - Seed 42, Episode 800, Total Reward: -200.0\n",
            "Q-learning - Seed 42, Episode 900, Total Reward: -200.0\n",
            "Q-learning - Seed 42, Episode 1000, Total Reward: -200.0\n",
            "Q-learning - Seed 42, Episode 1100, Total Reward: -200.0\n",
            "Q-learning - Seed 42, Episode 1200, Total Reward: -200.0\n",
            "Q-learning - Seed 42, Episode 1300, Total Reward: -200.0\n",
            "Q-learning - Seed 42, Episode 1400, Total Reward: -200.0\n",
            "Q-learning - Seed 42, Episode 1500, Total Reward: -200.0\n",
            "Q-learning - Seed 42, Episode 1600, Total Reward: -200.0\n",
            "Q-learning - Seed 42, Episode 1700, Total Reward: -200.0\n",
            "Q-learning - Seed 42, Episode 1800, Total Reward: -200.0\n",
            "Q-learning - Seed 42, Episode 1900, Total Reward: -200.0\n",
            "Q-learning - Seed 42, Episode 2000, Total Reward: -200.0\n",
            "Q-learning - Seed 42, Episode 2100, Total Reward: -158.0\n",
            "Q-learning - Seed 42, Episode 2200, Total Reward: -200.0\n",
            "Q-learning - Seed 42, Episode 2300, Total Reward: -200.0\n",
            "Q-learning - Seed 42, Episode 2400, Total Reward: -200.0\n",
            "Q-learning - Seed 42, Episode 2500, Total Reward: -193.0\n",
            "Q-learning - Seed 42, Episode 2600, Total Reward: -200.0\n",
            "Q-learning - Seed 42, Episode 2700, Total Reward: -200.0\n",
            "Q-learning - Seed 42, Episode 2800, Total Reward: -200.0\n",
            "Q-learning - Seed 42, Episode 2900, Total Reward: -200.0\n",
            "Q-learning - Seed 42, Episode 3000, Total Reward: -159.0\n",
            "Q-learning - Seed 42, Episode 3100, Total Reward: -200.0\n",
            "Q-learning - Seed 42, Episode 3200, Total Reward: -200.0\n",
            "Q-learning - Seed 42, Episode 3300, Total Reward: -163.0\n",
            "Q-learning - Seed 42, Episode 3400, Total Reward: -199.0\n",
            "Q-learning - Seed 42, Episode 3500, Total Reward: -151.0\n",
            "Q-learning - Seed 42, Episode 3600, Total Reward: -200.0\n",
            "Q-learning - Seed 42, Episode 3700, Total Reward: -200.0\n",
            "Q-learning - Seed 42, Episode 3800, Total Reward: -200.0\n",
            "Q-learning - Seed 42, Episode 3900, Total Reward: -197.0\n",
            "Q-learning - Seed 42, Episode 4000, Total Reward: -154.0\n",
            "Q-learning - Seed 42, Episode 4100, Total Reward: -200.0\n",
            "Q-learning - Seed 42, Episode 4200, Total Reward: -200.0\n",
            "Q-learning - Seed 42, Episode 4300, Total Reward: -200.0\n",
            "Q-learning - Seed 42, Episode 4400, Total Reward: -159.0\n",
            "Q-learning - Seed 42, Episode 4500, Total Reward: -200.0\n",
            "Q-learning - Seed 42, Episode 4600, Total Reward: -163.0\n",
            "Q-learning - Seed 42, Episode 4700, Total Reward: -200.0\n",
            "Q-learning - Seed 42, Episode 4800, Total Reward: -200.0\n",
            "Q-learning - Seed 42, Episode 4900, Total Reward: -156.0\n",
            "Q-learning - Seed 42, Episode 5000, Total Reward: -191.0\n"
          ]
        },
        {
          "output_type": "display_data",
          "data": {
            "text/plain": [
              "<IPython.core.display.HTML object>"
            ],
            "text/html": []
          },
          "metadata": {}
        },
        {
          "output_type": "display_data",
          "data": {
            "text/plain": [
              "<IPython.core.display.HTML object>"
            ],
            "text/html": [
              "<br>    <style><br>        .wandb-row {<br>            display: flex;<br>            flex-direction: row;<br>            flex-wrap: wrap;<br>            justify-content: flex-start;<br>            width: 100%;<br>        }<br>        .wandb-col {<br>            display: flex;<br>            flex-direction: column;<br>            flex-basis: 100%;<br>            flex: 1;<br>            padding: 10px;<br>        }<br>    </style><br><div class=\"wandb-row\"><div class=\"wandb-col\"><h3>Run history:</h3><br/><table class=\"wandb\"><tr><td>avg_return_q_learning</td><td>▁</td></tr><tr><td>avg_return_sarsa</td><td>▁</td></tr></table><br/></div><div class=\"wandb-col\"><h3>Run summary:</h3><br/><table class=\"wandb\"><tr><td>avg_return_q_learning</td><td>-169.15</td></tr><tr><td>avg_return_sarsa</td><td>-192.01</td></tr></table><br/></div></div>"
            ]
          },
          "metadata": {}
        },
        {
          "output_type": "display_data",
          "data": {
            "text/plain": [
              "<IPython.core.display.HTML object>"
            ],
            "text/html": [
              " View run <strong style=\"color:#cdcd00\">alpha_0.05_eps_0.2_temp_0.2_bins_20</strong> at: <a href='https://wandb.ai/subikksha-indian-institute-of-technology-madras/MountainCar-RL/runs/yfabfx7c' target=\"_blank\">https://wandb.ai/subikksha-indian-institute-of-technology-madras/MountainCar-RL/runs/yfabfx7c</a><br> View project at: <a href='https://wandb.ai/subikksha-indian-institute-of-technology-madras/MountainCar-RL' target=\"_blank\">https://wandb.ai/subikksha-indian-institute-of-technology-madras/MountainCar-RL</a><br>Synced 5 W&B file(s), 0 media file(s), 0 artifact file(s) and 0 other file(s)"
            ]
          },
          "metadata": {}
        },
        {
          "output_type": "display_data",
          "data": {
            "text/plain": [
              "<IPython.core.display.HTML object>"
            ],
            "text/html": [
              "Find logs at: <code>./wandb/run-20250322_201818-yfabfx7c/logs</code>"
            ]
          },
          "metadata": {}
        },
        {
          "output_type": "stream",
          "name": "stderr",
          "text": [
            "\u001b[34m\u001b[1mwandb\u001b[0m: Agent Starting Run: ock6zr7m with config:\n",
            "\u001b[34m\u001b[1mwandb\u001b[0m: \talpha: 0.2\n",
            "\u001b[34m\u001b[1mwandb\u001b[0m: \tepsilon: 0.1\n",
            "\u001b[34m\u001b[1mwandb\u001b[0m: \tgamma: 0.99\n",
            "\u001b[34m\u001b[1mwandb\u001b[0m: \tmax_steps: 200\n",
            "\u001b[34m\u001b[1mwandb\u001b[0m: \tnum_bins: 20\n",
            "\u001b[34m\u001b[1mwandb\u001b[0m: \tnum_episodes: 5000\n",
            "\u001b[34m\u001b[1mwandb\u001b[0m: \ttemperature: 0.5\n"
          ]
        },
        {
          "output_type": "display_data",
          "data": {
            "text/plain": [
              "<IPython.core.display.HTML object>"
            ],
            "text/html": [
              "Ignoring project 'MountainCar-RL' when running a sweep."
            ]
          },
          "metadata": {}
        },
        {
          "output_type": "display_data",
          "data": {
            "text/plain": [
              "<IPython.core.display.HTML object>"
            ],
            "text/html": [
              "Ignoring entity 'subikksha' when running a sweep."
            ]
          },
          "metadata": {}
        },
        {
          "output_type": "display_data",
          "data": {
            "text/plain": [
              "<IPython.core.display.HTML object>"
            ],
            "text/html": [
              "Tracking run with wandb version 0.19.8"
            ]
          },
          "metadata": {}
        },
        {
          "output_type": "display_data",
          "data": {
            "text/plain": [
              "<IPython.core.display.HTML object>"
            ],
            "text/html": [
              "Run data is saved locally in <code>/content/wandb/run-20250322_202050-ock6zr7m</code>"
            ]
          },
          "metadata": {}
        },
        {
          "output_type": "display_data",
          "data": {
            "text/plain": [
              "<IPython.core.display.HTML object>"
            ],
            "text/html": [
              "Syncing run <strong><a href='https://wandb.ai/subikksha-indian-institute-of-technology-madras/MountainCar-RL/runs/ock6zr7m' target=\"_blank\">ethereal-sweep-11</a></strong> to <a href='https://wandb.ai/subikksha-indian-institute-of-technology-madras/MountainCar-RL' target=\"_blank\">Weights & Biases</a> (<a href='https://wandb.me/developer-guide' target=\"_blank\">docs</a>)<br>Sweep page: <a href='https://wandb.ai/subikksha-indian-institute-of-technology-madras/MountainCar-RL/sweeps/cppzkh1g' target=\"_blank\">https://wandb.ai/subikksha-indian-institute-of-technology-madras/MountainCar-RL/sweeps/cppzkh1g</a>"
            ]
          },
          "metadata": {}
        },
        {
          "output_type": "display_data",
          "data": {
            "text/plain": [
              "<IPython.core.display.HTML object>"
            ],
            "text/html": [
              " View project at <a href='https://wandb.ai/subikksha-indian-institute-of-technology-madras/MountainCar-RL' target=\"_blank\">https://wandb.ai/subikksha-indian-institute-of-technology-madras/MountainCar-RL</a>"
            ]
          },
          "metadata": {}
        },
        {
          "output_type": "display_data",
          "data": {
            "text/plain": [
              "<IPython.core.display.HTML object>"
            ],
            "text/html": [
              " View sweep at <a href='https://wandb.ai/subikksha-indian-institute-of-technology-madras/MountainCar-RL/sweeps/cppzkh1g' target=\"_blank\">https://wandb.ai/subikksha-indian-institute-of-technology-madras/MountainCar-RL/sweeps/cppzkh1g</a>"
            ]
          },
          "metadata": {}
        },
        {
          "output_type": "display_data",
          "data": {
            "text/plain": [
              "<IPython.core.display.HTML object>"
            ],
            "text/html": [
              " View run at <a href='https://wandb.ai/subikksha-indian-institute-of-technology-madras/MountainCar-RL/runs/ock6zr7m' target=\"_blank\">https://wandb.ai/subikksha-indian-institute-of-technology-madras/MountainCar-RL/runs/ock6zr7m</a>"
            ]
          },
          "metadata": {}
        },
        {
          "output_type": "stream",
          "name": "stdout",
          "text": [
            "Seed 42, Episode 100, Total Reward: -200.0\n",
            "Seed 42, Episode 200, Total Reward: -200.0\n",
            "Seed 42, Episode 300, Total Reward: -200.0\n",
            "Seed 42, Episode 400, Total Reward: -200.0\n",
            "Seed 42, Episode 500, Total Reward: -177.0\n",
            "Seed 42, Episode 600, Total Reward: -200.0\n",
            "Seed 42, Episode 700, Total Reward: -200.0\n",
            "Seed 42, Episode 800, Total Reward: -200.0\n",
            "Seed 42, Episode 900, Total Reward: -200.0\n",
            "Seed 42, Episode 1000, Total Reward: -200.0\n",
            "Seed 42, Episode 1100, Total Reward: -198.0\n",
            "Seed 42, Episode 1200, Total Reward: -200.0\n",
            "Seed 42, Episode 1300, Total Reward: -190.0\n",
            "Seed 42, Episode 1400, Total Reward: -182.0\n",
            "Seed 42, Episode 1500, Total Reward: -200.0\n",
            "Seed 42, Episode 1600, Total Reward: -174.0\n",
            "Seed 42, Episode 1700, Total Reward: -200.0\n",
            "Seed 42, Episode 1800, Total Reward: -200.0\n",
            "Seed 42, Episode 1900, Total Reward: -200.0\n",
            "Seed 42, Episode 2000, Total Reward: -161.0\n",
            "Seed 42, Episode 2100, Total Reward: -200.0\n",
            "Seed 42, Episode 2200, Total Reward: -188.0\n",
            "Seed 42, Episode 2300, Total Reward: -156.0\n",
            "Seed 42, Episode 2400, Total Reward: -200.0\n",
            "Seed 42, Episode 2500, Total Reward: -158.0\n",
            "Seed 42, Episode 2600, Total Reward: -152.0\n",
            "Seed 42, Episode 2700, Total Reward: -200.0\n",
            "Seed 42, Episode 2800, Total Reward: -200.0\n",
            "Seed 42, Episode 2900, Total Reward: -200.0\n",
            "Seed 42, Episode 3000, Total Reward: -172.0\n",
            "Seed 42, Episode 3100, Total Reward: -200.0\n",
            "Seed 42, Episode 3200, Total Reward: -153.0\n",
            "Seed 42, Episode 3300, Total Reward: -200.0\n",
            "Seed 42, Episode 3400, Total Reward: -200.0\n",
            "Seed 42, Episode 3500, Total Reward: -200.0\n",
            "Seed 42, Episode 3600, Total Reward: -200.0\n",
            "Seed 42, Episode 3700, Total Reward: -200.0\n",
            "Seed 42, Episode 3800, Total Reward: -188.0\n",
            "Seed 42, Episode 3900, Total Reward: -197.0\n",
            "Seed 42, Episode 4000, Total Reward: -159.0\n",
            "Seed 42, Episode 4100, Total Reward: -200.0\n",
            "Seed 42, Episode 4200, Total Reward: -194.0\n",
            "Seed 42, Episode 4300, Total Reward: -149.0\n",
            "Seed 42, Episode 4400, Total Reward: -200.0\n",
            "Seed 42, Episode 4500, Total Reward: -115.0\n",
            "Seed 42, Episode 4600, Total Reward: -200.0\n",
            "Seed 42, Episode 4700, Total Reward: -168.0\n",
            "Seed 42, Episode 4800, Total Reward: -200.0\n",
            "Seed 42, Episode 4900, Total Reward: -145.0\n",
            "Seed 42, Episode 5000, Total Reward: -173.0\n",
            "Q-learning - Seed 42, Episode 100, Total Reward: -200.0\n",
            "Q-learning - Seed 42, Episode 200, Total Reward: -200.0\n",
            "Q-learning - Seed 42, Episode 300, Total Reward: -200.0\n",
            "Q-learning - Seed 42, Episode 400, Total Reward: -200.0\n",
            "Q-learning - Seed 42, Episode 500, Total Reward: -200.0\n",
            "Q-learning - Seed 42, Episode 600, Total Reward: -200.0\n",
            "Q-learning - Seed 42, Episode 700, Total Reward: -200.0\n",
            "Q-learning - Seed 42, Episode 800, Total Reward: -200.0\n",
            "Q-learning - Seed 42, Episode 900, Total Reward: -200.0\n",
            "Q-learning - Seed 42, Episode 1000, Total Reward: -199.0\n",
            "Q-learning - Seed 42, Episode 1100, Total Reward: -200.0\n",
            "Q-learning - Seed 42, Episode 1200, Total Reward: -200.0\n",
            "Q-learning - Seed 42, Episode 1300, Total Reward: -188.0\n",
            "Q-learning - Seed 42, Episode 1400, Total Reward: -200.0\n",
            "Q-learning - Seed 42, Episode 1500, Total Reward: -200.0\n",
            "Q-learning - Seed 42, Episode 1600, Total Reward: -200.0\n",
            "Q-learning - Seed 42, Episode 1700, Total Reward: -200.0\n",
            "Q-learning - Seed 42, Episode 1800, Total Reward: -161.0\n",
            "Q-learning - Seed 42, Episode 1900, Total Reward: -200.0\n",
            "Q-learning - Seed 42, Episode 2000, Total Reward: -163.0\n",
            "Q-learning - Seed 42, Episode 2100, Total Reward: -200.0\n",
            "Q-learning - Seed 42, Episode 2200, Total Reward: -200.0\n",
            "Q-learning - Seed 42, Episode 2300, Total Reward: -200.0\n",
            "Q-learning - Seed 42, Episode 2400, Total Reward: -200.0\n",
            "Q-learning - Seed 42, Episode 2500, Total Reward: -200.0\n",
            "Q-learning - Seed 42, Episode 2600, Total Reward: -200.0\n",
            "Q-learning - Seed 42, Episode 2700, Total Reward: -200.0\n",
            "Q-learning - Seed 42, Episode 2800, Total Reward: -165.0\n",
            "Q-learning - Seed 42, Episode 2900, Total Reward: -159.0\n",
            "Q-learning - Seed 42, Episode 3000, Total Reward: -161.0\n",
            "Q-learning - Seed 42, Episode 3100, Total Reward: -167.0\n",
            "Q-learning - Seed 42, Episode 3200, Total Reward: -200.0\n",
            "Q-learning - Seed 42, Episode 3300, Total Reward: -164.0\n",
            "Q-learning - Seed 42, Episode 3400, Total Reward: -200.0\n",
            "Q-learning - Seed 42, Episode 3500, Total Reward: -200.0\n",
            "Q-learning - Seed 42, Episode 3600, Total Reward: -200.0\n",
            "Q-learning - Seed 42, Episode 3700, Total Reward: -153.0\n",
            "Q-learning - Seed 42, Episode 3800, Total Reward: -119.0\n",
            "Q-learning - Seed 42, Episode 3900, Total Reward: -124.0\n",
            "Q-learning - Seed 42, Episode 4000, Total Reward: -163.0\n",
            "Q-learning - Seed 42, Episode 4100, Total Reward: -180.0\n",
            "Q-learning - Seed 42, Episode 4200, Total Reward: -169.0\n",
            "Q-learning - Seed 42, Episode 4300, Total Reward: -200.0\n",
            "Q-learning - Seed 42, Episode 4400, Total Reward: -157.0\n",
            "Q-learning - Seed 42, Episode 4500, Total Reward: -191.0\n",
            "Q-learning - Seed 42, Episode 4600, Total Reward: -200.0\n",
            "Q-learning - Seed 42, Episode 4700, Total Reward: -168.0\n",
            "Q-learning - Seed 42, Episode 4800, Total Reward: -145.0\n",
            "Q-learning - Seed 42, Episode 4900, Total Reward: -139.0\n",
            "Q-learning - Seed 42, Episode 5000, Total Reward: -114.0\n"
          ]
        },
        {
          "output_type": "display_data",
          "data": {
            "text/plain": [
              "<IPython.core.display.HTML object>"
            ],
            "text/html": []
          },
          "metadata": {}
        },
        {
          "output_type": "display_data",
          "data": {
            "text/plain": [
              "<IPython.core.display.HTML object>"
            ],
            "text/html": [
              "<br>    <style><br>        .wandb-row {<br>            display: flex;<br>            flex-direction: row;<br>            flex-wrap: wrap;<br>            justify-content: flex-start;<br>            width: 100%;<br>        }<br>        .wandb-col {<br>            display: flex;<br>            flex-direction: column;<br>            flex-basis: 100%;<br>            flex: 1;<br>            padding: 10px;<br>        }<br>    </style><br><div class=\"wandb-row\"><div class=\"wandb-col\"><h3>Run history:</h3><br/><table class=\"wandb\"><tr><td>avg_return_q_learning</td><td>▁</td></tr><tr><td>avg_return_sarsa</td><td>▁</td></tr></table><br/></div><div class=\"wandb-col\"><h3>Run summary:</h3><br/><table class=\"wandb\"><tr><td>avg_return_q_learning</td><td>-153.75</td></tr><tr><td>avg_return_sarsa</td><td>-172.29</td></tr></table><br/></div></div>"
            ]
          },
          "metadata": {}
        },
        {
          "output_type": "display_data",
          "data": {
            "text/plain": [
              "<IPython.core.display.HTML object>"
            ],
            "text/html": [
              " View run <strong style=\"color:#cdcd00\">alpha_0.2_eps_0.1_temp_0.5_bins_20</strong> at: <a href='https://wandb.ai/subikksha-indian-institute-of-technology-madras/MountainCar-RL/runs/ock6zr7m' target=\"_blank\">https://wandb.ai/subikksha-indian-institute-of-technology-madras/MountainCar-RL/runs/ock6zr7m</a><br> View project at: <a href='https://wandb.ai/subikksha-indian-institute-of-technology-madras/MountainCar-RL' target=\"_blank\">https://wandb.ai/subikksha-indian-institute-of-technology-madras/MountainCar-RL</a><br>Synced 5 W&B file(s), 0 media file(s), 0 artifact file(s) and 0 other file(s)"
            ]
          },
          "metadata": {}
        },
        {
          "output_type": "display_data",
          "data": {
            "text/plain": [
              "<IPython.core.display.HTML object>"
            ],
            "text/html": [
              "Find logs at: <code>./wandb/run-20250322_202050-ock6zr7m/logs</code>"
            ]
          },
          "metadata": {}
        },
        {
          "output_type": "stream",
          "name": "stderr",
          "text": [
            "\u001b[34m\u001b[1mwandb\u001b[0m: Sweep Agent: Waiting for job.\n",
            "\u001b[34m\u001b[1mwandb\u001b[0m: Job received.\n",
            "\u001b[34m\u001b[1mwandb\u001b[0m: Agent Starting Run: uvh1fkhh with config:\n",
            "\u001b[34m\u001b[1mwandb\u001b[0m: \talpha: 0.05\n",
            "\u001b[34m\u001b[1mwandb\u001b[0m: \tepsilon: 0.1\n",
            "\u001b[34m\u001b[1mwandb\u001b[0m: \tgamma: 0.99\n",
            "\u001b[34m\u001b[1mwandb\u001b[0m: \tmax_steps: 200\n",
            "\u001b[34m\u001b[1mwandb\u001b[0m: \tnum_bins: 20\n",
            "\u001b[34m\u001b[1mwandb\u001b[0m: \tnum_episodes: 5000\n",
            "\u001b[34m\u001b[1mwandb\u001b[0m: \ttemperature: 1\n"
          ]
        },
        {
          "output_type": "display_data",
          "data": {
            "text/plain": [
              "<IPython.core.display.HTML object>"
            ],
            "text/html": [
              "Ignoring project 'MountainCar-RL' when running a sweep."
            ]
          },
          "metadata": {}
        },
        {
          "output_type": "display_data",
          "data": {
            "text/plain": [
              "<IPython.core.display.HTML object>"
            ],
            "text/html": [
              "Ignoring entity 'subikksha' when running a sweep."
            ]
          },
          "metadata": {}
        },
        {
          "output_type": "display_data",
          "data": {
            "text/plain": [
              "<IPython.core.display.HTML object>"
            ],
            "text/html": [
              "Tracking run with wandb version 0.19.8"
            ]
          },
          "metadata": {}
        },
        {
          "output_type": "display_data",
          "data": {
            "text/plain": [
              "<IPython.core.display.HTML object>"
            ],
            "text/html": [
              "Run data is saved locally in <code>/content/wandb/run-20250322_202323-uvh1fkhh</code>"
            ]
          },
          "metadata": {}
        },
        {
          "output_type": "display_data",
          "data": {
            "text/plain": [
              "<IPython.core.display.HTML object>"
            ],
            "text/html": [
              "Syncing run <strong><a href='https://wandb.ai/subikksha-indian-institute-of-technology-madras/MountainCar-RL/runs/uvh1fkhh' target=\"_blank\">crimson-sweep-12</a></strong> to <a href='https://wandb.ai/subikksha-indian-institute-of-technology-madras/MountainCar-RL' target=\"_blank\">Weights & Biases</a> (<a href='https://wandb.me/developer-guide' target=\"_blank\">docs</a>)<br>Sweep page: <a href='https://wandb.ai/subikksha-indian-institute-of-technology-madras/MountainCar-RL/sweeps/cppzkh1g' target=\"_blank\">https://wandb.ai/subikksha-indian-institute-of-technology-madras/MountainCar-RL/sweeps/cppzkh1g</a>"
            ]
          },
          "metadata": {}
        },
        {
          "output_type": "display_data",
          "data": {
            "text/plain": [
              "<IPython.core.display.HTML object>"
            ],
            "text/html": [
              " View project at <a href='https://wandb.ai/subikksha-indian-institute-of-technology-madras/MountainCar-RL' target=\"_blank\">https://wandb.ai/subikksha-indian-institute-of-technology-madras/MountainCar-RL</a>"
            ]
          },
          "metadata": {}
        },
        {
          "output_type": "display_data",
          "data": {
            "text/plain": [
              "<IPython.core.display.HTML object>"
            ],
            "text/html": [
              " View sweep at <a href='https://wandb.ai/subikksha-indian-institute-of-technology-madras/MountainCar-RL/sweeps/cppzkh1g' target=\"_blank\">https://wandb.ai/subikksha-indian-institute-of-technology-madras/MountainCar-RL/sweeps/cppzkh1g</a>"
            ]
          },
          "metadata": {}
        },
        {
          "output_type": "display_data",
          "data": {
            "text/plain": [
              "<IPython.core.display.HTML object>"
            ],
            "text/html": [
              " View run at <a href='https://wandb.ai/subikksha-indian-institute-of-technology-madras/MountainCar-RL/runs/uvh1fkhh' target=\"_blank\">https://wandb.ai/subikksha-indian-institute-of-technology-madras/MountainCar-RL/runs/uvh1fkhh</a>"
            ]
          },
          "metadata": {}
        },
        {
          "output_type": "stream",
          "name": "stdout",
          "text": [
            "Seed 42, Episode 100, Total Reward: -200.0\n",
            "Seed 42, Episode 200, Total Reward: -200.0\n",
            "Seed 42, Episode 300, Total Reward: -200.0\n",
            "Seed 42, Episode 400, Total Reward: -200.0\n",
            "Seed 42, Episode 500, Total Reward: -200.0\n",
            "Seed 42, Episode 600, Total Reward: -200.0\n",
            "Seed 42, Episode 700, Total Reward: -200.0\n",
            "Seed 42, Episode 800, Total Reward: -200.0\n",
            "Seed 42, Episode 900, Total Reward: -200.0\n",
            "Seed 42, Episode 1000, Total Reward: -200.0\n",
            "Seed 42, Episode 1100, Total Reward: -200.0\n",
            "Seed 42, Episode 1200, Total Reward: -200.0\n",
            "Seed 42, Episode 1300, Total Reward: -200.0\n",
            "Seed 42, Episode 1400, Total Reward: -200.0\n",
            "Seed 42, Episode 1500, Total Reward: -200.0\n",
            "Seed 42, Episode 1600, Total Reward: -162.0\n",
            "Seed 42, Episode 1700, Total Reward: -200.0\n",
            "Seed 42, Episode 1800, Total Reward: -200.0\n",
            "Seed 42, Episode 1900, Total Reward: -200.0\n",
            "Seed 42, Episode 2000, Total Reward: -200.0\n",
            "Seed 42, Episode 2100, Total Reward: -200.0\n",
            "Seed 42, Episode 2200, Total Reward: -200.0\n",
            "Seed 42, Episode 2300, Total Reward: -200.0\n",
            "Seed 42, Episode 2400, Total Reward: -170.0\n",
            "Seed 42, Episode 2500, Total Reward: -200.0\n",
            "Seed 42, Episode 2600, Total Reward: -200.0\n",
            "Seed 42, Episode 2700, Total Reward: -151.0\n",
            "Seed 42, Episode 2800, Total Reward: -162.0\n",
            "Seed 42, Episode 2900, Total Reward: -200.0\n",
            "Seed 42, Episode 3000, Total Reward: -200.0\n",
            "Seed 42, Episode 3100, Total Reward: -200.0\n",
            "Seed 42, Episode 3200, Total Reward: -157.0\n",
            "Seed 42, Episode 3300, Total Reward: -155.0\n",
            "Seed 42, Episode 3400, Total Reward: -200.0\n",
            "Seed 42, Episode 3500, Total Reward: -149.0\n",
            "Seed 42, Episode 3600, Total Reward: -200.0\n",
            "Seed 42, Episode 3700, Total Reward: -176.0\n",
            "Seed 42, Episode 3800, Total Reward: -200.0\n",
            "Seed 42, Episode 3900, Total Reward: -198.0\n",
            "Seed 42, Episode 4000, Total Reward: -164.0\n",
            "Seed 42, Episode 4100, Total Reward: -146.0\n",
            "Seed 42, Episode 4200, Total Reward: -194.0\n",
            "Seed 42, Episode 4300, Total Reward: -153.0\n",
            "Seed 42, Episode 4400, Total Reward: -154.0\n",
            "Seed 42, Episode 4500, Total Reward: -125.0\n",
            "Seed 42, Episode 4600, Total Reward: -154.0\n",
            "Seed 42, Episode 4700, Total Reward: -200.0\n",
            "Seed 42, Episode 4800, Total Reward: -200.0\n",
            "Seed 42, Episode 4900, Total Reward: -149.0\n",
            "Seed 42, Episode 5000, Total Reward: -180.0\n",
            "Q-learning - Seed 42, Episode 100, Total Reward: -200.0\n",
            "Q-learning - Seed 42, Episode 200, Total Reward: -200.0\n",
            "Q-learning - Seed 42, Episode 300, Total Reward: -200.0\n",
            "Q-learning - Seed 42, Episode 400, Total Reward: -200.0\n",
            "Q-learning - Seed 42, Episode 500, Total Reward: -200.0\n",
            "Q-learning - Seed 42, Episode 600, Total Reward: -200.0\n",
            "Q-learning - Seed 42, Episode 700, Total Reward: -200.0\n",
            "Q-learning - Seed 42, Episode 800, Total Reward: -200.0\n",
            "Q-learning - Seed 42, Episode 900, Total Reward: -200.0\n",
            "Q-learning - Seed 42, Episode 1000, Total Reward: -200.0\n",
            "Q-learning - Seed 42, Episode 1100, Total Reward: -200.0\n",
            "Q-learning - Seed 42, Episode 1200, Total Reward: -200.0\n",
            "Q-learning - Seed 42, Episode 1300, Total Reward: -200.0\n",
            "Q-learning - Seed 42, Episode 1400, Total Reward: -200.0\n",
            "Q-learning - Seed 42, Episode 1500, Total Reward: -200.0\n",
            "Q-learning - Seed 42, Episode 1600, Total Reward: -200.0\n",
            "Q-learning - Seed 42, Episode 1700, Total Reward: -200.0\n",
            "Q-learning - Seed 42, Episode 1800, Total Reward: -200.0\n",
            "Q-learning - Seed 42, Episode 1900, Total Reward: -200.0\n",
            "Q-learning - Seed 42, Episode 2000, Total Reward: -200.0\n",
            "Q-learning - Seed 42, Episode 2100, Total Reward: -200.0\n",
            "Q-learning - Seed 42, Episode 2200, Total Reward: -200.0\n",
            "Q-learning - Seed 42, Episode 2300, Total Reward: -200.0\n",
            "Q-learning - Seed 42, Episode 2400, Total Reward: -200.0\n",
            "Q-learning - Seed 42, Episode 2500, Total Reward: -200.0\n",
            "Q-learning - Seed 42, Episode 2600, Total Reward: -200.0\n",
            "Q-learning - Seed 42, Episode 2700, Total Reward: -200.0\n",
            "Q-learning - Seed 42, Episode 2800, Total Reward: -200.0\n",
            "Q-learning - Seed 42, Episode 2900, Total Reward: -200.0\n",
            "Q-learning - Seed 42, Episode 3000, Total Reward: -200.0\n",
            "Q-learning - Seed 42, Episode 3100, Total Reward: -200.0\n",
            "Q-learning - Seed 42, Episode 3200, Total Reward: -200.0\n",
            "Q-learning - Seed 42, Episode 3300, Total Reward: -200.0\n",
            "Q-learning - Seed 42, Episode 3400, Total Reward: -200.0\n",
            "Q-learning - Seed 42, Episode 3500, Total Reward: -200.0\n",
            "Q-learning - Seed 42, Episode 3600, Total Reward: -200.0\n",
            "Q-learning - Seed 42, Episode 3700, Total Reward: -200.0\n",
            "Q-learning - Seed 42, Episode 3800, Total Reward: -200.0\n",
            "Q-learning - Seed 42, Episode 3900, Total Reward: -200.0\n",
            "Q-learning - Seed 42, Episode 4000, Total Reward: -200.0\n",
            "Q-learning - Seed 42, Episode 4100, Total Reward: -200.0\n",
            "Q-learning - Seed 42, Episode 4200, Total Reward: -200.0\n",
            "Q-learning - Seed 42, Episode 4300, Total Reward: -200.0\n",
            "Q-learning - Seed 42, Episode 4400, Total Reward: -200.0\n",
            "Q-learning - Seed 42, Episode 4500, Total Reward: -200.0\n",
            "Q-learning - Seed 42, Episode 4600, Total Reward: -200.0\n",
            "Q-learning - Seed 42, Episode 4700, Total Reward: -200.0\n",
            "Q-learning - Seed 42, Episode 4800, Total Reward: -200.0\n",
            "Q-learning - Seed 42, Episode 4900, Total Reward: -200.0\n",
            "Q-learning - Seed 42, Episode 5000, Total Reward: -200.0\n"
          ]
        },
        {
          "output_type": "display_data",
          "data": {
            "text/plain": [
              "<IPython.core.display.HTML object>"
            ],
            "text/html": []
          },
          "metadata": {}
        },
        {
          "output_type": "display_data",
          "data": {
            "text/plain": [
              "<IPython.core.display.HTML object>"
            ],
            "text/html": [
              "<br>    <style><br>        .wandb-row {<br>            display: flex;<br>            flex-direction: row;<br>            flex-wrap: wrap;<br>            justify-content: flex-start;<br>            width: 100%;<br>        }<br>        .wandb-col {<br>            display: flex;<br>            flex-direction: column;<br>            flex-basis: 100%;<br>            flex: 1;<br>            padding: 10px;<br>        }<br>    </style><br><div class=\"wandb-row\"><div class=\"wandb-col\"><h3>Run history:</h3><br/><table class=\"wandb\"><tr><td>avg_return_q_learning</td><td>▁</td></tr><tr><td>avg_return_sarsa</td><td>▁</td></tr></table><br/></div><div class=\"wandb-col\"><h3>Run summary:</h3><br/><table class=\"wandb\"><tr><td>avg_return_q_learning</td><td>-199.74</td></tr><tr><td>avg_return_sarsa</td><td>-182.18</td></tr></table><br/></div></div>"
            ]
          },
          "metadata": {}
        },
        {
          "output_type": "display_data",
          "data": {
            "text/plain": [
              "<IPython.core.display.HTML object>"
            ],
            "text/html": [
              " View run <strong style=\"color:#cdcd00\">alpha_0.05_eps_0.1_temp_1_bins_20</strong> at: <a href='https://wandb.ai/subikksha-indian-institute-of-technology-madras/MountainCar-RL/runs/uvh1fkhh' target=\"_blank\">https://wandb.ai/subikksha-indian-institute-of-technology-madras/MountainCar-RL/runs/uvh1fkhh</a><br> View project at: <a href='https://wandb.ai/subikksha-indian-institute-of-technology-madras/MountainCar-RL' target=\"_blank\">https://wandb.ai/subikksha-indian-institute-of-technology-madras/MountainCar-RL</a><br>Synced 5 W&B file(s), 0 media file(s), 0 artifact file(s) and 0 other file(s)"
            ]
          },
          "metadata": {}
        },
        {
          "output_type": "display_data",
          "data": {
            "text/plain": [
              "<IPython.core.display.HTML object>"
            ],
            "text/html": [
              "Find logs at: <code>./wandb/run-20250322_202323-uvh1fkhh/logs</code>"
            ]
          },
          "metadata": {}
        },
        {
          "output_type": "stream",
          "name": "stderr",
          "text": [
            "\u001b[34m\u001b[1mwandb\u001b[0m: Agent Starting Run: ur6em8k8 with config:\n",
            "\u001b[34m\u001b[1mwandb\u001b[0m: \talpha: 0.1\n",
            "\u001b[34m\u001b[1mwandb\u001b[0m: \tepsilon: 0.2\n",
            "\u001b[34m\u001b[1mwandb\u001b[0m: \tgamma: 0.99\n",
            "\u001b[34m\u001b[1mwandb\u001b[0m: \tmax_steps: 200\n",
            "\u001b[34m\u001b[1mwandb\u001b[0m: \tnum_bins: 15\n",
            "\u001b[34m\u001b[1mwandb\u001b[0m: \tnum_episodes: 5000\n",
            "\u001b[34m\u001b[1mwandb\u001b[0m: \ttemperature: 0.2\n"
          ]
        },
        {
          "output_type": "display_data",
          "data": {
            "text/plain": [
              "<IPython.core.display.HTML object>"
            ],
            "text/html": [
              "Ignoring project 'MountainCar-RL' when running a sweep."
            ]
          },
          "metadata": {}
        },
        {
          "output_type": "display_data",
          "data": {
            "text/plain": [
              "<IPython.core.display.HTML object>"
            ],
            "text/html": [
              "Ignoring entity 'subikksha' when running a sweep."
            ]
          },
          "metadata": {}
        },
        {
          "output_type": "display_data",
          "data": {
            "text/plain": [
              "<IPython.core.display.HTML object>"
            ],
            "text/html": [
              "Tracking run with wandb version 0.19.8"
            ]
          },
          "metadata": {}
        },
        {
          "output_type": "display_data",
          "data": {
            "text/plain": [
              "<IPython.core.display.HTML object>"
            ],
            "text/html": [
              "Run data is saved locally in <code>/content/wandb/run-20250322_202559-ur6em8k8</code>"
            ]
          },
          "metadata": {}
        },
        {
          "output_type": "display_data",
          "data": {
            "text/plain": [
              "<IPython.core.display.HTML object>"
            ],
            "text/html": [
              "Syncing run <strong><a href='https://wandb.ai/subikksha-indian-institute-of-technology-madras/MountainCar-RL/runs/ur6em8k8' target=\"_blank\">fancy-sweep-13</a></strong> to <a href='https://wandb.ai/subikksha-indian-institute-of-technology-madras/MountainCar-RL' target=\"_blank\">Weights & Biases</a> (<a href='https://wandb.me/developer-guide' target=\"_blank\">docs</a>)<br>Sweep page: <a href='https://wandb.ai/subikksha-indian-institute-of-technology-madras/MountainCar-RL/sweeps/cppzkh1g' target=\"_blank\">https://wandb.ai/subikksha-indian-institute-of-technology-madras/MountainCar-RL/sweeps/cppzkh1g</a>"
            ]
          },
          "metadata": {}
        },
        {
          "output_type": "display_data",
          "data": {
            "text/plain": [
              "<IPython.core.display.HTML object>"
            ],
            "text/html": [
              " View project at <a href='https://wandb.ai/subikksha-indian-institute-of-technology-madras/MountainCar-RL' target=\"_blank\">https://wandb.ai/subikksha-indian-institute-of-technology-madras/MountainCar-RL</a>"
            ]
          },
          "metadata": {}
        },
        {
          "output_type": "display_data",
          "data": {
            "text/plain": [
              "<IPython.core.display.HTML object>"
            ],
            "text/html": [
              " View sweep at <a href='https://wandb.ai/subikksha-indian-institute-of-technology-madras/MountainCar-RL/sweeps/cppzkh1g' target=\"_blank\">https://wandb.ai/subikksha-indian-institute-of-technology-madras/MountainCar-RL/sweeps/cppzkh1g</a>"
            ]
          },
          "metadata": {}
        },
        {
          "output_type": "display_data",
          "data": {
            "text/plain": [
              "<IPython.core.display.HTML object>"
            ],
            "text/html": [
              " View run at <a href='https://wandb.ai/subikksha-indian-institute-of-technology-madras/MountainCar-RL/runs/ur6em8k8' target=\"_blank\">https://wandb.ai/subikksha-indian-institute-of-technology-madras/MountainCar-RL/runs/ur6em8k8</a>"
            ]
          },
          "metadata": {}
        },
        {
          "output_type": "stream",
          "name": "stdout",
          "text": [
            "Seed 42, Episode 100, Total Reward: -200.0\n",
            "Seed 42, Episode 200, Total Reward: -200.0\n",
            "Seed 42, Episode 300, Total Reward: -200.0\n",
            "Seed 42, Episode 400, Total Reward: -200.0\n",
            "Seed 42, Episode 500, Total Reward: -200.0\n",
            "Seed 42, Episode 600, Total Reward: -200.0\n",
            "Seed 42, Episode 700, Total Reward: -200.0\n",
            "Seed 42, Episode 800, Total Reward: -200.0\n",
            "Seed 42, Episode 900, Total Reward: -191.0\n",
            "Seed 42, Episode 1000, Total Reward: -181.0\n",
            "Seed 42, Episode 1100, Total Reward: -200.0\n",
            "Seed 42, Episode 1200, Total Reward: -200.0\n",
            "Seed 42, Episode 1300, Total Reward: -200.0\n",
            "Seed 42, Episode 1400, Total Reward: -200.0\n",
            "Seed 42, Episode 1500, Total Reward: -169.0\n",
            "Seed 42, Episode 1600, Total Reward: -165.0\n",
            "Seed 42, Episode 1700, Total Reward: -200.0\n",
            "Seed 42, Episode 1800, Total Reward: -188.0\n",
            "Seed 42, Episode 1900, Total Reward: -200.0\n",
            "Seed 42, Episode 2000, Total Reward: -200.0\n",
            "Seed 42, Episode 2100, Total Reward: -169.0\n",
            "Seed 42, Episode 2200, Total Reward: -161.0\n",
            "Seed 42, Episode 2300, Total Reward: -200.0\n",
            "Seed 42, Episode 2400, Total Reward: -177.0\n",
            "Seed 42, Episode 2500, Total Reward: -200.0\n",
            "Seed 42, Episode 2600, Total Reward: -200.0\n",
            "Seed 42, Episode 2700, Total Reward: -200.0\n",
            "Seed 42, Episode 2800, Total Reward: -200.0\n",
            "Seed 42, Episode 2900, Total Reward: -200.0\n",
            "Seed 42, Episode 3000, Total Reward: -200.0\n",
            "Seed 42, Episode 3100, Total Reward: -200.0\n",
            "Seed 42, Episode 3200, Total Reward: -165.0\n",
            "Seed 42, Episode 3300, Total Reward: -165.0\n",
            "Seed 42, Episode 3400, Total Reward: -198.0\n",
            "Seed 42, Episode 3500, Total Reward: -200.0\n",
            "Seed 42, Episode 3600, Total Reward: -139.0\n",
            "Seed 42, Episode 3700, Total Reward: -170.0\n",
            "Seed 42, Episode 3800, Total Reward: -200.0\n",
            "Seed 42, Episode 3900, Total Reward: -200.0\n",
            "Seed 42, Episode 4000, Total Reward: -200.0\n",
            "Seed 42, Episode 4100, Total Reward: -200.0\n",
            "Seed 42, Episode 4200, Total Reward: -200.0\n",
            "Seed 42, Episode 4300, Total Reward: -200.0\n",
            "Seed 42, Episode 4400, Total Reward: -200.0\n",
            "Seed 42, Episode 4500, Total Reward: -200.0\n",
            "Seed 42, Episode 4600, Total Reward: -167.0\n",
            "Seed 42, Episode 4700, Total Reward: -161.0\n",
            "Seed 42, Episode 4800, Total Reward: -200.0\n",
            "Seed 42, Episode 4900, Total Reward: -149.0\n",
            "Seed 42, Episode 5000, Total Reward: -200.0\n",
            "Q-learning - Seed 42, Episode 100, Total Reward: -200.0\n",
            "Q-learning - Seed 42, Episode 200, Total Reward: -200.0\n",
            "Q-learning - Seed 42, Episode 300, Total Reward: -200.0\n",
            "Q-learning - Seed 42, Episode 400, Total Reward: -200.0\n",
            "Q-learning - Seed 42, Episode 500, Total Reward: -163.0\n",
            "Q-learning - Seed 42, Episode 600, Total Reward: -200.0\n",
            "Q-learning - Seed 42, Episode 700, Total Reward: -200.0\n",
            "Q-learning - Seed 42, Episode 800, Total Reward: -200.0\n",
            "Q-learning - Seed 42, Episode 900, Total Reward: -193.0\n",
            "Q-learning - Seed 42, Episode 1000, Total Reward: -200.0\n",
            "Q-learning - Seed 42, Episode 1100, Total Reward: -200.0\n",
            "Q-learning - Seed 42, Episode 1200, Total Reward: -186.0\n",
            "Q-learning - Seed 42, Episode 1300, Total Reward: -200.0\n",
            "Q-learning - Seed 42, Episode 1400, Total Reward: -147.0\n",
            "Q-learning - Seed 42, Episode 1500, Total Reward: -161.0\n",
            "Q-learning - Seed 42, Episode 1600, Total Reward: -200.0\n",
            "Q-learning - Seed 42, Episode 1700, Total Reward: -171.0\n",
            "Q-learning - Seed 42, Episode 1800, Total Reward: -162.0\n",
            "Q-learning - Seed 42, Episode 1900, Total Reward: -200.0\n",
            "Q-learning - Seed 42, Episode 2000, Total Reward: -161.0\n",
            "Q-learning - Seed 42, Episode 2100, Total Reward: -173.0\n",
            "Q-learning - Seed 42, Episode 2200, Total Reward: -200.0\n",
            "Q-learning - Seed 42, Episode 2300, Total Reward: -157.0\n",
            "Q-learning - Seed 42, Episode 2400, Total Reward: -174.0\n",
            "Q-learning - Seed 42, Episode 2500, Total Reward: -200.0\n",
            "Q-learning - Seed 42, Episode 2600, Total Reward: -181.0\n",
            "Q-learning - Seed 42, Episode 2700, Total Reward: -184.0\n",
            "Q-learning - Seed 42, Episode 2800, Total Reward: -150.0\n",
            "Q-learning - Seed 42, Episode 2900, Total Reward: -178.0\n",
            "Q-learning - Seed 42, Episode 3000, Total Reward: -154.0\n",
            "Q-learning - Seed 42, Episode 3100, Total Reward: -161.0\n",
            "Q-learning - Seed 42, Episode 3200, Total Reward: -149.0\n",
            "Q-learning - Seed 42, Episode 3300, Total Reward: -200.0\n",
            "Q-learning - Seed 42, Episode 3400, Total Reward: -200.0\n",
            "Q-learning - Seed 42, Episode 3500, Total Reward: -151.0\n",
            "Q-learning - Seed 42, Episode 3600, Total Reward: -144.0\n",
            "Q-learning - Seed 42, Episode 3700, Total Reward: -153.0\n",
            "Q-learning - Seed 42, Episode 3800, Total Reward: -189.0\n",
            "Q-learning - Seed 42, Episode 3900, Total Reward: -181.0\n",
            "Q-learning - Seed 42, Episode 4000, Total Reward: -176.0\n",
            "Q-learning - Seed 42, Episode 4100, Total Reward: -149.0\n",
            "Q-learning - Seed 42, Episode 4200, Total Reward: -157.0\n",
            "Q-learning - Seed 42, Episode 4300, Total Reward: -152.0\n",
            "Q-learning - Seed 42, Episode 4400, Total Reward: -167.0\n",
            "Q-learning - Seed 42, Episode 4500, Total Reward: -200.0\n",
            "Q-learning - Seed 42, Episode 4600, Total Reward: -169.0\n",
            "Q-learning - Seed 42, Episode 4700, Total Reward: -173.0\n",
            "Q-learning - Seed 42, Episode 4800, Total Reward: -152.0\n",
            "Q-learning - Seed 42, Episode 4900, Total Reward: -149.0\n",
            "Q-learning - Seed 42, Episode 5000, Total Reward: -143.0\n"
          ]
        },
        {
          "output_type": "display_data",
          "data": {
            "text/plain": [
              "<IPython.core.display.HTML object>"
            ],
            "text/html": []
          },
          "metadata": {}
        },
        {
          "output_type": "display_data",
          "data": {
            "text/plain": [
              "<IPython.core.display.HTML object>"
            ],
            "text/html": [
              "<br>    <style><br>        .wandb-row {<br>            display: flex;<br>            flex-direction: row;<br>            flex-wrap: wrap;<br>            justify-content: flex-start;<br>            width: 100%;<br>        }<br>        .wandb-col {<br>            display: flex;<br>            flex-direction: column;<br>            flex-basis: 100%;<br>            flex: 1;<br>            padding: 10px;<br>        }<br>    </style><br><div class=\"wandb-row\"><div class=\"wandb-col\"><h3>Run history:</h3><br/><table class=\"wandb\"><tr><td>avg_return_q_learning</td><td>▁</td></tr><tr><td>avg_return_sarsa</td><td>▁</td></tr></table><br/></div><div class=\"wandb-col\"><h3>Run summary:</h3><br/><table class=\"wandb\"><tr><td>avg_return_q_learning</td><td>-147.7</td></tr><tr><td>avg_return_sarsa</td><td>-181.79</td></tr></table><br/></div></div>"
            ]
          },
          "metadata": {}
        },
        {
          "output_type": "display_data",
          "data": {
            "text/plain": [
              "<IPython.core.display.HTML object>"
            ],
            "text/html": [
              " View run <strong style=\"color:#cdcd00\">alpha_0.1_eps_0.2_temp_0.2_bins_15</strong> at: <a href='https://wandb.ai/subikksha-indian-institute-of-technology-madras/MountainCar-RL/runs/ur6em8k8' target=\"_blank\">https://wandb.ai/subikksha-indian-institute-of-technology-madras/MountainCar-RL/runs/ur6em8k8</a><br> View project at: <a href='https://wandb.ai/subikksha-indian-institute-of-technology-madras/MountainCar-RL' target=\"_blank\">https://wandb.ai/subikksha-indian-institute-of-technology-madras/MountainCar-RL</a><br>Synced 5 W&B file(s), 0 media file(s), 0 artifact file(s) and 0 other file(s)"
            ]
          },
          "metadata": {}
        },
        {
          "output_type": "display_data",
          "data": {
            "text/plain": [
              "<IPython.core.display.HTML object>"
            ],
            "text/html": [
              "Find logs at: <code>./wandb/run-20250322_202559-ur6em8k8/logs</code>"
            ]
          },
          "metadata": {}
        },
        {
          "output_type": "stream",
          "name": "stderr",
          "text": [
            "\u001b[34m\u001b[1mwandb\u001b[0m: Agent Starting Run: su4k37rc with config:\n",
            "\u001b[34m\u001b[1mwandb\u001b[0m: \talpha: 0.2\n",
            "\u001b[34m\u001b[1mwandb\u001b[0m: \tepsilon: 0.05\n",
            "\u001b[34m\u001b[1mwandb\u001b[0m: \tgamma: 0.99\n",
            "\u001b[34m\u001b[1mwandb\u001b[0m: \tmax_steps: 200\n",
            "\u001b[34m\u001b[1mwandb\u001b[0m: \tnum_bins: 25\n",
            "\u001b[34m\u001b[1mwandb\u001b[0m: \tnum_episodes: 5000\n",
            "\u001b[34m\u001b[1mwandb\u001b[0m: \ttemperature: 0.5\n"
          ]
        },
        {
          "output_type": "display_data",
          "data": {
            "text/plain": [
              "<IPython.core.display.HTML object>"
            ],
            "text/html": [
              "Ignoring project 'MountainCar-RL' when running a sweep."
            ]
          },
          "metadata": {}
        },
        {
          "output_type": "display_data",
          "data": {
            "text/plain": [
              "<IPython.core.display.HTML object>"
            ],
            "text/html": [
              "Ignoring entity 'subikksha' when running a sweep."
            ]
          },
          "metadata": {}
        },
        {
          "output_type": "display_data",
          "data": {
            "text/plain": [
              "<IPython.core.display.HTML object>"
            ],
            "text/html": [
              "Tracking run with wandb version 0.19.8"
            ]
          },
          "metadata": {}
        },
        {
          "output_type": "display_data",
          "data": {
            "text/plain": [
              "<IPython.core.display.HTML object>"
            ],
            "text/html": [
              "Run data is saved locally in <code>/content/wandb/run-20250322_202825-su4k37rc</code>"
            ]
          },
          "metadata": {}
        },
        {
          "output_type": "display_data",
          "data": {
            "text/plain": [
              "<IPython.core.display.HTML object>"
            ],
            "text/html": [
              "Syncing run <strong><a href='https://wandb.ai/subikksha-indian-institute-of-technology-madras/MountainCar-RL/runs/su4k37rc' target=\"_blank\">comic-sweep-14</a></strong> to <a href='https://wandb.ai/subikksha-indian-institute-of-technology-madras/MountainCar-RL' target=\"_blank\">Weights & Biases</a> (<a href='https://wandb.me/developer-guide' target=\"_blank\">docs</a>)<br>Sweep page: <a href='https://wandb.ai/subikksha-indian-institute-of-technology-madras/MountainCar-RL/sweeps/cppzkh1g' target=\"_blank\">https://wandb.ai/subikksha-indian-institute-of-technology-madras/MountainCar-RL/sweeps/cppzkh1g</a>"
            ]
          },
          "metadata": {}
        },
        {
          "output_type": "display_data",
          "data": {
            "text/plain": [
              "<IPython.core.display.HTML object>"
            ],
            "text/html": [
              " View project at <a href='https://wandb.ai/subikksha-indian-institute-of-technology-madras/MountainCar-RL' target=\"_blank\">https://wandb.ai/subikksha-indian-institute-of-technology-madras/MountainCar-RL</a>"
            ]
          },
          "metadata": {}
        },
        {
          "output_type": "display_data",
          "data": {
            "text/plain": [
              "<IPython.core.display.HTML object>"
            ],
            "text/html": [
              " View sweep at <a href='https://wandb.ai/subikksha-indian-institute-of-technology-madras/MountainCar-RL/sweeps/cppzkh1g' target=\"_blank\">https://wandb.ai/subikksha-indian-institute-of-technology-madras/MountainCar-RL/sweeps/cppzkh1g</a>"
            ]
          },
          "metadata": {}
        },
        {
          "output_type": "display_data",
          "data": {
            "text/plain": [
              "<IPython.core.display.HTML object>"
            ],
            "text/html": [
              " View run at <a href='https://wandb.ai/subikksha-indian-institute-of-technology-madras/MountainCar-RL/runs/su4k37rc' target=\"_blank\">https://wandb.ai/subikksha-indian-institute-of-technology-madras/MountainCar-RL/runs/su4k37rc</a>"
            ]
          },
          "metadata": {}
        },
        {
          "output_type": "stream",
          "name": "stdout",
          "text": [
            "Seed 42, Episode 100, Total Reward: -200.0\n",
            "Seed 42, Episode 200, Total Reward: -200.0\n",
            "Seed 42, Episode 300, Total Reward: -200.0\n",
            "Seed 42, Episode 400, Total Reward: -200.0\n",
            "Seed 42, Episode 500, Total Reward: -200.0\n",
            "Seed 42, Episode 600, Total Reward: -165.0\n",
            "Seed 42, Episode 700, Total Reward: -200.0\n",
            "Seed 42, Episode 800, Total Reward: -200.0\n",
            "Seed 42, Episode 900, Total Reward: -169.0\n",
            "Seed 42, Episode 1000, Total Reward: -191.0\n",
            "Seed 42, Episode 1100, Total Reward: -118.0\n",
            "Seed 42, Episode 1200, Total Reward: -160.0\n",
            "Seed 42, Episode 1300, Total Reward: -200.0\n",
            "Seed 42, Episode 1400, Total Reward: -200.0\n",
            "Seed 42, Episode 1500, Total Reward: -200.0\n",
            "Seed 42, Episode 1600, Total Reward: -200.0\n",
            "Seed 42, Episode 1700, Total Reward: -173.0\n",
            "Seed 42, Episode 1800, Total Reward: -200.0\n",
            "Seed 42, Episode 1900, Total Reward: -157.0\n",
            "Seed 42, Episode 2000, Total Reward: -163.0\n",
            "Seed 42, Episode 2100, Total Reward: -163.0\n",
            "Seed 42, Episode 2200, Total Reward: -194.0\n",
            "Seed 42, Episode 2300, Total Reward: -152.0\n",
            "Seed 42, Episode 2400, Total Reward: -165.0\n",
            "Seed 42, Episode 2500, Total Reward: -125.0\n",
            "Seed 42, Episode 2600, Total Reward: -153.0\n",
            "Seed 42, Episode 2700, Total Reward: -141.0\n",
            "Seed 42, Episode 2800, Total Reward: -162.0\n",
            "Seed 42, Episode 2900, Total Reward: -200.0\n",
            "Seed 42, Episode 3000, Total Reward: -158.0\n",
            "Seed 42, Episode 3100, Total Reward: -161.0\n",
            "Seed 42, Episode 3200, Total Reward: -150.0\n",
            "Seed 42, Episode 3300, Total Reward: -152.0\n",
            "Seed 42, Episode 3400, Total Reward: -185.0\n",
            "Seed 42, Episode 3500, Total Reward: -200.0\n",
            "Seed 42, Episode 3600, Total Reward: -200.0\n",
            "Seed 42, Episode 3700, Total Reward: -161.0\n",
            "Seed 42, Episode 3800, Total Reward: -192.0\n",
            "Seed 42, Episode 3900, Total Reward: -200.0\n",
            "Seed 42, Episode 4000, Total Reward: -159.0\n",
            "Seed 42, Episode 4100, Total Reward: -179.0\n",
            "Seed 42, Episode 4200, Total Reward: -195.0\n",
            "Seed 42, Episode 4300, Total Reward: -142.0\n",
            "Seed 42, Episode 4400, Total Reward: -200.0\n",
            "Seed 42, Episode 4500, Total Reward: -117.0\n",
            "Seed 42, Episode 4600, Total Reward: -154.0\n",
            "Seed 42, Episode 4700, Total Reward: -147.0\n",
            "Seed 42, Episode 4800, Total Reward: -157.0\n",
            "Seed 42, Episode 4900, Total Reward: -175.0\n",
            "Seed 42, Episode 5000, Total Reward: -194.0\n",
            "Q-learning - Seed 42, Episode 100, Total Reward: -200.0\n",
            "Q-learning - Seed 42, Episode 200, Total Reward: -200.0\n",
            "Q-learning - Seed 42, Episode 300, Total Reward: -200.0\n",
            "Q-learning - Seed 42, Episode 400, Total Reward: -200.0\n",
            "Q-learning - Seed 42, Episode 500, Total Reward: -200.0\n",
            "Q-learning - Seed 42, Episode 600, Total Reward: -200.0\n",
            "Q-learning - Seed 42, Episode 700, Total Reward: -200.0\n",
            "Q-learning - Seed 42, Episode 800, Total Reward: -200.0\n",
            "Q-learning - Seed 42, Episode 900, Total Reward: -200.0\n",
            "Q-learning - Seed 42, Episode 1000, Total Reward: -200.0\n",
            "Q-learning - Seed 42, Episode 1100, Total Reward: -200.0\n",
            "Q-learning - Seed 42, Episode 1200, Total Reward: -200.0\n",
            "Q-learning - Seed 42, Episode 1300, Total Reward: -200.0\n",
            "Q-learning - Seed 42, Episode 1400, Total Reward: -200.0\n",
            "Q-learning - Seed 42, Episode 1500, Total Reward: -200.0\n",
            "Q-learning - Seed 42, Episode 1600, Total Reward: -200.0\n",
            "Q-learning - Seed 42, Episode 1700, Total Reward: -165.0\n",
            "Q-learning - Seed 42, Episode 1800, Total Reward: -200.0\n",
            "Q-learning - Seed 42, Episode 1900, Total Reward: -200.0\n",
            "Q-learning - Seed 42, Episode 2000, Total Reward: -157.0\n",
            "Q-learning - Seed 42, Episode 2100, Total Reward: -200.0\n",
            "Q-learning - Seed 42, Episode 2200, Total Reward: -194.0\n",
            "Q-learning - Seed 42, Episode 2300, Total Reward: -179.0\n",
            "Q-learning - Seed 42, Episode 2400, Total Reward: -200.0\n",
            "Q-learning - Seed 42, Episode 2500, Total Reward: -200.0\n",
            "Q-learning - Seed 42, Episode 2600, Total Reward: -200.0\n",
            "Q-learning - Seed 42, Episode 2700, Total Reward: -170.0\n",
            "Q-learning - Seed 42, Episode 2800, Total Reward: -200.0\n",
            "Q-learning - Seed 42, Episode 2900, Total Reward: -200.0\n",
            "Q-learning - Seed 42, Episode 3000, Total Reward: -169.0\n",
            "Q-learning - Seed 42, Episode 3100, Total Reward: -172.0\n",
            "Q-learning - Seed 42, Episode 3200, Total Reward: -200.0\n",
            "Q-learning - Seed 42, Episode 3300, Total Reward: -165.0\n",
            "Q-learning - Seed 42, Episode 3400, Total Reward: -191.0\n",
            "Q-learning - Seed 42, Episode 3500, Total Reward: -200.0\n",
            "Q-learning - Seed 42, Episode 3600, Total Reward: -200.0\n",
            "Q-learning - Seed 42, Episode 3700, Total Reward: -200.0\n",
            "Q-learning - Seed 42, Episode 3800, Total Reward: -196.0\n",
            "Q-learning - Seed 42, Episode 3900, Total Reward: -200.0\n",
            "Q-learning - Seed 42, Episode 4000, Total Reward: -200.0\n",
            "Q-learning - Seed 42, Episode 4100, Total Reward: -199.0\n",
            "Q-learning - Seed 42, Episode 4200, Total Reward: -200.0\n",
            "Q-learning - Seed 42, Episode 4300, Total Reward: -164.0\n",
            "Q-learning - Seed 42, Episode 4400, Total Reward: -149.0\n",
            "Q-learning - Seed 42, Episode 4500, Total Reward: -196.0\n",
            "Q-learning - Seed 42, Episode 4600, Total Reward: -200.0\n",
            "Q-learning - Seed 42, Episode 4700, Total Reward: -164.0\n",
            "Q-learning - Seed 42, Episode 4800, Total Reward: -200.0\n",
            "Q-learning - Seed 42, Episode 4900, Total Reward: -153.0\n",
            "Q-learning - Seed 42, Episode 5000, Total Reward: -180.0\n"
          ]
        },
        {
          "output_type": "display_data",
          "data": {
            "text/plain": [
              "<IPython.core.display.HTML object>"
            ],
            "text/html": []
          },
          "metadata": {}
        },
        {
          "output_type": "display_data",
          "data": {
            "text/plain": [
              "<IPython.core.display.HTML object>"
            ],
            "text/html": [
              "<br>    <style><br>        .wandb-row {<br>            display: flex;<br>            flex-direction: row;<br>            flex-wrap: wrap;<br>            justify-content: flex-start;<br>            width: 100%;<br>        }<br>        .wandb-col {<br>            display: flex;<br>            flex-direction: column;<br>            flex-basis: 100%;<br>            flex: 1;<br>            padding: 10px;<br>        }<br>    </style><br><div class=\"wandb-row\"><div class=\"wandb-col\"><h3>Run history:</h3><br/><table class=\"wandb\"><tr><td>avg_return_q_learning</td><td>▁</td></tr><tr><td>avg_return_sarsa</td><td>▁</td></tr></table><br/></div><div class=\"wandb-col\"><h3>Run summary:</h3><br/><table class=\"wandb\"><tr><td>avg_return_q_learning</td><td>-174.19</td></tr><tr><td>avg_return_sarsa</td><td>-171.68</td></tr></table><br/></div></div>"
            ]
          },
          "metadata": {}
        },
        {
          "output_type": "display_data",
          "data": {
            "text/plain": [
              "<IPython.core.display.HTML object>"
            ],
            "text/html": [
              " View run <strong style=\"color:#cdcd00\">alpha_0.2_eps_0.05_temp_0.5_bins_25</strong> at: <a href='https://wandb.ai/subikksha-indian-institute-of-technology-madras/MountainCar-RL/runs/su4k37rc' target=\"_blank\">https://wandb.ai/subikksha-indian-institute-of-technology-madras/MountainCar-RL/runs/su4k37rc</a><br> View project at: <a href='https://wandb.ai/subikksha-indian-institute-of-technology-madras/MountainCar-RL' target=\"_blank\">https://wandb.ai/subikksha-indian-institute-of-technology-madras/MountainCar-RL</a><br>Synced 5 W&B file(s), 0 media file(s), 0 artifact file(s) and 0 other file(s)"
            ]
          },
          "metadata": {}
        },
        {
          "output_type": "display_data",
          "data": {
            "text/plain": [
              "<IPython.core.display.HTML object>"
            ],
            "text/html": [
              "Find logs at: <code>./wandb/run-20250322_202825-su4k37rc/logs</code>"
            ]
          },
          "metadata": {}
        },
        {
          "output_type": "stream",
          "name": "stderr",
          "text": [
            "\u001b[34m\u001b[1mwandb\u001b[0m: Agent Starting Run: 7h370mbn with config:\n",
            "\u001b[34m\u001b[1mwandb\u001b[0m: \talpha: 0.1\n",
            "\u001b[34m\u001b[1mwandb\u001b[0m: \tepsilon: 0.05\n",
            "\u001b[34m\u001b[1mwandb\u001b[0m: \tgamma: 0.99\n",
            "\u001b[34m\u001b[1mwandb\u001b[0m: \tmax_steps: 200\n",
            "\u001b[34m\u001b[1mwandb\u001b[0m: \tnum_bins: 15\n",
            "\u001b[34m\u001b[1mwandb\u001b[0m: \tnum_episodes: 5000\n",
            "\u001b[34m\u001b[1mwandb\u001b[0m: \ttemperature: 1\n"
          ]
        },
        {
          "output_type": "display_data",
          "data": {
            "text/plain": [
              "<IPython.core.display.HTML object>"
            ],
            "text/html": [
              "Ignoring project 'MountainCar-RL' when running a sweep."
            ]
          },
          "metadata": {}
        },
        {
          "output_type": "display_data",
          "data": {
            "text/plain": [
              "<IPython.core.display.HTML object>"
            ],
            "text/html": [
              "Ignoring entity 'subikksha' when running a sweep."
            ]
          },
          "metadata": {}
        },
        {
          "output_type": "display_data",
          "data": {
            "text/plain": [
              "<IPython.core.display.HTML object>"
            ],
            "text/html": [
              "Tracking run with wandb version 0.19.8"
            ]
          },
          "metadata": {}
        },
        {
          "output_type": "display_data",
          "data": {
            "text/plain": [
              "<IPython.core.display.HTML object>"
            ],
            "text/html": [
              "Run data is saved locally in <code>/content/wandb/run-20250322_203052-7h370mbn</code>"
            ]
          },
          "metadata": {}
        },
        {
          "output_type": "display_data",
          "data": {
            "text/plain": [
              "<IPython.core.display.HTML object>"
            ],
            "text/html": [
              "Syncing run <strong><a href='https://wandb.ai/subikksha-indian-institute-of-technology-madras/MountainCar-RL/runs/7h370mbn' target=\"_blank\">desert-sweep-15</a></strong> to <a href='https://wandb.ai/subikksha-indian-institute-of-technology-madras/MountainCar-RL' target=\"_blank\">Weights & Biases</a> (<a href='https://wandb.me/developer-guide' target=\"_blank\">docs</a>)<br>Sweep page: <a href='https://wandb.ai/subikksha-indian-institute-of-technology-madras/MountainCar-RL/sweeps/cppzkh1g' target=\"_blank\">https://wandb.ai/subikksha-indian-institute-of-technology-madras/MountainCar-RL/sweeps/cppzkh1g</a>"
            ]
          },
          "metadata": {}
        },
        {
          "output_type": "display_data",
          "data": {
            "text/plain": [
              "<IPython.core.display.HTML object>"
            ],
            "text/html": [
              " View project at <a href='https://wandb.ai/subikksha-indian-institute-of-technology-madras/MountainCar-RL' target=\"_blank\">https://wandb.ai/subikksha-indian-institute-of-technology-madras/MountainCar-RL</a>"
            ]
          },
          "metadata": {}
        },
        {
          "output_type": "display_data",
          "data": {
            "text/plain": [
              "<IPython.core.display.HTML object>"
            ],
            "text/html": [
              " View sweep at <a href='https://wandb.ai/subikksha-indian-institute-of-technology-madras/MountainCar-RL/sweeps/cppzkh1g' target=\"_blank\">https://wandb.ai/subikksha-indian-institute-of-technology-madras/MountainCar-RL/sweeps/cppzkh1g</a>"
            ]
          },
          "metadata": {}
        },
        {
          "output_type": "display_data",
          "data": {
            "text/plain": [
              "<IPython.core.display.HTML object>"
            ],
            "text/html": [
              " View run at <a href='https://wandb.ai/subikksha-indian-institute-of-technology-madras/MountainCar-RL/runs/7h370mbn' target=\"_blank\">https://wandb.ai/subikksha-indian-institute-of-technology-madras/MountainCar-RL/runs/7h370mbn</a>"
            ]
          },
          "metadata": {}
        },
        {
          "output_type": "stream",
          "name": "stdout",
          "text": [
            "Seed 42, Episode 100, Total Reward: -200.0\n",
            "Seed 42, Episode 200, Total Reward: -200.0\n",
            "Seed 42, Episode 300, Total Reward: -200.0\n",
            "Seed 42, Episode 400, Total Reward: -200.0\n",
            "Seed 42, Episode 500, Total Reward: -200.0\n",
            "Seed 42, Episode 600, Total Reward: -200.0\n",
            "Seed 42, Episode 700, Total Reward: -200.0\n",
            "Seed 42, Episode 800, Total Reward: -159.0\n",
            "Seed 42, Episode 900, Total Reward: -200.0\n",
            "Seed 42, Episode 1000, Total Reward: -200.0\n",
            "Seed 42, Episode 1100, Total Reward: -200.0\n",
            "Seed 42, Episode 1200, Total Reward: -175.0\n",
            "Seed 42, Episode 1300, Total Reward: -200.0\n",
            "Seed 42, Episode 1400, Total Reward: -147.0\n",
            "Seed 42, Episode 1500, Total Reward: -141.0\n",
            "Seed 42, Episode 1600, Total Reward: -153.0\n",
            "Seed 42, Episode 1700, Total Reward: -200.0\n",
            "Seed 42, Episode 1800, Total Reward: -160.0\n",
            "Seed 42, Episode 1900, Total Reward: -200.0\n",
            "Seed 42, Episode 2000, Total Reward: -149.0\n",
            "Seed 42, Episode 2100, Total Reward: -150.0\n",
            "Seed 42, Episode 2200, Total Reward: -200.0\n",
            "Seed 42, Episode 2300, Total Reward: -155.0\n",
            "Seed 42, Episode 2400, Total Reward: -154.0\n",
            "Seed 42, Episode 2500, Total Reward: -200.0\n",
            "Seed 42, Episode 2600, Total Reward: -151.0\n",
            "Seed 42, Episode 2700, Total Reward: -157.0\n",
            "Seed 42, Episode 2800, Total Reward: -200.0\n",
            "Seed 42, Episode 2900, Total Reward: -200.0\n",
            "Seed 42, Episode 3000, Total Reward: -146.0\n",
            "Seed 42, Episode 3100, Total Reward: -158.0\n",
            "Seed 42, Episode 3200, Total Reward: -151.0\n",
            "Seed 42, Episode 3300, Total Reward: -163.0\n",
            "Seed 42, Episode 3400, Total Reward: -186.0\n",
            "Seed 42, Episode 3500, Total Reward: -185.0\n",
            "Seed 42, Episode 3600, Total Reward: -200.0\n",
            "Seed 42, Episode 3700, Total Reward: -153.0\n",
            "Seed 42, Episode 3800, Total Reward: -200.0\n",
            "Seed 42, Episode 3900, Total Reward: -200.0\n",
            "Seed 42, Episode 4000, Total Reward: -166.0\n",
            "Seed 42, Episode 4100, Total Reward: -139.0\n",
            "Seed 42, Episode 4200, Total Reward: -149.0\n",
            "Seed 42, Episode 4300, Total Reward: -142.0\n",
            "Seed 42, Episode 4400, Total Reward: -200.0\n",
            "Seed 42, Episode 4500, Total Reward: -188.0\n",
            "Seed 42, Episode 4600, Total Reward: -200.0\n",
            "Seed 42, Episode 4700, Total Reward: -168.0\n",
            "Seed 42, Episode 4800, Total Reward: -147.0\n",
            "Seed 42, Episode 4900, Total Reward: -200.0\n",
            "Seed 42, Episode 5000, Total Reward: -145.0\n",
            "Q-learning - Seed 42, Episode 100, Total Reward: -200.0\n",
            "Q-learning - Seed 42, Episode 200, Total Reward: -200.0\n",
            "Q-learning - Seed 42, Episode 300, Total Reward: -200.0\n",
            "Q-learning - Seed 42, Episode 400, Total Reward: -200.0\n",
            "Q-learning - Seed 42, Episode 500, Total Reward: -200.0\n",
            "Q-learning - Seed 42, Episode 600, Total Reward: -200.0\n",
            "Q-learning - Seed 42, Episode 700, Total Reward: -200.0\n",
            "Q-learning - Seed 42, Episode 800, Total Reward: -200.0\n",
            "Q-learning - Seed 42, Episode 900, Total Reward: -200.0\n",
            "Q-learning - Seed 42, Episode 1000, Total Reward: -200.0\n",
            "Q-learning - Seed 42, Episode 1100, Total Reward: -200.0\n",
            "Q-learning - Seed 42, Episode 1200, Total Reward: -200.0\n",
            "Q-learning - Seed 42, Episode 1300, Total Reward: -200.0\n",
            "Q-learning - Seed 42, Episode 1400, Total Reward: -192.0\n",
            "Q-learning - Seed 42, Episode 1500, Total Reward: -200.0\n",
            "Q-learning - Seed 42, Episode 1600, Total Reward: -200.0\n",
            "Q-learning - Seed 42, Episode 1700, Total Reward: -200.0\n",
            "Q-learning - Seed 42, Episode 1800, Total Reward: -200.0\n",
            "Q-learning - Seed 42, Episode 1900, Total Reward: -200.0\n",
            "Q-learning - Seed 42, Episode 2000, Total Reward: -200.0\n",
            "Q-learning - Seed 42, Episode 2100, Total Reward: -200.0\n",
            "Q-learning - Seed 42, Episode 2200, Total Reward: -200.0\n",
            "Q-learning - Seed 42, Episode 2300, Total Reward: -200.0\n",
            "Q-learning - Seed 42, Episode 2400, Total Reward: -200.0\n",
            "Q-learning - Seed 42, Episode 2500, Total Reward: -200.0\n",
            "Q-learning - Seed 42, Episode 2600, Total Reward: -200.0\n",
            "Q-learning - Seed 42, Episode 2700, Total Reward: -200.0\n",
            "Q-learning - Seed 42, Episode 2800, Total Reward: -200.0\n",
            "Q-learning - Seed 42, Episode 2900, Total Reward: -200.0\n",
            "Q-learning - Seed 42, Episode 3000, Total Reward: -200.0\n",
            "Q-learning - Seed 42, Episode 3100, Total Reward: -200.0\n",
            "Q-learning - Seed 42, Episode 3200, Total Reward: -200.0\n",
            "Q-learning - Seed 42, Episode 3300, Total Reward: -200.0\n",
            "Q-learning - Seed 42, Episode 3400, Total Reward: -200.0\n",
            "Q-learning - Seed 42, Episode 3500, Total Reward: -200.0\n",
            "Q-learning - Seed 42, Episode 3600, Total Reward: -200.0\n",
            "Q-learning - Seed 42, Episode 3700, Total Reward: -200.0\n",
            "Q-learning - Seed 42, Episode 3800, Total Reward: -200.0\n",
            "Q-learning - Seed 42, Episode 3900, Total Reward: -200.0\n",
            "Q-learning - Seed 42, Episode 4000, Total Reward: -200.0\n",
            "Q-learning - Seed 42, Episode 4100, Total Reward: -200.0\n",
            "Q-learning - Seed 42, Episode 4200, Total Reward: -200.0\n",
            "Q-learning - Seed 42, Episode 4300, Total Reward: -200.0\n",
            "Q-learning - Seed 42, Episode 4400, Total Reward: -200.0\n",
            "Q-learning - Seed 42, Episode 4500, Total Reward: -200.0\n",
            "Q-learning - Seed 42, Episode 4600, Total Reward: -200.0\n",
            "Q-learning - Seed 42, Episode 4700, Total Reward: -200.0\n",
            "Q-learning - Seed 42, Episode 4800, Total Reward: -200.0\n",
            "Q-learning - Seed 42, Episode 4900, Total Reward: -200.0\n",
            "Q-learning - Seed 42, Episode 5000, Total Reward: -200.0\n"
          ]
        },
        {
          "output_type": "display_data",
          "data": {
            "text/plain": [
              "<IPython.core.display.HTML object>"
            ],
            "text/html": []
          },
          "metadata": {}
        },
        {
          "output_type": "display_data",
          "data": {
            "text/plain": [
              "<IPython.core.display.HTML object>"
            ],
            "text/html": [
              "<br>    <style><br>        .wandb-row {<br>            display: flex;<br>            flex-direction: row;<br>            flex-wrap: wrap;<br>            justify-content: flex-start;<br>            width: 100%;<br>        }<br>        .wandb-col {<br>            display: flex;<br>            flex-direction: column;<br>            flex-basis: 100%;<br>            flex: 1;<br>            padding: 10px;<br>        }<br>    </style><br><div class=\"wandb-row\"><div class=\"wandb-col\"><h3>Run history:</h3><br/><table class=\"wandb\"><tr><td>avg_return_q_learning</td><td>▁</td></tr><tr><td>avg_return_sarsa</td><td>▁</td></tr></table><br/></div><div class=\"wandb-col\"><h3>Run summary:</h3><br/><table class=\"wandb\"><tr><td>avg_return_q_learning</td><td>-200</td></tr><tr><td>avg_return_sarsa</td><td>-168.82</td></tr></table><br/></div></div>"
            ]
          },
          "metadata": {}
        },
        {
          "output_type": "display_data",
          "data": {
            "text/plain": [
              "<IPython.core.display.HTML object>"
            ],
            "text/html": [
              " View run <strong style=\"color:#cdcd00\">alpha_0.1_eps_0.05_temp_1_bins_15</strong> at: <a href='https://wandb.ai/subikksha-indian-institute-of-technology-madras/MountainCar-RL/runs/7h370mbn' target=\"_blank\">https://wandb.ai/subikksha-indian-institute-of-technology-madras/MountainCar-RL/runs/7h370mbn</a><br> View project at: <a href='https://wandb.ai/subikksha-indian-institute-of-technology-madras/MountainCar-RL' target=\"_blank\">https://wandb.ai/subikksha-indian-institute-of-technology-madras/MountainCar-RL</a><br>Synced 5 W&B file(s), 0 media file(s), 0 artifact file(s) and 0 other file(s)"
            ]
          },
          "metadata": {}
        },
        {
          "output_type": "display_data",
          "data": {
            "text/plain": [
              "<IPython.core.display.HTML object>"
            ],
            "text/html": [
              "Find logs at: <code>./wandb/run-20250322_203052-7h370mbn/logs</code>"
            ]
          },
          "metadata": {}
        },
        {
          "output_type": "stream",
          "name": "stderr",
          "text": [
            "\u001b[34m\u001b[1mwandb\u001b[0m: Agent Starting Run: klklk10k with config:\n",
            "\u001b[34m\u001b[1mwandb\u001b[0m: \talpha: 0.1\n",
            "\u001b[34m\u001b[1mwandb\u001b[0m: \tepsilon: 0.01\n",
            "\u001b[34m\u001b[1mwandb\u001b[0m: \tgamma: 0.99\n",
            "\u001b[34m\u001b[1mwandb\u001b[0m: \tmax_steps: 200\n",
            "\u001b[34m\u001b[1mwandb\u001b[0m: \tnum_bins: 15\n",
            "\u001b[34m\u001b[1mwandb\u001b[0m: \tnum_episodes: 5000\n",
            "\u001b[34m\u001b[1mwandb\u001b[0m: \ttemperature: 0.2\n"
          ]
        },
        {
          "output_type": "display_data",
          "data": {
            "text/plain": [
              "<IPython.core.display.HTML object>"
            ],
            "text/html": [
              "Ignoring project 'MountainCar-RL' when running a sweep."
            ]
          },
          "metadata": {}
        },
        {
          "output_type": "display_data",
          "data": {
            "text/plain": [
              "<IPython.core.display.HTML object>"
            ],
            "text/html": [
              "Ignoring entity 'subikksha' when running a sweep."
            ]
          },
          "metadata": {}
        },
        {
          "output_type": "display_data",
          "data": {
            "text/plain": [
              "<IPython.core.display.HTML object>"
            ],
            "text/html": [
              "Tracking run with wandb version 0.19.8"
            ]
          },
          "metadata": {}
        },
        {
          "output_type": "display_data",
          "data": {
            "text/plain": [
              "<IPython.core.display.HTML object>"
            ],
            "text/html": [
              "Run data is saved locally in <code>/content/wandb/run-20250322_203324-klklk10k</code>"
            ]
          },
          "metadata": {}
        },
        {
          "output_type": "display_data",
          "data": {
            "text/plain": [
              "<IPython.core.display.HTML object>"
            ],
            "text/html": [
              "Syncing run <strong><a href='https://wandb.ai/subikksha-indian-institute-of-technology-madras/MountainCar-RL/runs/klklk10k' target=\"_blank\">dandy-sweep-16</a></strong> to <a href='https://wandb.ai/subikksha-indian-institute-of-technology-madras/MountainCar-RL' target=\"_blank\">Weights & Biases</a> (<a href='https://wandb.me/developer-guide' target=\"_blank\">docs</a>)<br>Sweep page: <a href='https://wandb.ai/subikksha-indian-institute-of-technology-madras/MountainCar-RL/sweeps/cppzkh1g' target=\"_blank\">https://wandb.ai/subikksha-indian-institute-of-technology-madras/MountainCar-RL/sweeps/cppzkh1g</a>"
            ]
          },
          "metadata": {}
        },
        {
          "output_type": "display_data",
          "data": {
            "text/plain": [
              "<IPython.core.display.HTML object>"
            ],
            "text/html": [
              " View project at <a href='https://wandb.ai/subikksha-indian-institute-of-technology-madras/MountainCar-RL' target=\"_blank\">https://wandb.ai/subikksha-indian-institute-of-technology-madras/MountainCar-RL</a>"
            ]
          },
          "metadata": {}
        },
        {
          "output_type": "display_data",
          "data": {
            "text/plain": [
              "<IPython.core.display.HTML object>"
            ],
            "text/html": [
              " View sweep at <a href='https://wandb.ai/subikksha-indian-institute-of-technology-madras/MountainCar-RL/sweeps/cppzkh1g' target=\"_blank\">https://wandb.ai/subikksha-indian-institute-of-technology-madras/MountainCar-RL/sweeps/cppzkh1g</a>"
            ]
          },
          "metadata": {}
        },
        {
          "output_type": "display_data",
          "data": {
            "text/plain": [
              "<IPython.core.display.HTML object>"
            ],
            "text/html": [
              " View run at <a href='https://wandb.ai/subikksha-indian-institute-of-technology-madras/MountainCar-RL/runs/klklk10k' target=\"_blank\">https://wandb.ai/subikksha-indian-institute-of-technology-madras/MountainCar-RL/runs/klklk10k</a>"
            ]
          },
          "metadata": {}
        },
        {
          "output_type": "stream",
          "name": "stdout",
          "text": [
            "Seed 42, Episode 100, Total Reward: -200.0\n",
            "Seed 42, Episode 200, Total Reward: -200.0\n",
            "Seed 42, Episode 300, Total Reward: -200.0\n",
            "Seed 42, Episode 400, Total Reward: -200.0\n",
            "Seed 42, Episode 500, Total Reward: -200.0\n",
            "Seed 42, Episode 600, Total Reward: -181.0\n",
            "Seed 42, Episode 700, Total Reward: -193.0\n",
            "Seed 42, Episode 800, Total Reward: -200.0\n",
            "Seed 42, Episode 900, Total Reward: -200.0\n",
            "Seed 42, Episode 1000, Total Reward: -200.0\n",
            "Seed 42, Episode 1100, Total Reward: -200.0\n",
            "Seed 42, Episode 1200, Total Reward: -164.0\n",
            "Seed 42, Episode 1300, Total Reward: -153.0\n",
            "Seed 42, Episode 1400, Total Reward: -152.0\n",
            "Seed 42, Episode 1500, Total Reward: -154.0\n",
            "Seed 42, Episode 1600, Total Reward: -160.0\n",
            "Seed 42, Episode 1700, Total Reward: -153.0\n",
            "Seed 42, Episode 1800, Total Reward: -200.0\n",
            "Seed 42, Episode 1900, Total Reward: -200.0\n",
            "Seed 42, Episode 2000, Total Reward: -200.0\n",
            "Seed 42, Episode 2100, Total Reward: -158.0\n",
            "Seed 42, Episode 2200, Total Reward: -151.0\n",
            "Seed 42, Episode 2300, Total Reward: -152.0\n",
            "Seed 42, Episode 2400, Total Reward: -182.0\n",
            "Seed 42, Episode 2500, Total Reward: -181.0\n",
            "Seed 42, Episode 2600, Total Reward: -200.0\n",
            "Seed 42, Episode 2700, Total Reward: -171.0\n",
            "Seed 42, Episode 2800, Total Reward: -149.0\n",
            "Seed 42, Episode 2900, Total Reward: -192.0\n",
            "Seed 42, Episode 3000, Total Reward: -151.0\n",
            "Seed 42, Episode 3100, Total Reward: -150.0\n",
            "Seed 42, Episode 3200, Total Reward: -171.0\n",
            "Seed 42, Episode 3300, Total Reward: -158.0\n",
            "Seed 42, Episode 3400, Total Reward: -171.0\n",
            "Seed 42, Episode 3500, Total Reward: -179.0\n",
            "Seed 42, Episode 3600, Total Reward: -200.0\n",
            "Seed 42, Episode 3700, Total Reward: -147.0\n",
            "Seed 42, Episode 3800, Total Reward: -185.0\n",
            "Seed 42, Episode 3900, Total Reward: -200.0\n",
            "Seed 42, Episode 4000, Total Reward: -172.0\n",
            "Seed 42, Episode 4100, Total Reward: -193.0\n",
            "Seed 42, Episode 4200, Total Reward: -122.0\n",
            "Seed 42, Episode 4300, Total Reward: -167.0\n",
            "Seed 42, Episode 4400, Total Reward: -164.0\n",
            "Seed 42, Episode 4500, Total Reward: -187.0\n",
            "Seed 42, Episode 4600, Total Reward: -153.0\n",
            "Seed 42, Episode 4700, Total Reward: -200.0\n",
            "Seed 42, Episode 4800, Total Reward: -143.0\n",
            "Seed 42, Episode 4900, Total Reward: -182.0\n",
            "Seed 42, Episode 5000, Total Reward: -174.0\n",
            "Q-learning - Seed 42, Episode 100, Total Reward: -200.0\n",
            "Q-learning - Seed 42, Episode 200, Total Reward: -200.0\n",
            "Q-learning - Seed 42, Episode 300, Total Reward: -200.0\n",
            "Q-learning - Seed 42, Episode 400, Total Reward: -200.0\n",
            "Q-learning - Seed 42, Episode 500, Total Reward: -163.0\n",
            "Q-learning - Seed 42, Episode 600, Total Reward: -200.0\n",
            "Q-learning - Seed 42, Episode 700, Total Reward: -200.0\n",
            "Q-learning - Seed 42, Episode 800, Total Reward: -200.0\n",
            "Q-learning - Seed 42, Episode 900, Total Reward: -193.0\n",
            "Q-learning - Seed 42, Episode 1000, Total Reward: -200.0\n",
            "Q-learning - Seed 42, Episode 1100, Total Reward: -200.0\n",
            "Q-learning - Seed 42, Episode 1200, Total Reward: -186.0\n",
            "Q-learning - Seed 42, Episode 1300, Total Reward: -200.0\n",
            "Q-learning - Seed 42, Episode 1400, Total Reward: -147.0\n",
            "Q-learning - Seed 42, Episode 1500, Total Reward: -161.0\n",
            "Q-learning - Seed 42, Episode 1600, Total Reward: -200.0\n",
            "Q-learning - Seed 42, Episode 1700, Total Reward: -171.0\n",
            "Q-learning - Seed 42, Episode 1800, Total Reward: -162.0\n",
            "Q-learning - Seed 42, Episode 1900, Total Reward: -200.0\n",
            "Q-learning - Seed 42, Episode 2000, Total Reward: -161.0\n",
            "Q-learning - Seed 42, Episode 2100, Total Reward: -173.0\n",
            "Q-learning - Seed 42, Episode 2200, Total Reward: -200.0\n",
            "Q-learning - Seed 42, Episode 2300, Total Reward: -157.0\n",
            "Q-learning - Seed 42, Episode 2400, Total Reward: -174.0\n",
            "Q-learning - Seed 42, Episode 2500, Total Reward: -200.0\n",
            "Q-learning - Seed 42, Episode 2600, Total Reward: -181.0\n",
            "Q-learning - Seed 42, Episode 2700, Total Reward: -184.0\n",
            "Q-learning - Seed 42, Episode 2800, Total Reward: -150.0\n",
            "Q-learning - Seed 42, Episode 2900, Total Reward: -178.0\n",
            "Q-learning - Seed 42, Episode 3000, Total Reward: -154.0\n",
            "Q-learning - Seed 42, Episode 3100, Total Reward: -161.0\n",
            "Q-learning - Seed 42, Episode 3200, Total Reward: -149.0\n",
            "Q-learning - Seed 42, Episode 3300, Total Reward: -200.0\n",
            "Q-learning - Seed 42, Episode 3400, Total Reward: -200.0\n",
            "Q-learning - Seed 42, Episode 3500, Total Reward: -151.0\n",
            "Q-learning - Seed 42, Episode 3600, Total Reward: -144.0\n",
            "Q-learning - Seed 42, Episode 3700, Total Reward: -153.0\n",
            "Q-learning - Seed 42, Episode 3800, Total Reward: -189.0\n",
            "Q-learning - Seed 42, Episode 3900, Total Reward: -181.0\n",
            "Q-learning - Seed 42, Episode 4000, Total Reward: -176.0\n",
            "Q-learning - Seed 42, Episode 4100, Total Reward: -149.0\n",
            "Q-learning - Seed 42, Episode 4200, Total Reward: -157.0\n",
            "Q-learning - Seed 42, Episode 4300, Total Reward: -152.0\n",
            "Q-learning - Seed 42, Episode 4400, Total Reward: -167.0\n",
            "Q-learning - Seed 42, Episode 4500, Total Reward: -200.0\n",
            "Q-learning - Seed 42, Episode 4600, Total Reward: -169.0\n",
            "Q-learning - Seed 42, Episode 4700, Total Reward: -173.0\n",
            "Q-learning - Seed 42, Episode 4800, Total Reward: -152.0\n",
            "Q-learning - Seed 42, Episode 4900, Total Reward: -149.0\n",
            "Q-learning - Seed 42, Episode 5000, Total Reward: -143.0\n"
          ]
        },
        {
          "output_type": "display_data",
          "data": {
            "text/plain": [
              "<IPython.core.display.HTML object>"
            ],
            "text/html": []
          },
          "metadata": {}
        },
        {
          "output_type": "display_data",
          "data": {
            "text/plain": [
              "<IPython.core.display.HTML object>"
            ],
            "text/html": [
              "<br>    <style><br>        .wandb-row {<br>            display: flex;<br>            flex-direction: row;<br>            flex-wrap: wrap;<br>            justify-content: flex-start;<br>            width: 100%;<br>        }<br>        .wandb-col {<br>            display: flex;<br>            flex-direction: column;<br>            flex-basis: 100%;<br>            flex: 1;<br>            padding: 10px;<br>        }<br>    </style><br><div class=\"wandb-row\"><div class=\"wandb-col\"><h3>Run history:</h3><br/><table class=\"wandb\"><tr><td>avg_return_q_learning</td><td>▁</td></tr><tr><td>avg_return_sarsa</td><td>▁</td></tr></table><br/></div><div class=\"wandb-col\"><h3>Run summary:</h3><br/><table class=\"wandb\"><tr><td>avg_return_q_learning</td><td>-147.7</td></tr><tr><td>avg_return_sarsa</td><td>-173.18</td></tr></table><br/></div></div>"
            ]
          },
          "metadata": {}
        },
        {
          "output_type": "display_data",
          "data": {
            "text/plain": [
              "<IPython.core.display.HTML object>"
            ],
            "text/html": [
              " View run <strong style=\"color:#cdcd00\">alpha_0.1_eps_0.01_temp_0.2_bins_15</strong> at: <a href='https://wandb.ai/subikksha-indian-institute-of-technology-madras/MountainCar-RL/runs/klklk10k' target=\"_blank\">https://wandb.ai/subikksha-indian-institute-of-technology-madras/MountainCar-RL/runs/klklk10k</a><br> View project at: <a href='https://wandb.ai/subikksha-indian-institute-of-technology-madras/MountainCar-RL' target=\"_blank\">https://wandb.ai/subikksha-indian-institute-of-technology-madras/MountainCar-RL</a><br>Synced 5 W&B file(s), 0 media file(s), 0 artifact file(s) and 0 other file(s)"
            ]
          },
          "metadata": {}
        },
        {
          "output_type": "display_data",
          "data": {
            "text/plain": [
              "<IPython.core.display.HTML object>"
            ],
            "text/html": [
              "Find logs at: <code>./wandb/run-20250322_203324-klklk10k/logs</code>"
            ]
          },
          "metadata": {}
        },
        {
          "output_type": "stream",
          "name": "stderr",
          "text": [
            "\u001b[34m\u001b[1mwandb\u001b[0m: Agent Starting Run: e7g45bzk with config:\n",
            "\u001b[34m\u001b[1mwandb\u001b[0m: \talpha: 0.05\n",
            "\u001b[34m\u001b[1mwandb\u001b[0m: \tepsilon: 0.1\n",
            "\u001b[34m\u001b[1mwandb\u001b[0m: \tgamma: 0.99\n",
            "\u001b[34m\u001b[1mwandb\u001b[0m: \tmax_steps: 200\n",
            "\u001b[34m\u001b[1mwandb\u001b[0m: \tnum_bins: 15\n",
            "\u001b[34m\u001b[1mwandb\u001b[0m: \tnum_episodes: 5000\n",
            "\u001b[34m\u001b[1mwandb\u001b[0m: \ttemperature: 0.5\n"
          ]
        },
        {
          "output_type": "display_data",
          "data": {
            "text/plain": [
              "<IPython.core.display.HTML object>"
            ],
            "text/html": [
              "Ignoring project 'MountainCar-RL' when running a sweep."
            ]
          },
          "metadata": {}
        },
        {
          "output_type": "display_data",
          "data": {
            "text/plain": [
              "<IPython.core.display.HTML object>"
            ],
            "text/html": [
              "Ignoring entity 'subikksha' when running a sweep."
            ]
          },
          "metadata": {}
        },
        {
          "output_type": "display_data",
          "data": {
            "text/plain": [
              "<IPython.core.display.HTML object>"
            ],
            "text/html": [
              "Tracking run with wandb version 0.19.8"
            ]
          },
          "metadata": {}
        },
        {
          "output_type": "display_data",
          "data": {
            "text/plain": [
              "<IPython.core.display.HTML object>"
            ],
            "text/html": [
              "Run data is saved locally in <code>/content/wandb/run-20250322_203540-e7g45bzk</code>"
            ]
          },
          "metadata": {}
        },
        {
          "output_type": "display_data",
          "data": {
            "text/plain": [
              "<IPython.core.display.HTML object>"
            ],
            "text/html": [
              "Syncing run <strong><a href='https://wandb.ai/subikksha-indian-institute-of-technology-madras/MountainCar-RL/runs/e7g45bzk' target=\"_blank\">wobbly-sweep-17</a></strong> to <a href='https://wandb.ai/subikksha-indian-institute-of-technology-madras/MountainCar-RL' target=\"_blank\">Weights & Biases</a> (<a href='https://wandb.me/developer-guide' target=\"_blank\">docs</a>)<br>Sweep page: <a href='https://wandb.ai/subikksha-indian-institute-of-technology-madras/MountainCar-RL/sweeps/cppzkh1g' target=\"_blank\">https://wandb.ai/subikksha-indian-institute-of-technology-madras/MountainCar-RL/sweeps/cppzkh1g</a>"
            ]
          },
          "metadata": {}
        },
        {
          "output_type": "display_data",
          "data": {
            "text/plain": [
              "<IPython.core.display.HTML object>"
            ],
            "text/html": [
              " View project at <a href='https://wandb.ai/subikksha-indian-institute-of-technology-madras/MountainCar-RL' target=\"_blank\">https://wandb.ai/subikksha-indian-institute-of-technology-madras/MountainCar-RL</a>"
            ]
          },
          "metadata": {}
        },
        {
          "output_type": "display_data",
          "data": {
            "text/plain": [
              "<IPython.core.display.HTML object>"
            ],
            "text/html": [
              " View sweep at <a href='https://wandb.ai/subikksha-indian-institute-of-technology-madras/MountainCar-RL/sweeps/cppzkh1g' target=\"_blank\">https://wandb.ai/subikksha-indian-institute-of-technology-madras/MountainCar-RL/sweeps/cppzkh1g</a>"
            ]
          },
          "metadata": {}
        },
        {
          "output_type": "display_data",
          "data": {
            "text/plain": [
              "<IPython.core.display.HTML object>"
            ],
            "text/html": [
              " View run at <a href='https://wandb.ai/subikksha-indian-institute-of-technology-madras/MountainCar-RL/runs/e7g45bzk' target=\"_blank\">https://wandb.ai/subikksha-indian-institute-of-technology-madras/MountainCar-RL/runs/e7g45bzk</a>"
            ]
          },
          "metadata": {}
        },
        {
          "output_type": "stream",
          "name": "stdout",
          "text": [
            "Seed 42, Episode 100, Total Reward: -200.0\n",
            "Seed 42, Episode 200, Total Reward: -200.0\n",
            "Seed 42, Episode 300, Total Reward: -200.0\n",
            "Seed 42, Episode 400, Total Reward: -198.0\n",
            "Seed 42, Episode 500, Total Reward: -200.0\n",
            "Seed 42, Episode 600, Total Reward: -200.0\n",
            "Seed 42, Episode 700, Total Reward: -200.0\n",
            "Seed 42, Episode 800, Total Reward: -160.0\n",
            "Seed 42, Episode 900, Total Reward: -200.0\n",
            "Seed 42, Episode 1000, Total Reward: -200.0\n",
            "Seed 42, Episode 1100, Total Reward: -200.0\n",
            "Seed 42, Episode 1200, Total Reward: -181.0\n",
            "Seed 42, Episode 1300, Total Reward: -200.0\n",
            "Seed 42, Episode 1400, Total Reward: -200.0\n",
            "Seed 42, Episode 1500, Total Reward: -159.0\n",
            "Seed 42, Episode 1600, Total Reward: -165.0\n",
            "Seed 42, Episode 1700, Total Reward: -200.0\n",
            "Seed 42, Episode 1800, Total Reward: -200.0\n",
            "Seed 42, Episode 1900, Total Reward: -200.0\n",
            "Seed 42, Episode 2000, Total Reward: -172.0\n",
            "Seed 42, Episode 2100, Total Reward: -152.0\n",
            "Seed 42, Episode 2200, Total Reward: -200.0\n",
            "Seed 42, Episode 2300, Total Reward: -169.0\n",
            "Seed 42, Episode 2400, Total Reward: -200.0\n",
            "Seed 42, Episode 2500, Total Reward: -200.0\n",
            "Seed 42, Episode 2600, Total Reward: -200.0\n",
            "Seed 42, Episode 2700, Total Reward: -166.0\n",
            "Seed 42, Episode 2800, Total Reward: -162.0\n",
            "Seed 42, Episode 2900, Total Reward: -200.0\n",
            "Seed 42, Episode 3000, Total Reward: -158.0\n",
            "Seed 42, Episode 3100, Total Reward: -166.0\n",
            "Seed 42, Episode 3200, Total Reward: -200.0\n",
            "Seed 42, Episode 3300, Total Reward: -200.0\n",
            "Seed 42, Episode 3400, Total Reward: -191.0\n",
            "Seed 42, Episode 3500, Total Reward: -139.0\n",
            "Seed 42, Episode 3600, Total Reward: -155.0\n",
            "Seed 42, Episode 3700, Total Reward: -147.0\n",
            "Seed 42, Episode 3800, Total Reward: -183.0\n",
            "Seed 42, Episode 3900, Total Reward: -164.0\n",
            "Seed 42, Episode 4000, Total Reward: -200.0\n",
            "Seed 42, Episode 4100, Total Reward: -200.0\n",
            "Seed 42, Episode 4200, Total Reward: -200.0\n",
            "Seed 42, Episode 4300, Total Reward: -181.0\n",
            "Seed 42, Episode 4400, Total Reward: -151.0\n",
            "Seed 42, Episode 4500, Total Reward: -191.0\n",
            "Seed 42, Episode 4600, Total Reward: -200.0\n",
            "Seed 42, Episode 4700, Total Reward: -200.0\n",
            "Seed 42, Episode 4800, Total Reward: -200.0\n",
            "Seed 42, Episode 4900, Total Reward: -156.0\n",
            "Seed 42, Episode 5000, Total Reward: -198.0\n",
            "Q-learning - Seed 42, Episode 100, Total Reward: -200.0\n",
            "Q-learning - Seed 42, Episode 200, Total Reward: -200.0\n",
            "Q-learning - Seed 42, Episode 300, Total Reward: -200.0\n",
            "Q-learning - Seed 42, Episode 400, Total Reward: -200.0\n",
            "Q-learning - Seed 42, Episode 500, Total Reward: -200.0\n",
            "Q-learning - Seed 42, Episode 600, Total Reward: -200.0\n",
            "Q-learning - Seed 42, Episode 700, Total Reward: -200.0\n",
            "Q-learning - Seed 42, Episode 800, Total Reward: -175.0\n",
            "Q-learning - Seed 42, Episode 900, Total Reward: -200.0\n",
            "Q-learning - Seed 42, Episode 1000, Total Reward: -200.0\n",
            "Q-learning - Seed 42, Episode 1100, Total Reward: -200.0\n",
            "Q-learning - Seed 42, Episode 1200, Total Reward: -174.0\n",
            "Q-learning - Seed 42, Episode 1300, Total Reward: -200.0\n",
            "Q-learning - Seed 42, Episode 1400, Total Reward: -200.0\n",
            "Q-learning - Seed 42, Episode 1500, Total Reward: -200.0\n",
            "Q-learning - Seed 42, Episode 1600, Total Reward: -200.0\n",
            "Q-learning - Seed 42, Episode 1700, Total Reward: -200.0\n",
            "Q-learning - Seed 42, Episode 1800, Total Reward: -200.0\n",
            "Q-learning - Seed 42, Episode 1900, Total Reward: -200.0\n",
            "Q-learning - Seed 42, Episode 2000, Total Reward: -200.0\n",
            "Q-learning - Seed 42, Episode 2100, Total Reward: -200.0\n",
            "Q-learning - Seed 42, Episode 2200, Total Reward: -193.0\n",
            "Q-learning - Seed 42, Episode 2300, Total Reward: -158.0\n",
            "Q-learning - Seed 42, Episode 2400, Total Reward: -155.0\n",
            "Q-learning - Seed 42, Episode 2500, Total Reward: -199.0\n",
            "Q-learning - Seed 42, Episode 2600, Total Reward: -200.0\n",
            "Q-learning - Seed 42, Episode 2700, Total Reward: -200.0\n",
            "Q-learning - Seed 42, Episode 2800, Total Reward: -200.0\n",
            "Q-learning - Seed 42, Episode 2900, Total Reward: -200.0\n",
            "Q-learning - Seed 42, Episode 3000, Total Reward: -177.0\n",
            "Q-learning - Seed 42, Episode 3100, Total Reward: -157.0\n",
            "Q-learning - Seed 42, Episode 3200, Total Reward: -200.0\n",
            "Q-learning - Seed 42, Episode 3300, Total Reward: -200.0\n",
            "Q-learning - Seed 42, Episode 3400, Total Reward: -200.0\n",
            "Q-learning - Seed 42, Episode 3500, Total Reward: -200.0\n",
            "Q-learning - Seed 42, Episode 3600, Total Reward: -200.0\n",
            "Q-learning - Seed 42, Episode 3700, Total Reward: -165.0\n",
            "Q-learning - Seed 42, Episode 3800, Total Reward: -200.0\n",
            "Q-learning - Seed 42, Episode 3900, Total Reward: -200.0\n",
            "Q-learning - Seed 42, Episode 4000, Total Reward: -161.0\n",
            "Q-learning - Seed 42, Episode 4100, Total Reward: -200.0\n",
            "Q-learning - Seed 42, Episode 4200, Total Reward: -200.0\n",
            "Q-learning - Seed 42, Episode 4300, Total Reward: -200.0\n",
            "Q-learning - Seed 42, Episode 4400, Total Reward: -163.0\n",
            "Q-learning - Seed 42, Episode 4500, Total Reward: -199.0\n",
            "Q-learning - Seed 42, Episode 4600, Total Reward: -168.0\n",
            "Q-learning - Seed 42, Episode 4700, Total Reward: -200.0\n",
            "Q-learning - Seed 42, Episode 4800, Total Reward: -200.0\n",
            "Q-learning - Seed 42, Episode 4900, Total Reward: -174.0\n",
            "Q-learning - Seed 42, Episode 5000, Total Reward: -192.0\n"
          ]
        },
        {
          "output_type": "display_data",
          "data": {
            "text/plain": [
              "<IPython.core.display.HTML object>"
            ],
            "text/html": []
          },
          "metadata": {}
        },
        {
          "output_type": "display_data",
          "data": {
            "text/plain": [
              "<IPython.core.display.HTML object>"
            ],
            "text/html": [
              "<br>    <style><br>        .wandb-row {<br>            display: flex;<br>            flex-direction: row;<br>            flex-wrap: wrap;<br>            justify-content: flex-start;<br>            width: 100%;<br>        }<br>        .wandb-col {<br>            display: flex;<br>            flex-direction: column;<br>            flex-basis: 100%;<br>            flex: 1;<br>            padding: 10px;<br>        }<br>    </style><br><div class=\"wandb-row\"><div class=\"wandb-col\"><h3>Run history:</h3><br/><table class=\"wandb\"><tr><td>avg_return_q_learning</td><td>▁</td></tr><tr><td>avg_return_sarsa</td><td>▁</td></tr></table><br/></div><div class=\"wandb-col\"><h3>Run summary:</h3><br/><table class=\"wandb\"><tr><td>avg_return_q_learning</td><td>-186.05</td></tr><tr><td>avg_return_sarsa</td><td>-174.24</td></tr></table><br/></div></div>"
            ]
          },
          "metadata": {}
        },
        {
          "output_type": "display_data",
          "data": {
            "text/plain": [
              "<IPython.core.display.HTML object>"
            ],
            "text/html": [
              " View run <strong style=\"color:#cdcd00\">alpha_0.05_eps_0.1_temp_0.5_bins_15</strong> at: <a href='https://wandb.ai/subikksha-indian-institute-of-technology-madras/MountainCar-RL/runs/e7g45bzk' target=\"_blank\">https://wandb.ai/subikksha-indian-institute-of-technology-madras/MountainCar-RL/runs/e7g45bzk</a><br> View project at: <a href='https://wandb.ai/subikksha-indian-institute-of-technology-madras/MountainCar-RL' target=\"_blank\">https://wandb.ai/subikksha-indian-institute-of-technology-madras/MountainCar-RL</a><br>Synced 5 W&B file(s), 0 media file(s), 0 artifact file(s) and 0 other file(s)"
            ]
          },
          "metadata": {}
        },
        {
          "output_type": "display_data",
          "data": {
            "text/plain": [
              "<IPython.core.display.HTML object>"
            ],
            "text/html": [
              "Find logs at: <code>./wandb/run-20250322_203540-e7g45bzk/logs</code>"
            ]
          },
          "metadata": {}
        },
        {
          "output_type": "stream",
          "name": "stderr",
          "text": [
            "\u001b[34m\u001b[1mwandb\u001b[0m: Agent Starting Run: 18suqzuf with config:\n",
            "\u001b[34m\u001b[1mwandb\u001b[0m: \talpha: 0.05\n",
            "\u001b[34m\u001b[1mwandb\u001b[0m: \tepsilon: 0.05\n",
            "\u001b[34m\u001b[1mwandb\u001b[0m: \tgamma: 0.99\n",
            "\u001b[34m\u001b[1mwandb\u001b[0m: \tmax_steps: 200\n",
            "\u001b[34m\u001b[1mwandb\u001b[0m: \tnum_bins: 20\n",
            "\u001b[34m\u001b[1mwandb\u001b[0m: \tnum_episodes: 5000\n",
            "\u001b[34m\u001b[1mwandb\u001b[0m: \ttemperature: 0.2\n"
          ]
        },
        {
          "output_type": "display_data",
          "data": {
            "text/plain": [
              "<IPython.core.display.HTML object>"
            ],
            "text/html": [
              "Ignoring project 'MountainCar-RL' when running a sweep."
            ]
          },
          "metadata": {}
        },
        {
          "output_type": "display_data",
          "data": {
            "text/plain": [
              "<IPython.core.display.HTML object>"
            ],
            "text/html": [
              "Ignoring entity 'subikksha' when running a sweep."
            ]
          },
          "metadata": {}
        },
        {
          "output_type": "display_data",
          "data": {
            "text/plain": [
              "<IPython.core.display.HTML object>"
            ],
            "text/html": [
              "Tracking run with wandb version 0.19.8"
            ]
          },
          "metadata": {}
        },
        {
          "output_type": "display_data",
          "data": {
            "text/plain": [
              "<IPython.core.display.HTML object>"
            ],
            "text/html": [
              "Run data is saved locally in <code>/content/wandb/run-20250322_203812-18suqzuf</code>"
            ]
          },
          "metadata": {}
        },
        {
          "output_type": "display_data",
          "data": {
            "text/plain": [
              "<IPython.core.display.HTML object>"
            ],
            "text/html": [
              "Syncing run <strong><a href='https://wandb.ai/subikksha-indian-institute-of-technology-madras/MountainCar-RL/runs/18suqzuf' target=\"_blank\">deep-sweep-18</a></strong> to <a href='https://wandb.ai/subikksha-indian-institute-of-technology-madras/MountainCar-RL' target=\"_blank\">Weights & Biases</a> (<a href='https://wandb.me/developer-guide' target=\"_blank\">docs</a>)<br>Sweep page: <a href='https://wandb.ai/subikksha-indian-institute-of-technology-madras/MountainCar-RL/sweeps/cppzkh1g' target=\"_blank\">https://wandb.ai/subikksha-indian-institute-of-technology-madras/MountainCar-RL/sweeps/cppzkh1g</a>"
            ]
          },
          "metadata": {}
        },
        {
          "output_type": "display_data",
          "data": {
            "text/plain": [
              "<IPython.core.display.HTML object>"
            ],
            "text/html": [
              " View project at <a href='https://wandb.ai/subikksha-indian-institute-of-technology-madras/MountainCar-RL' target=\"_blank\">https://wandb.ai/subikksha-indian-institute-of-technology-madras/MountainCar-RL</a>"
            ]
          },
          "metadata": {}
        },
        {
          "output_type": "display_data",
          "data": {
            "text/plain": [
              "<IPython.core.display.HTML object>"
            ],
            "text/html": [
              " View sweep at <a href='https://wandb.ai/subikksha-indian-institute-of-technology-madras/MountainCar-RL/sweeps/cppzkh1g' target=\"_blank\">https://wandb.ai/subikksha-indian-institute-of-technology-madras/MountainCar-RL/sweeps/cppzkh1g</a>"
            ]
          },
          "metadata": {}
        },
        {
          "output_type": "display_data",
          "data": {
            "text/plain": [
              "<IPython.core.display.HTML object>"
            ],
            "text/html": [
              " View run at <a href='https://wandb.ai/subikksha-indian-institute-of-technology-madras/MountainCar-RL/runs/18suqzuf' target=\"_blank\">https://wandb.ai/subikksha-indian-institute-of-technology-madras/MountainCar-RL/runs/18suqzuf</a>"
            ]
          },
          "metadata": {}
        },
        {
          "output_type": "stream",
          "name": "stdout",
          "text": [
            "Seed 42, Episode 100, Total Reward: -200.0\n",
            "Seed 42, Episode 200, Total Reward: -200.0\n",
            "Seed 42, Episode 300, Total Reward: -200.0\n",
            "Seed 42, Episode 400, Total Reward: -200.0\n",
            "Seed 42, Episode 500, Total Reward: -200.0\n",
            "Seed 42, Episode 600, Total Reward: -200.0\n",
            "Seed 42, Episode 700, Total Reward: -200.0\n",
            "Seed 42, Episode 800, Total Reward: -200.0\n",
            "Seed 42, Episode 900, Total Reward: -200.0\n",
            "Seed 42, Episode 1000, Total Reward: -200.0\n",
            "Seed 42, Episode 1100, Total Reward: -200.0\n",
            "Seed 42, Episode 1200, Total Reward: -200.0\n",
            "Seed 42, Episode 1300, Total Reward: -200.0\n",
            "Seed 42, Episode 1400, Total Reward: -200.0\n",
            "Seed 42, Episode 1500, Total Reward: -200.0\n",
            "Seed 42, Episode 1600, Total Reward: -200.0\n",
            "Seed 42, Episode 1700, Total Reward: -200.0\n",
            "Seed 42, Episode 1800, Total Reward: -184.0\n",
            "Seed 42, Episode 1900, Total Reward: -200.0\n",
            "Seed 42, Episode 2000, Total Reward: -200.0\n",
            "Seed 42, Episode 2100, Total Reward: -200.0\n",
            "Seed 42, Episode 2200, Total Reward: -191.0\n",
            "Seed 42, Episode 2300, Total Reward: -170.0\n",
            "Seed 42, Episode 2400, Total Reward: -200.0\n",
            "Seed 42, Episode 2500, Total Reward: -193.0\n",
            "Seed 42, Episode 2600, Total Reward: -200.0\n",
            "Seed 42, Episode 2700, Total Reward: -200.0\n",
            "Seed 42, Episode 2800, Total Reward: -160.0\n",
            "Seed 42, Episode 2900, Total Reward: -200.0\n",
            "Seed 42, Episode 3000, Total Reward: -200.0\n",
            "Seed 42, Episode 3100, Total Reward: -165.0\n",
            "Seed 42, Episode 3200, Total Reward: -200.0\n",
            "Seed 42, Episode 3300, Total Reward: -162.0\n",
            "Seed 42, Episode 3400, Total Reward: -197.0\n",
            "Seed 42, Episode 3500, Total Reward: -200.0\n",
            "Seed 42, Episode 3600, Total Reward: -172.0\n",
            "Seed 42, Episode 3700, Total Reward: -155.0\n",
            "Seed 42, Episode 3800, Total Reward: -196.0\n",
            "Seed 42, Episode 3900, Total Reward: -140.0\n",
            "Seed 42, Episode 4000, Total Reward: -200.0\n",
            "Seed 42, Episode 4100, Total Reward: -185.0\n",
            "Seed 42, Episode 4200, Total Reward: -200.0\n",
            "Seed 42, Episode 4300, Total Reward: -138.0\n",
            "Seed 42, Episode 4400, Total Reward: -158.0\n",
            "Seed 42, Episode 4500, Total Reward: -142.0\n",
            "Seed 42, Episode 4600, Total Reward: -161.0\n",
            "Seed 42, Episode 4700, Total Reward: -159.0\n",
            "Seed 42, Episode 4800, Total Reward: -186.0\n",
            "Seed 42, Episode 4900, Total Reward: -144.0\n",
            "Seed 42, Episode 5000, Total Reward: -141.0\n",
            "Q-learning - Seed 42, Episode 100, Total Reward: -200.0\n",
            "Q-learning - Seed 42, Episode 200, Total Reward: -200.0\n",
            "Q-learning - Seed 42, Episode 300, Total Reward: -200.0\n",
            "Q-learning - Seed 42, Episode 400, Total Reward: -200.0\n",
            "Q-learning - Seed 42, Episode 500, Total Reward: -200.0\n",
            "Q-learning - Seed 42, Episode 600, Total Reward: -200.0\n",
            "Q-learning - Seed 42, Episode 700, Total Reward: -200.0\n",
            "Q-learning - Seed 42, Episode 800, Total Reward: -200.0\n",
            "Q-learning - Seed 42, Episode 900, Total Reward: -200.0\n",
            "Q-learning - Seed 42, Episode 1000, Total Reward: -200.0\n",
            "Q-learning - Seed 42, Episode 1100, Total Reward: -200.0\n",
            "Q-learning - Seed 42, Episode 1200, Total Reward: -200.0\n",
            "Q-learning - Seed 42, Episode 1300, Total Reward: -200.0\n",
            "Q-learning - Seed 42, Episode 1400, Total Reward: -200.0\n",
            "Q-learning - Seed 42, Episode 1500, Total Reward: -200.0\n",
            "Q-learning - Seed 42, Episode 1600, Total Reward: -200.0\n",
            "Q-learning - Seed 42, Episode 1700, Total Reward: -200.0\n",
            "Q-learning - Seed 42, Episode 1800, Total Reward: -200.0\n",
            "Q-learning - Seed 42, Episode 1900, Total Reward: -200.0\n",
            "Q-learning - Seed 42, Episode 2000, Total Reward: -200.0\n",
            "Q-learning - Seed 42, Episode 2100, Total Reward: -158.0\n",
            "Q-learning - Seed 42, Episode 2200, Total Reward: -200.0\n",
            "Q-learning - Seed 42, Episode 2300, Total Reward: -200.0\n",
            "Q-learning - Seed 42, Episode 2400, Total Reward: -200.0\n",
            "Q-learning - Seed 42, Episode 2500, Total Reward: -193.0\n",
            "Q-learning - Seed 42, Episode 2600, Total Reward: -200.0\n",
            "Q-learning - Seed 42, Episode 2700, Total Reward: -200.0\n",
            "Q-learning - Seed 42, Episode 2800, Total Reward: -200.0\n",
            "Q-learning - Seed 42, Episode 2900, Total Reward: -200.0\n",
            "Q-learning - Seed 42, Episode 3000, Total Reward: -159.0\n",
            "Q-learning - Seed 42, Episode 3100, Total Reward: -200.0\n",
            "Q-learning - Seed 42, Episode 3200, Total Reward: -200.0\n",
            "Q-learning - Seed 42, Episode 3300, Total Reward: -163.0\n",
            "Q-learning - Seed 42, Episode 3400, Total Reward: -199.0\n",
            "Q-learning - Seed 42, Episode 3500, Total Reward: -151.0\n",
            "Q-learning - Seed 42, Episode 3600, Total Reward: -200.0\n",
            "Q-learning - Seed 42, Episode 3700, Total Reward: -200.0\n",
            "Q-learning - Seed 42, Episode 3800, Total Reward: -200.0\n",
            "Q-learning - Seed 42, Episode 3900, Total Reward: -197.0\n",
            "Q-learning - Seed 42, Episode 4000, Total Reward: -154.0\n",
            "Q-learning - Seed 42, Episode 4100, Total Reward: -200.0\n",
            "Q-learning - Seed 42, Episode 4200, Total Reward: -200.0\n",
            "Q-learning - Seed 42, Episode 4300, Total Reward: -200.0\n",
            "Q-learning - Seed 42, Episode 4400, Total Reward: -159.0\n",
            "Q-learning - Seed 42, Episode 4500, Total Reward: -200.0\n",
            "Q-learning - Seed 42, Episode 4600, Total Reward: -163.0\n",
            "Q-learning - Seed 42, Episode 4700, Total Reward: -200.0\n",
            "Q-learning - Seed 42, Episode 4800, Total Reward: -200.0\n",
            "Q-learning - Seed 42, Episode 4900, Total Reward: -156.0\n",
            "Q-learning - Seed 42, Episode 5000, Total Reward: -191.0\n"
          ]
        },
        {
          "output_type": "display_data",
          "data": {
            "text/plain": [
              "<IPython.core.display.HTML object>"
            ],
            "text/html": []
          },
          "metadata": {}
        },
        {
          "output_type": "display_data",
          "data": {
            "text/plain": [
              "<IPython.core.display.HTML object>"
            ],
            "text/html": [
              "<br>    <style><br>        .wandb-row {<br>            display: flex;<br>            flex-direction: row;<br>            flex-wrap: wrap;<br>            justify-content: flex-start;<br>            width: 100%;<br>        }<br>        .wandb-col {<br>            display: flex;<br>            flex-direction: column;<br>            flex-basis: 100%;<br>            flex: 1;<br>            padding: 10px;<br>        }<br>    </style><br><div class=\"wandb-row\"><div class=\"wandb-col\"><h3>Run history:</h3><br/><table class=\"wandb\"><tr><td>avg_return_q_learning</td><td>▁</td></tr><tr><td>avg_return_sarsa</td><td>▁</td></tr></table><br/></div><div class=\"wandb-col\"><h3>Run summary:</h3><br/><table class=\"wandb\"><tr><td>avg_return_q_learning</td><td>-169.15</td></tr><tr><td>avg_return_sarsa</td><td>-162.62</td></tr></table><br/></div></div>"
            ]
          },
          "metadata": {}
        },
        {
          "output_type": "display_data",
          "data": {
            "text/plain": [
              "<IPython.core.display.HTML object>"
            ],
            "text/html": [
              " View run <strong style=\"color:#cdcd00\">alpha_0.05_eps_0.05_temp_0.2_bins_20</strong> at: <a href='https://wandb.ai/subikksha-indian-institute-of-technology-madras/MountainCar-RL/runs/18suqzuf' target=\"_blank\">https://wandb.ai/subikksha-indian-institute-of-technology-madras/MountainCar-RL/runs/18suqzuf</a><br> View project at: <a href='https://wandb.ai/subikksha-indian-institute-of-technology-madras/MountainCar-RL' target=\"_blank\">https://wandb.ai/subikksha-indian-institute-of-technology-madras/MountainCar-RL</a><br>Synced 5 W&B file(s), 0 media file(s), 0 artifact file(s) and 0 other file(s)"
            ]
          },
          "metadata": {}
        },
        {
          "output_type": "display_data",
          "data": {
            "text/plain": [
              "<IPython.core.display.HTML object>"
            ],
            "text/html": [
              "Find logs at: <code>./wandb/run-20250322_203812-18suqzuf/logs</code>"
            ]
          },
          "metadata": {}
        },
        {
          "output_type": "stream",
          "name": "stderr",
          "text": [
            "\u001b[34m\u001b[1mwandb\u001b[0m: Agent Starting Run: pgsidgbj with config:\n",
            "\u001b[34m\u001b[1mwandb\u001b[0m: \talpha: 0.15\n",
            "\u001b[34m\u001b[1mwandb\u001b[0m: \tepsilon: 0.05\n",
            "\u001b[34m\u001b[1mwandb\u001b[0m: \tgamma: 0.99\n",
            "\u001b[34m\u001b[1mwandb\u001b[0m: \tmax_steps: 200\n",
            "\u001b[34m\u001b[1mwandb\u001b[0m: \tnum_bins: 20\n",
            "\u001b[34m\u001b[1mwandb\u001b[0m: \tnum_episodes: 5000\n",
            "\u001b[34m\u001b[1mwandb\u001b[0m: \ttemperature: 0.2\n"
          ]
        },
        {
          "output_type": "display_data",
          "data": {
            "text/plain": [
              "<IPython.core.display.HTML object>"
            ],
            "text/html": [
              "Ignoring project 'MountainCar-RL' when running a sweep."
            ]
          },
          "metadata": {}
        },
        {
          "output_type": "display_data",
          "data": {
            "text/plain": [
              "<IPython.core.display.HTML object>"
            ],
            "text/html": [
              "Ignoring entity 'subikksha' when running a sweep."
            ]
          },
          "metadata": {}
        },
        {
          "output_type": "display_data",
          "data": {
            "text/plain": [
              "<IPython.core.display.HTML object>"
            ],
            "text/html": [
              "Tracking run with wandb version 0.19.8"
            ]
          },
          "metadata": {}
        },
        {
          "output_type": "display_data",
          "data": {
            "text/plain": [
              "<IPython.core.display.HTML object>"
            ],
            "text/html": [
              "Run data is saved locally in <code>/content/wandb/run-20250322_204039-pgsidgbj</code>"
            ]
          },
          "metadata": {}
        },
        {
          "output_type": "display_data",
          "data": {
            "text/plain": [
              "<IPython.core.display.HTML object>"
            ],
            "text/html": [
              "Syncing run <strong><a href='https://wandb.ai/subikksha-indian-institute-of-technology-madras/MountainCar-RL/runs/pgsidgbj' target=\"_blank\">ethereal-sweep-19</a></strong> to <a href='https://wandb.ai/subikksha-indian-institute-of-technology-madras/MountainCar-RL' target=\"_blank\">Weights & Biases</a> (<a href='https://wandb.me/developer-guide' target=\"_blank\">docs</a>)<br>Sweep page: <a href='https://wandb.ai/subikksha-indian-institute-of-technology-madras/MountainCar-RL/sweeps/cppzkh1g' target=\"_blank\">https://wandb.ai/subikksha-indian-institute-of-technology-madras/MountainCar-RL/sweeps/cppzkh1g</a>"
            ]
          },
          "metadata": {}
        },
        {
          "output_type": "display_data",
          "data": {
            "text/plain": [
              "<IPython.core.display.HTML object>"
            ],
            "text/html": [
              " View project at <a href='https://wandb.ai/subikksha-indian-institute-of-technology-madras/MountainCar-RL' target=\"_blank\">https://wandb.ai/subikksha-indian-institute-of-technology-madras/MountainCar-RL</a>"
            ]
          },
          "metadata": {}
        },
        {
          "output_type": "display_data",
          "data": {
            "text/plain": [
              "<IPython.core.display.HTML object>"
            ],
            "text/html": [
              " View sweep at <a href='https://wandb.ai/subikksha-indian-institute-of-technology-madras/MountainCar-RL/sweeps/cppzkh1g' target=\"_blank\">https://wandb.ai/subikksha-indian-institute-of-technology-madras/MountainCar-RL/sweeps/cppzkh1g</a>"
            ]
          },
          "metadata": {}
        },
        {
          "output_type": "display_data",
          "data": {
            "text/plain": [
              "<IPython.core.display.HTML object>"
            ],
            "text/html": [
              " View run at <a href='https://wandb.ai/subikksha-indian-institute-of-technology-madras/MountainCar-RL/runs/pgsidgbj' target=\"_blank\">https://wandb.ai/subikksha-indian-institute-of-technology-madras/MountainCar-RL/runs/pgsidgbj</a>"
            ]
          },
          "metadata": {}
        },
        {
          "output_type": "stream",
          "name": "stdout",
          "text": [
            "Seed 42, Episode 100, Total Reward: -200.0\n",
            "Seed 42, Episode 200, Total Reward: -200.0\n",
            "Seed 42, Episode 300, Total Reward: -200.0\n",
            "Seed 42, Episode 400, Total Reward: -200.0\n",
            "Seed 42, Episode 500, Total Reward: -200.0\n",
            "Seed 42, Episode 600, Total Reward: -200.0\n",
            "Seed 42, Episode 700, Total Reward: -200.0\n",
            "Seed 42, Episode 800, Total Reward: -200.0\n",
            "Seed 42, Episode 900, Total Reward: -143.0\n",
            "Seed 42, Episode 1000, Total Reward: -200.0\n",
            "Seed 42, Episode 1100, Total Reward: -196.0\n",
            "Seed 42, Episode 1200, Total Reward: -191.0\n",
            "Seed 42, Episode 1300, Total Reward: -200.0\n",
            "Seed 42, Episode 1400, Total Reward: -165.0\n",
            "Seed 42, Episode 1500, Total Reward: -200.0\n",
            "Seed 42, Episode 1600, Total Reward: -163.0\n",
            "Seed 42, Episode 1700, Total Reward: -157.0\n",
            "Seed 42, Episode 1800, Total Reward: -200.0\n",
            "Seed 42, Episode 1900, Total Reward: -144.0\n",
            "Seed 42, Episode 2000, Total Reward: -154.0\n",
            "Seed 42, Episode 2100, Total Reward: -156.0\n",
            "Seed 42, Episode 2200, Total Reward: -200.0\n",
            "Seed 42, Episode 2300, Total Reward: -154.0\n",
            "Seed 42, Episode 2400, Total Reward: -145.0\n",
            "Seed 42, Episode 2500, Total Reward: -191.0\n",
            "Seed 42, Episode 2600, Total Reward: -200.0\n",
            "Seed 42, Episode 2700, Total Reward: -162.0\n",
            "Seed 42, Episode 2800, Total Reward: -164.0\n",
            "Seed 42, Episode 2900, Total Reward: -153.0\n",
            "Seed 42, Episode 3000, Total Reward: -149.0\n",
            "Seed 42, Episode 3100, Total Reward: -156.0\n",
            "Seed 42, Episode 3200, Total Reward: -159.0\n",
            "Seed 42, Episode 3300, Total Reward: -154.0\n",
            "Seed 42, Episode 3400, Total Reward: -200.0\n",
            "Seed 42, Episode 3500, Total Reward: -200.0\n",
            "Seed 42, Episode 3600, Total Reward: -200.0\n",
            "Seed 42, Episode 3700, Total Reward: -160.0\n",
            "Seed 42, Episode 3800, Total Reward: -185.0\n",
            "Seed 42, Episode 3900, Total Reward: -200.0\n",
            "Seed 42, Episode 4000, Total Reward: -144.0\n",
            "Seed 42, Episode 4100, Total Reward: -186.0\n",
            "Seed 42, Episode 4200, Total Reward: -179.0\n",
            "Seed 42, Episode 4300, Total Reward: -173.0\n",
            "Seed 42, Episode 4400, Total Reward: -200.0\n",
            "Seed 42, Episode 4500, Total Reward: -136.0\n",
            "Seed 42, Episode 4600, Total Reward: -128.0\n",
            "Seed 42, Episode 4700, Total Reward: -158.0\n",
            "Seed 42, Episode 4800, Total Reward: -166.0\n",
            "Seed 42, Episode 4900, Total Reward: -151.0\n",
            "Seed 42, Episode 5000, Total Reward: -181.0\n",
            "Q-learning - Seed 42, Episode 100, Total Reward: -200.0\n",
            "Q-learning - Seed 42, Episode 200, Total Reward: -200.0\n",
            "Q-learning - Seed 42, Episode 300, Total Reward: -200.0\n",
            "Q-learning - Seed 42, Episode 400, Total Reward: -200.0\n",
            "Q-learning - Seed 42, Episode 500, Total Reward: -200.0\n",
            "Q-learning - Seed 42, Episode 600, Total Reward: -200.0\n",
            "Q-learning - Seed 42, Episode 700, Total Reward: -200.0\n",
            "Q-learning - Seed 42, Episode 800, Total Reward: -200.0\n",
            "Q-learning - Seed 42, Episode 900, Total Reward: -200.0\n",
            "Q-learning - Seed 42, Episode 1000, Total Reward: -200.0\n",
            "Q-learning - Seed 42, Episode 1100, Total Reward: -189.0\n",
            "Q-learning - Seed 42, Episode 1200, Total Reward: -200.0\n",
            "Q-learning - Seed 42, Episode 1300, Total Reward: -200.0\n",
            "Q-learning - Seed 42, Episode 1400, Total Reward: -200.0\n",
            "Q-learning - Seed 42, Episode 1500, Total Reward: -200.0\n",
            "Q-learning - Seed 42, Episode 1600, Total Reward: -172.0\n",
            "Q-learning - Seed 42, Episode 1700, Total Reward: -168.0\n",
            "Q-learning - Seed 42, Episode 1800, Total Reward: -190.0\n",
            "Q-learning - Seed 42, Episode 1900, Total Reward: -200.0\n",
            "Q-learning - Seed 42, Episode 2000, Total Reward: -167.0\n",
            "Q-learning - Seed 42, Episode 2100, Total Reward: -161.0\n",
            "Q-learning - Seed 42, Episode 2200, Total Reward: -200.0\n",
            "Q-learning - Seed 42, Episode 2300, Total Reward: -151.0\n",
            "Q-learning - Seed 42, Episode 2400, Total Reward: -183.0\n",
            "Q-learning - Seed 42, Episode 2500, Total Reward: -200.0\n",
            "Q-learning - Seed 42, Episode 2600, Total Reward: -148.0\n",
            "Q-learning - Seed 42, Episode 2700, Total Reward: -200.0\n",
            "Q-learning - Seed 42, Episode 2800, Total Reward: -162.0\n",
            "Q-learning - Seed 42, Episode 2900, Total Reward: -200.0\n",
            "Q-learning - Seed 42, Episode 3000, Total Reward: -158.0\n",
            "Q-learning - Seed 42, Episode 3100, Total Reward: -162.0\n",
            "Q-learning - Seed 42, Episode 3200, Total Reward: -200.0\n",
            "Q-learning - Seed 42, Episode 3300, Total Reward: -151.0\n",
            "Q-learning - Seed 42, Episode 3400, Total Reward: -129.0\n",
            "Q-learning - Seed 42, Episode 3500, Total Reward: -143.0\n",
            "Q-learning - Seed 42, Episode 3600, Total Reward: -192.0\n",
            "Q-learning - Seed 42, Episode 3700, Total Reward: -154.0\n",
            "Q-learning - Seed 42, Episode 3800, Total Reward: -119.0\n",
            "Q-learning - Seed 42, Episode 3900, Total Reward: -128.0\n",
            "Q-learning - Seed 42, Episode 4000, Total Reward: -125.0\n",
            "Q-learning - Seed 42, Episode 4100, Total Reward: -200.0\n",
            "Q-learning - Seed 42, Episode 4200, Total Reward: -144.0\n",
            "Q-learning - Seed 42, Episode 4300, Total Reward: -200.0\n",
            "Q-learning - Seed 42, Episode 4400, Total Reward: -157.0\n",
            "Q-learning - Seed 42, Episode 4500, Total Reward: -196.0\n",
            "Q-learning - Seed 42, Episode 4600, Total Reward: -159.0\n",
            "Q-learning - Seed 42, Episode 4700, Total Reward: -162.0\n",
            "Q-learning - Seed 42, Episode 4800, Total Reward: -152.0\n",
            "Q-learning - Seed 42, Episode 4900, Total Reward: -148.0\n",
            "Q-learning - Seed 42, Episode 5000, Total Reward: -195.0\n"
          ]
        },
        {
          "output_type": "display_data",
          "data": {
            "text/plain": [
              "<IPython.core.display.HTML object>"
            ],
            "text/html": []
          },
          "metadata": {}
        },
        {
          "output_type": "display_data",
          "data": {
            "text/plain": [
              "<IPython.core.display.HTML object>"
            ],
            "text/html": [
              "<br>    <style><br>        .wandb-row {<br>            display: flex;<br>            flex-direction: row;<br>            flex-wrap: wrap;<br>            justify-content: flex-start;<br>            width: 100%;<br>        }<br>        .wandb-col {<br>            display: flex;<br>            flex-direction: column;<br>            flex-basis: 100%;<br>            flex: 1;<br>            padding: 10px;<br>        }<br>    </style><br><div class=\"wandb-row\"><div class=\"wandb-col\"><h3>Run history:</h3><br/><table class=\"wandb\"><tr><td>avg_return_q_learning</td><td>▁</td></tr><tr><td>avg_return_sarsa</td><td>▁</td></tr></table><br/></div><div class=\"wandb-col\"><h3>Run summary:</h3><br/><table class=\"wandb\"><tr><td>avg_return_q_learning</td><td>-163.61</td></tr><tr><td>avg_return_sarsa</td><td>-162.34</td></tr></table><br/></div></div>"
            ]
          },
          "metadata": {}
        },
        {
          "output_type": "display_data",
          "data": {
            "text/plain": [
              "<IPython.core.display.HTML object>"
            ],
            "text/html": [
              " View run <strong style=\"color:#cdcd00\">alpha_0.15_eps_0.05_temp_0.2_bins_20</strong> at: <a href='https://wandb.ai/subikksha-indian-institute-of-technology-madras/MountainCar-RL/runs/pgsidgbj' target=\"_blank\">https://wandb.ai/subikksha-indian-institute-of-technology-madras/MountainCar-RL/runs/pgsidgbj</a><br> View project at: <a href='https://wandb.ai/subikksha-indian-institute-of-technology-madras/MountainCar-RL' target=\"_blank\">https://wandb.ai/subikksha-indian-institute-of-technology-madras/MountainCar-RL</a><br>Synced 5 W&B file(s), 0 media file(s), 0 artifact file(s) and 0 other file(s)"
            ]
          },
          "metadata": {}
        },
        {
          "output_type": "display_data",
          "data": {
            "text/plain": [
              "<IPython.core.display.HTML object>"
            ],
            "text/html": [
              "Find logs at: <code>./wandb/run-20250322_204039-pgsidgbj/logs</code>"
            ]
          },
          "metadata": {}
        },
        {
          "output_type": "stream",
          "name": "stderr",
          "text": [
            "\u001b[34m\u001b[1mwandb\u001b[0m: Agent Starting Run: ul9s57e1 with config:\n",
            "\u001b[34m\u001b[1mwandb\u001b[0m: \talpha: 0.05\n",
            "\u001b[34m\u001b[1mwandb\u001b[0m: \tepsilon: 0.1\n",
            "\u001b[34m\u001b[1mwandb\u001b[0m: \tgamma: 0.99\n",
            "\u001b[34m\u001b[1mwandb\u001b[0m: \tmax_steps: 200\n",
            "\u001b[34m\u001b[1mwandb\u001b[0m: \tnum_bins: 15\n",
            "\u001b[34m\u001b[1mwandb\u001b[0m: \tnum_episodes: 5000\n",
            "\u001b[34m\u001b[1mwandb\u001b[0m: \ttemperature: 1\n"
          ]
        },
        {
          "output_type": "display_data",
          "data": {
            "text/plain": [
              "<IPython.core.display.HTML object>"
            ],
            "text/html": [
              "Ignoring project 'MountainCar-RL' when running a sweep."
            ]
          },
          "metadata": {}
        },
        {
          "output_type": "display_data",
          "data": {
            "text/plain": [
              "<IPython.core.display.HTML object>"
            ],
            "text/html": [
              "Ignoring entity 'subikksha' when running a sweep."
            ]
          },
          "metadata": {}
        },
        {
          "output_type": "display_data",
          "data": {
            "text/plain": [
              "<IPython.core.display.HTML object>"
            ],
            "text/html": [
              "Tracking run with wandb version 0.19.8"
            ]
          },
          "metadata": {}
        },
        {
          "output_type": "display_data",
          "data": {
            "text/plain": [
              "<IPython.core.display.HTML object>"
            ],
            "text/html": [
              "Run data is saved locally in <code>/content/wandb/run-20250322_204255-ul9s57e1</code>"
            ]
          },
          "metadata": {}
        },
        {
          "output_type": "display_data",
          "data": {
            "text/plain": [
              "<IPython.core.display.HTML object>"
            ],
            "text/html": [
              "Syncing run <strong><a href='https://wandb.ai/subikksha-indian-institute-of-technology-madras/MountainCar-RL/runs/ul9s57e1' target=\"_blank\">dauntless-sweep-20</a></strong> to <a href='https://wandb.ai/subikksha-indian-institute-of-technology-madras/MountainCar-RL' target=\"_blank\">Weights & Biases</a> (<a href='https://wandb.me/developer-guide' target=\"_blank\">docs</a>)<br>Sweep page: <a href='https://wandb.ai/subikksha-indian-institute-of-technology-madras/MountainCar-RL/sweeps/cppzkh1g' target=\"_blank\">https://wandb.ai/subikksha-indian-institute-of-technology-madras/MountainCar-RL/sweeps/cppzkh1g</a>"
            ]
          },
          "metadata": {}
        },
        {
          "output_type": "display_data",
          "data": {
            "text/plain": [
              "<IPython.core.display.HTML object>"
            ],
            "text/html": [
              " View project at <a href='https://wandb.ai/subikksha-indian-institute-of-technology-madras/MountainCar-RL' target=\"_blank\">https://wandb.ai/subikksha-indian-institute-of-technology-madras/MountainCar-RL</a>"
            ]
          },
          "metadata": {}
        },
        {
          "output_type": "display_data",
          "data": {
            "text/plain": [
              "<IPython.core.display.HTML object>"
            ],
            "text/html": [
              " View sweep at <a href='https://wandb.ai/subikksha-indian-institute-of-technology-madras/MountainCar-RL/sweeps/cppzkh1g' target=\"_blank\">https://wandb.ai/subikksha-indian-institute-of-technology-madras/MountainCar-RL/sweeps/cppzkh1g</a>"
            ]
          },
          "metadata": {}
        },
        {
          "output_type": "display_data",
          "data": {
            "text/plain": [
              "<IPython.core.display.HTML object>"
            ],
            "text/html": [
              " View run at <a href='https://wandb.ai/subikksha-indian-institute-of-technology-madras/MountainCar-RL/runs/ul9s57e1' target=\"_blank\">https://wandb.ai/subikksha-indian-institute-of-technology-madras/MountainCar-RL/runs/ul9s57e1</a>"
            ]
          },
          "metadata": {}
        },
        {
          "output_type": "stream",
          "name": "stdout",
          "text": [
            "Seed 42, Episode 100, Total Reward: -200.0\n",
            "Seed 42, Episode 200, Total Reward: -200.0\n",
            "Seed 42, Episode 300, Total Reward: -200.0\n",
            "Seed 42, Episode 400, Total Reward: -198.0\n",
            "Seed 42, Episode 500, Total Reward: -200.0\n",
            "Seed 42, Episode 600, Total Reward: -200.0\n",
            "Seed 42, Episode 700, Total Reward: -200.0\n",
            "Seed 42, Episode 800, Total Reward: -160.0\n",
            "Seed 42, Episode 900, Total Reward: -200.0\n",
            "Seed 42, Episode 1000, Total Reward: -200.0\n",
            "Seed 42, Episode 1100, Total Reward: -200.0\n",
            "Seed 42, Episode 1200, Total Reward: -181.0\n",
            "Seed 42, Episode 1300, Total Reward: -200.0\n",
            "Seed 42, Episode 1400, Total Reward: -200.0\n",
            "Seed 42, Episode 1500, Total Reward: -159.0\n",
            "Seed 42, Episode 1600, Total Reward: -165.0\n",
            "Seed 42, Episode 1700, Total Reward: -200.0\n",
            "Seed 42, Episode 1800, Total Reward: -200.0\n",
            "Seed 42, Episode 1900, Total Reward: -200.0\n",
            "Seed 42, Episode 2000, Total Reward: -172.0\n",
            "Seed 42, Episode 2100, Total Reward: -152.0\n",
            "Seed 42, Episode 2200, Total Reward: -200.0\n",
            "Seed 42, Episode 2300, Total Reward: -169.0\n",
            "Seed 42, Episode 2400, Total Reward: -200.0\n",
            "Seed 42, Episode 2500, Total Reward: -200.0\n",
            "Seed 42, Episode 2600, Total Reward: -200.0\n",
            "Seed 42, Episode 2700, Total Reward: -166.0\n",
            "Seed 42, Episode 2800, Total Reward: -162.0\n",
            "Seed 42, Episode 2900, Total Reward: -200.0\n",
            "Seed 42, Episode 3000, Total Reward: -158.0\n",
            "Seed 42, Episode 3100, Total Reward: -166.0\n",
            "Seed 42, Episode 3200, Total Reward: -200.0\n",
            "Seed 42, Episode 3300, Total Reward: -200.0\n",
            "Seed 42, Episode 3400, Total Reward: -191.0\n",
            "Seed 42, Episode 3500, Total Reward: -139.0\n",
            "Seed 42, Episode 3600, Total Reward: -155.0\n",
            "Seed 42, Episode 3700, Total Reward: -147.0\n",
            "Seed 42, Episode 3800, Total Reward: -183.0\n",
            "Seed 42, Episode 3900, Total Reward: -164.0\n",
            "Seed 42, Episode 4000, Total Reward: -200.0\n",
            "Seed 42, Episode 4100, Total Reward: -200.0\n",
            "Seed 42, Episode 4200, Total Reward: -200.0\n",
            "Seed 42, Episode 4300, Total Reward: -181.0\n",
            "Seed 42, Episode 4400, Total Reward: -151.0\n",
            "Seed 42, Episode 4500, Total Reward: -191.0\n",
            "Seed 42, Episode 4600, Total Reward: -200.0\n",
            "Seed 42, Episode 4700, Total Reward: -200.0\n",
            "Seed 42, Episode 4800, Total Reward: -200.0\n",
            "Seed 42, Episode 4900, Total Reward: -156.0\n",
            "Seed 42, Episode 5000, Total Reward: -198.0\n",
            "Q-learning - Seed 42, Episode 100, Total Reward: -200.0\n",
            "Q-learning - Seed 42, Episode 200, Total Reward: -200.0\n",
            "Q-learning - Seed 42, Episode 300, Total Reward: -200.0\n",
            "Q-learning - Seed 42, Episode 400, Total Reward: -200.0\n",
            "Q-learning - Seed 42, Episode 500, Total Reward: -200.0\n",
            "Q-learning - Seed 42, Episode 600, Total Reward: -200.0\n",
            "Q-learning - Seed 42, Episode 700, Total Reward: -200.0\n",
            "Q-learning - Seed 42, Episode 800, Total Reward: -200.0\n",
            "Q-learning - Seed 42, Episode 900, Total Reward: -200.0\n",
            "Q-learning - Seed 42, Episode 1000, Total Reward: -200.0\n",
            "Q-learning - Seed 42, Episode 1100, Total Reward: -200.0\n",
            "Q-learning - Seed 42, Episode 1200, Total Reward: -200.0\n",
            "Q-learning - Seed 42, Episode 1300, Total Reward: -200.0\n",
            "Q-learning - Seed 42, Episode 1400, Total Reward: -200.0\n",
            "Q-learning - Seed 42, Episode 1500, Total Reward: -200.0\n",
            "Q-learning - Seed 42, Episode 1600, Total Reward: -200.0\n",
            "Q-learning - Seed 42, Episode 1700, Total Reward: -200.0\n",
            "Q-learning - Seed 42, Episode 1800, Total Reward: -200.0\n",
            "Q-learning - Seed 42, Episode 1900, Total Reward: -200.0\n",
            "Q-learning - Seed 42, Episode 2000, Total Reward: -200.0\n",
            "Q-learning - Seed 42, Episode 2100, Total Reward: -200.0\n",
            "Q-learning - Seed 42, Episode 2200, Total Reward: -200.0\n",
            "Q-learning - Seed 42, Episode 2300, Total Reward: -200.0\n",
            "Q-learning - Seed 42, Episode 2400, Total Reward: -200.0\n",
            "Q-learning - Seed 42, Episode 2500, Total Reward: -200.0\n",
            "Q-learning - Seed 42, Episode 2600, Total Reward: -200.0\n",
            "Q-learning - Seed 42, Episode 2700, Total Reward: -200.0\n",
            "Q-learning - Seed 42, Episode 2800, Total Reward: -200.0\n",
            "Q-learning - Seed 42, Episode 2900, Total Reward: -200.0\n",
            "Q-learning - Seed 42, Episode 3000, Total Reward: -200.0\n",
            "Q-learning - Seed 42, Episode 3100, Total Reward: -200.0\n",
            "Q-learning - Seed 42, Episode 3200, Total Reward: -200.0\n",
            "Q-learning - Seed 42, Episode 3300, Total Reward: -200.0\n",
            "Q-learning - Seed 42, Episode 3400, Total Reward: -200.0\n",
            "Q-learning - Seed 42, Episode 3500, Total Reward: -200.0\n",
            "Q-learning - Seed 42, Episode 3600, Total Reward: -200.0\n",
            "Q-learning - Seed 42, Episode 3700, Total Reward: -200.0\n",
            "Q-learning - Seed 42, Episode 3800, Total Reward: -200.0\n",
            "Q-learning - Seed 42, Episode 3900, Total Reward: -200.0\n",
            "Q-learning - Seed 42, Episode 4000, Total Reward: -200.0\n",
            "Q-learning - Seed 42, Episode 4100, Total Reward: -200.0\n",
            "Q-learning - Seed 42, Episode 4200, Total Reward: -200.0\n",
            "Q-learning - Seed 42, Episode 4300, Total Reward: -200.0\n",
            "Q-learning - Seed 42, Episode 4400, Total Reward: -200.0\n",
            "Q-learning - Seed 42, Episode 4500, Total Reward: -200.0\n",
            "Q-learning - Seed 42, Episode 4600, Total Reward: -200.0\n",
            "Q-learning - Seed 42, Episode 4700, Total Reward: -200.0\n",
            "Q-learning - Seed 42, Episode 4800, Total Reward: -200.0\n",
            "Q-learning - Seed 42, Episode 4900, Total Reward: -200.0\n",
            "Q-learning - Seed 42, Episode 5000, Total Reward: -200.0\n"
          ]
        },
        {
          "output_type": "display_data",
          "data": {
            "text/plain": [
              "<IPython.core.display.HTML object>"
            ],
            "text/html": []
          },
          "metadata": {}
        },
        {
          "output_type": "display_data",
          "data": {
            "text/plain": [
              "<IPython.core.display.HTML object>"
            ],
            "text/html": [
              "<br>    <style><br>        .wandb-row {<br>            display: flex;<br>            flex-direction: row;<br>            flex-wrap: wrap;<br>            justify-content: flex-start;<br>            width: 100%;<br>        }<br>        .wandb-col {<br>            display: flex;<br>            flex-direction: column;<br>            flex-basis: 100%;<br>            flex: 1;<br>            padding: 10px;<br>        }<br>    </style><br><div class=\"wandb-row\"><div class=\"wandb-col\"><h3>Run history:</h3><br/><table class=\"wandb\"><tr><td>avg_return_q_learning</td><td>▁</td></tr><tr><td>avg_return_sarsa</td><td>▁</td></tr></table><br/></div><div class=\"wandb-col\"><h3>Run summary:</h3><br/><table class=\"wandb\"><tr><td>avg_return_q_learning</td><td>-200</td></tr><tr><td>avg_return_sarsa</td><td>-174.24</td></tr></table><br/></div></div>"
            ]
          },
          "metadata": {}
        },
        {
          "output_type": "display_data",
          "data": {
            "text/plain": [
              "<IPython.core.display.HTML object>"
            ],
            "text/html": [
              " View run <strong style=\"color:#cdcd00\">alpha_0.05_eps_0.1_temp_1_bins_15</strong> at: <a href='https://wandb.ai/subikksha-indian-institute-of-technology-madras/MountainCar-RL/runs/ul9s57e1' target=\"_blank\">https://wandb.ai/subikksha-indian-institute-of-technology-madras/MountainCar-RL/runs/ul9s57e1</a><br> View project at: <a href='https://wandb.ai/subikksha-indian-institute-of-technology-madras/MountainCar-RL' target=\"_blank\">https://wandb.ai/subikksha-indian-institute-of-technology-madras/MountainCar-RL</a><br>Synced 5 W&B file(s), 0 media file(s), 0 artifact file(s) and 0 other file(s)"
            ]
          },
          "metadata": {}
        },
        {
          "output_type": "display_data",
          "data": {
            "text/plain": [
              "<IPython.core.display.HTML object>"
            ],
            "text/html": [
              "Find logs at: <code>./wandb/run-20250322_204255-ul9s57e1/logs</code>"
            ]
          },
          "metadata": {}
        }
      ]
    },
    {
      "cell_type": "code",
      "source": [
        "# Parameters\n",
        "num_episodes = 5000\n",
        "alpha = 0.1  # Learning rate\n",
        "gamma = 0.99  # Discount factor\n",
        "epsilon = 0.1  # Exploration rate for SARSA\n",
        "temperature = 1.0  # Temperature for Softmax\n",
        "bins = [\n",
        "    np.linspace(-1.2, 0.6, 20),  # Position bins\n",
        "    np.linspace(-0.07, 0.07, 20)  # Velocity bins\n",
        "]\n",
        "num_seeds = 5  # Number of random seeds\n",
        "\n",
        "# Create the environment\n",
        "env = gym.make('MountainCar-v0')\n",
        "\n",
        "# Run SARSA for multiple seeds\n",
        "sarsa_rewards = []\n",
        "for seed in range(num_seeds):\n",
        "    print(f\"Running SARSA with seed {seed + 1}\")\n",
        "    rewards = sarsa(env, num_episodes, alpha=0.15, gamma=gamma, epsilon=0.05, bins=bins, seed=seed)\n",
        "    sarsa_rewards.append(rewards)\n",
        "\n",
        "# Run Q-learning with Softmax for multiple seeds\n",
        "q_learning_rewards = []\n",
        "for seed in range(num_seeds):\n",
        "    print(f\"Running Q-learning with seed {seed + 1}\")\n",
        "    rewards = q_learning(env, num_episodes, alpha=0.1, gamma=gamma, temperature=0.2, bins=bins, seed=seed)\n",
        "    q_learning_rewards.append(rewards)\n",
        "\n",
        "# Convert to numpy arrays for easier computation\n",
        "sarsa_rewards = np.array(sarsa_rewards)\n",
        "q_learning_rewards = np.array(q_learning_rewards)\n",
        "\n",
        "# Compute mean and variance across seeds\n",
        "sarsa_mean = np.mean(sarsa_rewards, axis=0)\n",
        "sarsa_std = np.std(sarsa_rewards, axis=0)\n",
        "q_learning_mean = np.mean(q_learning_rewards, axis=0)\n",
        "q_learning_std = np.std(q_learning_rewards, axis=0)\n"
      ],
      "metadata": {
        "colab": {
          "base_uri": "https://localhost:8080/"
        },
        "id": "Ma3omjLAhF8-",
        "outputId": "253a1d72-4faa-4396-d020-bb59e0c15a25"
      },
      "execution_count": null,
      "outputs": [
        {
          "output_type": "stream",
          "name": "stdout",
          "text": [
            "Running SARSA with seed 1\n",
            "Seed 0, Episode 100, Total Reward: -200.0\n",
            "Seed 0, Episode 200, Total Reward: -200.0\n",
            "Seed 0, Episode 300, Total Reward: -200.0\n",
            "Seed 0, Episode 400, Total Reward: -200.0\n",
            "Seed 0, Episode 500, Total Reward: -200.0\n",
            "Seed 0, Episode 600, Total Reward: -200.0\n",
            "Seed 0, Episode 700, Total Reward: -200.0\n",
            "Seed 0, Episode 800, Total Reward: -200.0\n",
            "Seed 0, Episode 900, Total Reward: -164.0\n",
            "Seed 0, Episode 1000, Total Reward: -200.0\n",
            "Seed 0, Episode 1100, Total Reward: -200.0\n",
            "Seed 0, Episode 1200, Total Reward: -200.0\n",
            "Seed 0, Episode 1300, Total Reward: -153.0\n",
            "Seed 0, Episode 1400, Total Reward: -200.0\n",
            "Seed 0, Episode 1500, Total Reward: -143.0\n",
            "Seed 0, Episode 1600, Total Reward: -152.0\n",
            "Seed 0, Episode 1700, Total Reward: -188.0\n",
            "Seed 0, Episode 1800, Total Reward: -199.0\n",
            "Seed 0, Episode 1900, Total Reward: -145.0\n",
            "Seed 0, Episode 2000, Total Reward: -161.0\n",
            "Seed 0, Episode 2100, Total Reward: -200.0\n",
            "Seed 0, Episode 2200, Total Reward: -200.0\n",
            "Seed 0, Episode 2300, Total Reward: -157.0\n",
            "Seed 0, Episode 2400, Total Reward: -150.0\n",
            "Seed 0, Episode 2500, Total Reward: -200.0\n",
            "Seed 0, Episode 2600, Total Reward: -171.0\n",
            "Seed 0, Episode 2700, Total Reward: -114.0\n",
            "Seed 0, Episode 2800, Total Reward: -148.0\n",
            "Seed 0, Episode 2900, Total Reward: -198.0\n",
            "Seed 0, Episode 3000, Total Reward: -196.0\n",
            "Seed 0, Episode 3100, Total Reward: -178.0\n",
            "Seed 0, Episode 3200, Total Reward: -200.0\n",
            "Seed 0, Episode 3300, Total Reward: -142.0\n",
            "Seed 0, Episode 3400, Total Reward: -153.0\n",
            "Seed 0, Episode 3500, Total Reward: -138.0\n",
            "Seed 0, Episode 3600, Total Reward: -153.0\n",
            "Seed 0, Episode 3700, Total Reward: -153.0\n",
            "Seed 0, Episode 3800, Total Reward: -200.0\n",
            "Seed 0, Episode 3900, Total Reward: -150.0\n",
            "Seed 0, Episode 4000, Total Reward: -152.0\n",
            "Seed 0, Episode 4100, Total Reward: -142.0\n",
            "Seed 0, Episode 4200, Total Reward: -165.0\n",
            "Seed 0, Episode 4300, Total Reward: -157.0\n",
            "Seed 0, Episode 4400, Total Reward: -146.0\n",
            "Seed 0, Episode 4500, Total Reward: -183.0\n",
            "Seed 0, Episode 4600, Total Reward: -161.0\n",
            "Seed 0, Episode 4700, Total Reward: -200.0\n",
            "Seed 0, Episode 4800, Total Reward: -151.0\n",
            "Seed 0, Episode 4900, Total Reward: -182.0\n",
            "Seed 0, Episode 5000, Total Reward: -155.0\n",
            "Running SARSA with seed 2\n",
            "Seed 1, Episode 100, Total Reward: -200.0\n",
            "Seed 1, Episode 200, Total Reward: -200.0\n",
            "Seed 1, Episode 300, Total Reward: -200.0\n",
            "Seed 1, Episode 400, Total Reward: -200.0\n",
            "Seed 1, Episode 500, Total Reward: -200.0\n",
            "Seed 1, Episode 600, Total Reward: -200.0\n",
            "Seed 1, Episode 700, Total Reward: -200.0\n",
            "Seed 1, Episode 800, Total Reward: -200.0\n",
            "Seed 1, Episode 900, Total Reward: -200.0\n",
            "Seed 1, Episode 1000, Total Reward: -200.0\n",
            "Seed 1, Episode 1100, Total Reward: -153.0\n",
            "Seed 1, Episode 1200, Total Reward: -200.0\n",
            "Seed 1, Episode 1300, Total Reward: -200.0\n",
            "Seed 1, Episode 1400, Total Reward: -200.0\n",
            "Seed 1, Episode 1500, Total Reward: -200.0\n",
            "Seed 1, Episode 1600, Total Reward: -191.0\n",
            "Seed 1, Episode 1700, Total Reward: -161.0\n",
            "Seed 1, Episode 1800, Total Reward: -174.0\n",
            "Seed 1, Episode 1900, Total Reward: -152.0\n",
            "Seed 1, Episode 2000, Total Reward: -200.0\n",
            "Seed 1, Episode 2100, Total Reward: -200.0\n",
            "Seed 1, Episode 2200, Total Reward: -158.0\n",
            "Seed 1, Episode 2300, Total Reward: -152.0\n",
            "Seed 1, Episode 2400, Total Reward: -154.0\n",
            "Seed 1, Episode 2500, Total Reward: -136.0\n",
            "Seed 1, Episode 2600, Total Reward: -162.0\n",
            "Seed 1, Episode 2700, Total Reward: -199.0\n",
            "Seed 1, Episode 2800, Total Reward: -145.0\n",
            "Seed 1, Episode 2900, Total Reward: -162.0\n",
            "Seed 1, Episode 3000, Total Reward: -184.0\n",
            "Seed 1, Episode 3100, Total Reward: -153.0\n",
            "Seed 1, Episode 3200, Total Reward: -118.0\n",
            "Seed 1, Episode 3300, Total Reward: -157.0\n",
            "Seed 1, Episode 3400, Total Reward: -149.0\n",
            "Seed 1, Episode 3500, Total Reward: -157.0\n",
            "Seed 1, Episode 3600, Total Reward: -162.0\n",
            "Seed 1, Episode 3700, Total Reward: -122.0\n",
            "Seed 1, Episode 3800, Total Reward: -166.0\n",
            "Seed 1, Episode 3900, Total Reward: -151.0\n",
            "Seed 1, Episode 4000, Total Reward: -146.0\n",
            "Seed 1, Episode 4100, Total Reward: -200.0\n",
            "Seed 1, Episode 4200, Total Reward: -200.0\n",
            "Seed 1, Episode 4300, Total Reward: -148.0\n",
            "Seed 1, Episode 4400, Total Reward: -200.0\n",
            "Seed 1, Episode 4500, Total Reward: -147.0\n",
            "Seed 1, Episode 4600, Total Reward: -178.0\n",
            "Seed 1, Episode 4700, Total Reward: -149.0\n",
            "Seed 1, Episode 4800, Total Reward: -145.0\n",
            "Seed 1, Episode 4900, Total Reward: -115.0\n",
            "Seed 1, Episode 5000, Total Reward: -200.0\n",
            "Running SARSA with seed 3\n",
            "Seed 2, Episode 100, Total Reward: -200.0\n",
            "Seed 2, Episode 200, Total Reward: -200.0\n",
            "Seed 2, Episode 300, Total Reward: -200.0\n",
            "Seed 2, Episode 400, Total Reward: -200.0\n",
            "Seed 2, Episode 500, Total Reward: -200.0\n",
            "Seed 2, Episode 600, Total Reward: -200.0\n",
            "Seed 2, Episode 700, Total Reward: -200.0\n",
            "Seed 2, Episode 800, Total Reward: -200.0\n",
            "Seed 2, Episode 900, Total Reward: -200.0\n",
            "Seed 2, Episode 1000, Total Reward: -151.0\n",
            "Seed 2, Episode 1100, Total Reward: -190.0\n",
            "Seed 2, Episode 1200, Total Reward: -162.0\n",
            "Seed 2, Episode 1300, Total Reward: -200.0\n",
            "Seed 2, Episode 1400, Total Reward: -200.0\n",
            "Seed 2, Episode 1500, Total Reward: -200.0\n",
            "Seed 2, Episode 1600, Total Reward: -146.0\n",
            "Seed 2, Episode 1700, Total Reward: -200.0\n",
            "Seed 2, Episode 1800, Total Reward: -171.0\n",
            "Seed 2, Episode 1900, Total Reward: -131.0\n",
            "Seed 2, Episode 2000, Total Reward: -163.0\n",
            "Seed 2, Episode 2100, Total Reward: -200.0\n",
            "Seed 2, Episode 2200, Total Reward: -200.0\n",
            "Seed 2, Episode 2300, Total Reward: -200.0\n",
            "Seed 2, Episode 2400, Total Reward: -118.0\n",
            "Seed 2, Episode 2500, Total Reward: -148.0\n",
            "Seed 2, Episode 2600, Total Reward: -200.0\n",
            "Seed 2, Episode 2700, Total Reward: -200.0\n",
            "Seed 2, Episode 2800, Total Reward: -155.0\n",
            "Seed 2, Episode 2900, Total Reward: -200.0\n",
            "Seed 2, Episode 3000, Total Reward: -152.0\n",
            "Seed 2, Episode 3100, Total Reward: -140.0\n",
            "Seed 2, Episode 3200, Total Reward: -140.0\n",
            "Seed 2, Episode 3300, Total Reward: -200.0\n",
            "Seed 2, Episode 3400, Total Reward: -200.0\n",
            "Seed 2, Episode 3500, Total Reward: -164.0\n",
            "Seed 2, Episode 3600, Total Reward: -198.0\n",
            "Seed 2, Episode 3700, Total Reward: -147.0\n",
            "Seed 2, Episode 3800, Total Reward: -189.0\n",
            "Seed 2, Episode 3900, Total Reward: -147.0\n",
            "Seed 2, Episode 4000, Total Reward: -151.0\n",
            "Seed 2, Episode 4100, Total Reward: -152.0\n",
            "Seed 2, Episode 4200, Total Reward: -154.0\n",
            "Seed 2, Episode 4300, Total Reward: -149.0\n",
            "Seed 2, Episode 4400, Total Reward: -140.0\n",
            "Seed 2, Episode 4500, Total Reward: -200.0\n",
            "Seed 2, Episode 4600, Total Reward: -136.0\n",
            "Seed 2, Episode 4700, Total Reward: -149.0\n",
            "Seed 2, Episode 4800, Total Reward: -150.0\n",
            "Seed 2, Episode 4900, Total Reward: -200.0\n",
            "Seed 2, Episode 5000, Total Reward: -152.0\n",
            "Running SARSA with seed 4\n",
            "Seed 3, Episode 100, Total Reward: -200.0\n",
            "Seed 3, Episode 200, Total Reward: -200.0\n",
            "Seed 3, Episode 300, Total Reward: -200.0\n",
            "Seed 3, Episode 400, Total Reward: -200.0\n",
            "Seed 3, Episode 500, Total Reward: -200.0\n",
            "Seed 3, Episode 600, Total Reward: -200.0\n",
            "Seed 3, Episode 700, Total Reward: -200.0\n",
            "Seed 3, Episode 800, Total Reward: -200.0\n",
            "Seed 3, Episode 900, Total Reward: -151.0\n",
            "Seed 3, Episode 1000, Total Reward: -197.0\n",
            "Seed 3, Episode 1100, Total Reward: -200.0\n",
            "Seed 3, Episode 1200, Total Reward: -193.0\n",
            "Seed 3, Episode 1300, Total Reward: -200.0\n",
            "Seed 3, Episode 1400, Total Reward: -200.0\n",
            "Seed 3, Episode 1500, Total Reward: -152.0\n",
            "Seed 3, Episode 1600, Total Reward: -200.0\n",
            "Seed 3, Episode 1700, Total Reward: -147.0\n",
            "Seed 3, Episode 1800, Total Reward: -142.0\n",
            "Seed 3, Episode 1900, Total Reward: -200.0\n",
            "Seed 3, Episode 2000, Total Reward: -149.0\n",
            "Seed 3, Episode 2100, Total Reward: -183.0\n",
            "Seed 3, Episode 2200, Total Reward: -199.0\n",
            "Seed 3, Episode 2300, Total Reward: -150.0\n",
            "Seed 3, Episode 2400, Total Reward: -195.0\n",
            "Seed 3, Episode 2500, Total Reward: -146.0\n",
            "Seed 3, Episode 2600, Total Reward: -156.0\n",
            "Seed 3, Episode 2700, Total Reward: -200.0\n",
            "Seed 3, Episode 2800, Total Reward: -200.0\n",
            "Seed 3, Episode 2900, Total Reward: -161.0\n",
            "Seed 3, Episode 3000, Total Reward: -185.0\n",
            "Seed 3, Episode 3100, Total Reward: -199.0\n",
            "Seed 3, Episode 3200, Total Reward: -200.0\n",
            "Seed 3, Episode 3300, Total Reward: -154.0\n",
            "Seed 3, Episode 3400, Total Reward: -146.0\n",
            "Seed 3, Episode 3500, Total Reward: -200.0\n",
            "Seed 3, Episode 3600, Total Reward: -184.0\n",
            "Seed 3, Episode 3700, Total Reward: -152.0\n",
            "Seed 3, Episode 3800, Total Reward: -145.0\n",
            "Seed 3, Episode 3900, Total Reward: -148.0\n",
            "Seed 3, Episode 4000, Total Reward: -153.0\n",
            "Seed 3, Episode 4100, Total Reward: -114.0\n",
            "Seed 3, Episode 4200, Total Reward: -150.0\n",
            "Seed 3, Episode 4300, Total Reward: -122.0\n",
            "Seed 3, Episode 4400, Total Reward: -190.0\n",
            "Seed 3, Episode 4500, Total Reward: -125.0\n",
            "Seed 3, Episode 4600, Total Reward: -120.0\n",
            "Seed 3, Episode 4700, Total Reward: -145.0\n",
            "Seed 3, Episode 4800, Total Reward: -171.0\n",
            "Seed 3, Episode 4900, Total Reward: -161.0\n",
            "Seed 3, Episode 5000, Total Reward: -174.0\n",
            "Running SARSA with seed 5\n",
            "Seed 4, Episode 100, Total Reward: -200.0\n",
            "Seed 4, Episode 200, Total Reward: -200.0\n",
            "Seed 4, Episode 300, Total Reward: -200.0\n",
            "Seed 4, Episode 400, Total Reward: -200.0\n",
            "Seed 4, Episode 500, Total Reward: -200.0\n",
            "Seed 4, Episode 600, Total Reward: -200.0\n",
            "Seed 4, Episode 700, Total Reward: -200.0\n",
            "Seed 4, Episode 800, Total Reward: -193.0\n",
            "Seed 4, Episode 900, Total Reward: -200.0\n",
            "Seed 4, Episode 1000, Total Reward: -166.0\n",
            "Seed 4, Episode 1100, Total Reward: -162.0\n",
            "Seed 4, Episode 1200, Total Reward: -200.0\n",
            "Seed 4, Episode 1300, Total Reward: -147.0\n",
            "Seed 4, Episode 1400, Total Reward: -200.0\n",
            "Seed 4, Episode 1500, Total Reward: -159.0\n",
            "Seed 4, Episode 1600, Total Reward: -145.0\n",
            "Seed 4, Episode 1700, Total Reward: -173.0\n",
            "Seed 4, Episode 1800, Total Reward: -200.0\n",
            "Seed 4, Episode 1900, Total Reward: -187.0\n",
            "Seed 4, Episode 2000, Total Reward: -200.0\n",
            "Seed 4, Episode 2100, Total Reward: -174.0\n",
            "Seed 4, Episode 2200, Total Reward: -155.0\n",
            "Seed 4, Episode 2300, Total Reward: -151.0\n",
            "Seed 4, Episode 2400, Total Reward: -146.0\n",
            "Seed 4, Episode 2500, Total Reward: -139.0\n",
            "Seed 4, Episode 2600, Total Reward: -147.0\n",
            "Seed 4, Episode 2700, Total Reward: -158.0\n",
            "Seed 4, Episode 2800, Total Reward: -137.0\n",
            "Seed 4, Episode 2900, Total Reward: -200.0\n",
            "Seed 4, Episode 3000, Total Reward: -159.0\n",
            "Seed 4, Episode 3100, Total Reward: -112.0\n",
            "Seed 4, Episode 3200, Total Reward: -118.0\n",
            "Seed 4, Episode 3300, Total Reward: -118.0\n",
            "Seed 4, Episode 3400, Total Reward: -191.0\n",
            "Seed 4, Episode 3500, Total Reward: -197.0\n",
            "Seed 4, Episode 3600, Total Reward: -146.0\n",
            "Seed 4, Episode 3700, Total Reward: -200.0\n",
            "Seed 4, Episode 3800, Total Reward: -200.0\n",
            "Seed 4, Episode 3900, Total Reward: -146.0\n",
            "Seed 4, Episode 4000, Total Reward: -181.0\n",
            "Seed 4, Episode 4100, Total Reward: -200.0\n",
            "Seed 4, Episode 4200, Total Reward: -200.0\n",
            "Seed 4, Episode 4300, Total Reward: -148.0\n",
            "Seed 4, Episode 4400, Total Reward: -143.0\n",
            "Seed 4, Episode 4500, Total Reward: -136.0\n",
            "Seed 4, Episode 4600, Total Reward: -132.0\n",
            "Seed 4, Episode 4700, Total Reward: -154.0\n",
            "Seed 4, Episode 4800, Total Reward: -125.0\n",
            "Seed 4, Episode 4900, Total Reward: -155.0\n",
            "Seed 4, Episode 5000, Total Reward: -110.0\n",
            "Running Q-learning with seed 1\n",
            "Q-learning - Seed 0, Episode 100, Total Reward: -200.0\n",
            "Q-learning - Seed 0, Episode 200, Total Reward: -200.0\n",
            "Q-learning - Seed 0, Episode 300, Total Reward: -200.0\n",
            "Q-learning - Seed 0, Episode 400, Total Reward: -200.0\n",
            "Q-learning - Seed 0, Episode 500, Total Reward: -200.0\n",
            "Q-learning - Seed 0, Episode 600, Total Reward: -200.0\n",
            "Q-learning - Seed 0, Episode 700, Total Reward: -200.0\n",
            "Q-learning - Seed 0, Episode 800, Total Reward: -200.0\n",
            "Q-learning - Seed 0, Episode 900, Total Reward: -200.0\n",
            "Q-learning - Seed 0, Episode 1000, Total Reward: -200.0\n",
            "Q-learning - Seed 0, Episode 1100, Total Reward: -200.0\n",
            "Q-learning - Seed 0, Episode 1200, Total Reward: -200.0\n",
            "Q-learning - Seed 0, Episode 1300, Total Reward: -200.0\n",
            "Q-learning - Seed 0, Episode 1400, Total Reward: -200.0\n",
            "Q-learning - Seed 0, Episode 1500, Total Reward: -195.0\n",
            "Q-learning - Seed 0, Episode 1600, Total Reward: -200.0\n",
            "Q-learning - Seed 0, Episode 1700, Total Reward: -200.0\n",
            "Q-learning - Seed 0, Episode 1800, Total Reward: -193.0\n",
            "Q-learning - Seed 0, Episode 1900, Total Reward: -200.0\n",
            "Q-learning - Seed 0, Episode 2000, Total Reward: -200.0\n",
            "Q-learning - Seed 0, Episode 2100, Total Reward: -198.0\n",
            "Q-learning - Seed 0, Episode 2200, Total Reward: -155.0\n",
            "Q-learning - Seed 0, Episode 2300, Total Reward: -200.0\n",
            "Q-learning - Seed 0, Episode 2400, Total Reward: -200.0\n",
            "Q-learning - Seed 0, Episode 2500, Total Reward: -200.0\n",
            "Q-learning - Seed 0, Episode 2600, Total Reward: -154.0\n",
            "Q-learning - Seed 0, Episode 2700, Total Reward: -200.0\n",
            "Q-learning - Seed 0, Episode 2800, Total Reward: -153.0\n",
            "Q-learning - Seed 0, Episode 2900, Total Reward: -150.0\n",
            "Q-learning - Seed 0, Episode 3000, Total Reward: -200.0\n",
            "Q-learning - Seed 0, Episode 3100, Total Reward: -195.0\n",
            "Q-learning - Seed 0, Episode 3200, Total Reward: -157.0\n",
            "Q-learning - Seed 0, Episode 3300, Total Reward: -155.0\n",
            "Q-learning - Seed 0, Episode 3400, Total Reward: -200.0\n",
            "Q-learning - Seed 0, Episode 3500, Total Reward: -157.0\n",
            "Q-learning - Seed 0, Episode 3600, Total Reward: -184.0\n",
            "Q-learning - Seed 0, Episode 3700, Total Reward: -200.0\n",
            "Q-learning - Seed 0, Episode 3800, Total Reward: -153.0\n",
            "Q-learning - Seed 0, Episode 3900, Total Reward: -153.0\n",
            "Q-learning - Seed 0, Episode 4000, Total Reward: -157.0\n",
            "Q-learning - Seed 0, Episode 4100, Total Reward: -159.0\n",
            "Q-learning - Seed 0, Episode 4200, Total Reward: -161.0\n",
            "Q-learning - Seed 0, Episode 4300, Total Reward: -200.0\n",
            "Q-learning - Seed 0, Episode 4400, Total Reward: -168.0\n",
            "Q-learning - Seed 0, Episode 4500, Total Reward: -181.0\n",
            "Q-learning - Seed 0, Episode 4600, Total Reward: -160.0\n",
            "Q-learning - Seed 0, Episode 4700, Total Reward: -181.0\n",
            "Q-learning - Seed 0, Episode 4800, Total Reward: -157.0\n",
            "Q-learning - Seed 0, Episode 4900, Total Reward: -182.0\n",
            "Q-learning - Seed 0, Episode 5000, Total Reward: -159.0\n",
            "Running Q-learning with seed 2\n",
            "Q-learning - Seed 1, Episode 100, Total Reward: -200.0\n",
            "Q-learning - Seed 1, Episode 200, Total Reward: -200.0\n",
            "Q-learning - Seed 1, Episode 300, Total Reward: -200.0\n",
            "Q-learning - Seed 1, Episode 400, Total Reward: -200.0\n",
            "Q-learning - Seed 1, Episode 500, Total Reward: -200.0\n",
            "Q-learning - Seed 1, Episode 600, Total Reward: -200.0\n",
            "Q-learning - Seed 1, Episode 700, Total Reward: -200.0\n",
            "Q-learning - Seed 1, Episode 800, Total Reward: -200.0\n",
            "Q-learning - Seed 1, Episode 900, Total Reward: -200.0\n",
            "Q-learning - Seed 1, Episode 1000, Total Reward: -200.0\n",
            "Q-learning - Seed 1, Episode 1100, Total Reward: -200.0\n",
            "Q-learning - Seed 1, Episode 1200, Total Reward: -200.0\n",
            "Q-learning - Seed 1, Episode 1300, Total Reward: -200.0\n",
            "Q-learning - Seed 1, Episode 1400, Total Reward: -181.0\n",
            "Q-learning - Seed 1, Episode 1500, Total Reward: -169.0\n",
            "Q-learning - Seed 1, Episode 1600, Total Reward: -192.0\n",
            "Q-learning - Seed 1, Episode 1700, Total Reward: -200.0\n",
            "Q-learning - Seed 1, Episode 1800, Total Reward: -200.0\n",
            "Q-learning - Seed 1, Episode 1900, Total Reward: -196.0\n",
            "Q-learning - Seed 1, Episode 2000, Total Reward: -200.0\n",
            "Q-learning - Seed 1, Episode 2100, Total Reward: -182.0\n",
            "Q-learning - Seed 1, Episode 2200, Total Reward: -200.0\n",
            "Q-learning - Seed 1, Episode 2300, Total Reward: -200.0\n",
            "Q-learning - Seed 1, Episode 2400, Total Reward: -200.0\n",
            "Q-learning - Seed 1, Episode 2500, Total Reward: -175.0\n",
            "Q-learning - Seed 1, Episode 2600, Total Reward: -200.0\n",
            "Q-learning - Seed 1, Episode 2700, Total Reward: -200.0\n",
            "Q-learning - Seed 1, Episode 2800, Total Reward: -200.0\n",
            "Q-learning - Seed 1, Episode 2900, Total Reward: -153.0\n",
            "Q-learning - Seed 1, Episode 3000, Total Reward: -192.0\n",
            "Q-learning - Seed 1, Episode 3100, Total Reward: -200.0\n",
            "Q-learning - Seed 1, Episode 3200, Total Reward: -186.0\n",
            "Q-learning - Seed 1, Episode 3300, Total Reward: -166.0\n",
            "Q-learning - Seed 1, Episode 3400, Total Reward: -200.0\n",
            "Q-learning - Seed 1, Episode 3500, Total Reward: -200.0\n",
            "Q-learning - Seed 1, Episode 3600, Total Reward: -161.0\n",
            "Q-learning - Seed 1, Episode 3700, Total Reward: -138.0\n",
            "Q-learning - Seed 1, Episode 3800, Total Reward: -102.0\n",
            "Q-learning - Seed 1, Episode 3900, Total Reward: -155.0\n",
            "Q-learning - Seed 1, Episode 4000, Total Reward: -150.0\n",
            "Q-learning - Seed 1, Episode 4100, Total Reward: -200.0\n",
            "Q-learning - Seed 1, Episode 4200, Total Reward: -200.0\n",
            "Q-learning - Seed 1, Episode 4300, Total Reward: -155.0\n",
            "Q-learning - Seed 1, Episode 4400, Total Reward: -146.0\n",
            "Q-learning - Seed 1, Episode 4500, Total Reward: -160.0\n",
            "Q-learning - Seed 1, Episode 4600, Total Reward: -183.0\n",
            "Q-learning - Seed 1, Episode 4700, Total Reward: -156.0\n",
            "Q-learning - Seed 1, Episode 4800, Total Reward: -200.0\n",
            "Q-learning - Seed 1, Episode 4900, Total Reward: -200.0\n",
            "Q-learning - Seed 1, Episode 5000, Total Reward: -200.0\n",
            "Running Q-learning with seed 3\n",
            "Q-learning - Seed 2, Episode 100, Total Reward: -200.0\n",
            "Q-learning - Seed 2, Episode 200, Total Reward: -200.0\n",
            "Q-learning - Seed 2, Episode 300, Total Reward: -200.0\n",
            "Q-learning - Seed 2, Episode 400, Total Reward: -200.0\n",
            "Q-learning - Seed 2, Episode 500, Total Reward: -200.0\n",
            "Q-learning - Seed 2, Episode 600, Total Reward: -200.0\n",
            "Q-learning - Seed 2, Episode 700, Total Reward: -200.0\n",
            "Q-learning - Seed 2, Episode 800, Total Reward: -200.0\n",
            "Q-learning - Seed 2, Episode 900, Total Reward: -200.0\n",
            "Q-learning - Seed 2, Episode 1000, Total Reward: -200.0\n",
            "Q-learning - Seed 2, Episode 1100, Total Reward: -200.0\n",
            "Q-learning - Seed 2, Episode 1200, Total Reward: -200.0\n",
            "Q-learning - Seed 2, Episode 1300, Total Reward: -200.0\n",
            "Q-learning - Seed 2, Episode 1400, Total Reward: -200.0\n",
            "Q-learning - Seed 2, Episode 1500, Total Reward: -200.0\n",
            "Q-learning - Seed 2, Episode 1600, Total Reward: -160.0\n",
            "Q-learning - Seed 2, Episode 1700, Total Reward: -200.0\n",
            "Q-learning - Seed 2, Episode 1800, Total Reward: -155.0\n",
            "Q-learning - Seed 2, Episode 1900, Total Reward: -193.0\n",
            "Q-learning - Seed 2, Episode 2000, Total Reward: -200.0\n",
            "Q-learning - Seed 2, Episode 2100, Total Reward: -200.0\n",
            "Q-learning - Seed 2, Episode 2200, Total Reward: -200.0\n",
            "Q-learning - Seed 2, Episode 2300, Total Reward: -200.0\n",
            "Q-learning - Seed 2, Episode 2400, Total Reward: -192.0\n",
            "Q-learning - Seed 2, Episode 2500, Total Reward: -160.0\n",
            "Q-learning - Seed 2, Episode 2600, Total Reward: -200.0\n",
            "Q-learning - Seed 2, Episode 2700, Total Reward: -200.0\n",
            "Q-learning - Seed 2, Episode 2800, Total Reward: -163.0\n",
            "Q-learning - Seed 2, Episode 2900, Total Reward: -147.0\n",
            "Q-learning - Seed 2, Episode 3000, Total Reward: -158.0\n",
            "Q-learning - Seed 2, Episode 3100, Total Reward: -140.0\n",
            "Q-learning - Seed 2, Episode 3200, Total Reward: -200.0\n",
            "Q-learning - Seed 2, Episode 3300, Total Reward: -159.0\n",
            "Q-learning - Seed 2, Episode 3400, Total Reward: -152.0\n",
            "Q-learning - Seed 2, Episode 3500, Total Reward: -200.0\n",
            "Q-learning - Seed 2, Episode 3600, Total Reward: -189.0\n",
            "Q-learning - Seed 2, Episode 3700, Total Reward: -159.0\n",
            "Q-learning - Seed 2, Episode 3800, Total Reward: -199.0\n",
            "Q-learning - Seed 2, Episode 3900, Total Reward: -152.0\n",
            "Q-learning - Seed 2, Episode 4000, Total Reward: -161.0\n",
            "Q-learning - Seed 2, Episode 4100, Total Reward: -161.0\n",
            "Q-learning - Seed 2, Episode 4200, Total Reward: -157.0\n",
            "Q-learning - Seed 2, Episode 4300, Total Reward: -158.0\n",
            "Q-learning - Seed 2, Episode 4400, Total Reward: -142.0\n",
            "Q-learning - Seed 2, Episode 4500, Total Reward: -150.0\n",
            "Q-learning - Seed 2, Episode 4600, Total Reward: -173.0\n",
            "Q-learning - Seed 2, Episode 4700, Total Reward: -153.0\n",
            "Q-learning - Seed 2, Episode 4800, Total Reward: -154.0\n",
            "Q-learning - Seed 2, Episode 4900, Total Reward: -180.0\n",
            "Q-learning - Seed 2, Episode 5000, Total Reward: -156.0\n",
            "Running Q-learning with seed 4\n",
            "Q-learning - Seed 3, Episode 100, Total Reward: -200.0\n",
            "Q-learning - Seed 3, Episode 200, Total Reward: -200.0\n",
            "Q-learning - Seed 3, Episode 300, Total Reward: -200.0\n",
            "Q-learning - Seed 3, Episode 400, Total Reward: -200.0\n",
            "Q-learning - Seed 3, Episode 500, Total Reward: -200.0\n",
            "Q-learning - Seed 3, Episode 600, Total Reward: -200.0\n",
            "Q-learning - Seed 3, Episode 700, Total Reward: -200.0\n",
            "Q-learning - Seed 3, Episode 800, Total Reward: -200.0\n",
            "Q-learning - Seed 3, Episode 900, Total Reward: -200.0\n",
            "Q-learning - Seed 3, Episode 1000, Total Reward: -200.0\n",
            "Q-learning - Seed 3, Episode 1100, Total Reward: -200.0\n",
            "Q-learning - Seed 3, Episode 1200, Total Reward: -200.0\n",
            "Q-learning - Seed 3, Episode 1300, Total Reward: -200.0\n",
            "Q-learning - Seed 3, Episode 1400, Total Reward: -165.0\n",
            "Q-learning - Seed 3, Episode 1500, Total Reward: -200.0\n",
            "Q-learning - Seed 3, Episode 1600, Total Reward: -200.0\n",
            "Q-learning - Seed 3, Episode 1700, Total Reward: -198.0\n",
            "Q-learning - Seed 3, Episode 1800, Total Reward: -200.0\n",
            "Q-learning - Seed 3, Episode 1900, Total Reward: -200.0\n",
            "Q-learning - Seed 3, Episode 2000, Total Reward: -200.0\n",
            "Q-learning - Seed 3, Episode 2100, Total Reward: -166.0\n",
            "Q-learning - Seed 3, Episode 2200, Total Reward: -200.0\n",
            "Q-learning - Seed 3, Episode 2300, Total Reward: -159.0\n",
            "Q-learning - Seed 3, Episode 2400, Total Reward: -180.0\n",
            "Q-learning - Seed 3, Episode 2500, Total Reward: -152.0\n",
            "Q-learning - Seed 3, Episode 2600, Total Reward: -200.0\n",
            "Q-learning - Seed 3, Episode 2700, Total Reward: -184.0\n",
            "Q-learning - Seed 3, Episode 2800, Total Reward: -200.0\n",
            "Q-learning - Seed 3, Episode 2900, Total Reward: -162.0\n",
            "Q-learning - Seed 3, Episode 3000, Total Reward: -200.0\n",
            "Q-learning - Seed 3, Episode 3100, Total Reward: -192.0\n",
            "Q-learning - Seed 3, Episode 3200, Total Reward: -200.0\n",
            "Q-learning - Seed 3, Episode 3300, Total Reward: -144.0\n",
            "Q-learning - Seed 3, Episode 3400, Total Reward: -148.0\n",
            "Q-learning - Seed 3, Episode 3500, Total Reward: -122.0\n",
            "Q-learning - Seed 3, Episode 3600, Total Reward: -200.0\n",
            "Q-learning - Seed 3, Episode 3700, Total Reward: -145.0\n",
            "Q-learning - Seed 3, Episode 3800, Total Reward: -156.0\n",
            "Q-learning - Seed 3, Episode 3900, Total Reward: -200.0\n",
            "Q-learning - Seed 3, Episode 4000, Total Reward: -200.0\n",
            "Q-learning - Seed 3, Episode 4100, Total Reward: -192.0\n",
            "Q-learning - Seed 3, Episode 4200, Total Reward: -154.0\n",
            "Q-learning - Seed 3, Episode 4300, Total Reward: -159.0\n",
            "Q-learning - Seed 3, Episode 4400, Total Reward: -155.0\n",
            "Q-learning - Seed 3, Episode 4500, Total Reward: -124.0\n",
            "Q-learning - Seed 3, Episode 4600, Total Reward: -116.0\n",
            "Q-learning - Seed 3, Episode 4700, Total Reward: -130.0\n",
            "Q-learning - Seed 3, Episode 4800, Total Reward: -115.0\n",
            "Q-learning - Seed 3, Episode 4900, Total Reward: -159.0\n",
            "Q-learning - Seed 3, Episode 5000, Total Reward: -142.0\n",
            "Running Q-learning with seed 5\n",
            "Q-learning - Seed 4, Episode 100, Total Reward: -200.0\n",
            "Q-learning - Seed 4, Episode 200, Total Reward: -200.0\n",
            "Q-learning - Seed 4, Episode 300, Total Reward: -200.0\n",
            "Q-learning - Seed 4, Episode 400, Total Reward: -200.0\n",
            "Q-learning - Seed 4, Episode 500, Total Reward: -200.0\n",
            "Q-learning - Seed 4, Episode 600, Total Reward: -200.0\n",
            "Q-learning - Seed 4, Episode 700, Total Reward: -200.0\n",
            "Q-learning - Seed 4, Episode 800, Total Reward: -200.0\n",
            "Q-learning - Seed 4, Episode 900, Total Reward: -200.0\n",
            "Q-learning - Seed 4, Episode 1000, Total Reward: -181.0\n",
            "Q-learning - Seed 4, Episode 1100, Total Reward: -200.0\n",
            "Q-learning - Seed 4, Episode 1200, Total Reward: -200.0\n",
            "Q-learning - Seed 4, Episode 1300, Total Reward: -200.0\n",
            "Q-learning - Seed 4, Episode 1400, Total Reward: -200.0\n",
            "Q-learning - Seed 4, Episode 1500, Total Reward: -200.0\n",
            "Q-learning - Seed 4, Episode 1600, Total Reward: -200.0\n",
            "Q-learning - Seed 4, Episode 1700, Total Reward: -200.0\n",
            "Q-learning - Seed 4, Episode 1800, Total Reward: -195.0\n",
            "Q-learning - Seed 4, Episode 1900, Total Reward: -200.0\n",
            "Q-learning - Seed 4, Episode 2000, Total Reward: -148.0\n",
            "Q-learning - Seed 4, Episode 2100, Total Reward: -200.0\n",
            "Q-learning - Seed 4, Episode 2200, Total Reward: -154.0\n",
            "Q-learning - Seed 4, Episode 2300, Total Reward: -200.0\n",
            "Q-learning - Seed 4, Episode 2400, Total Reward: -176.0\n",
            "Q-learning - Seed 4, Episode 2500, Total Reward: -162.0\n",
            "Q-learning - Seed 4, Episode 2600, Total Reward: -200.0\n",
            "Q-learning - Seed 4, Episode 2700, Total Reward: -142.0\n",
            "Q-learning - Seed 4, Episode 2800, Total Reward: -200.0\n",
            "Q-learning - Seed 4, Episode 2900, Total Reward: -163.0\n",
            "Q-learning - Seed 4, Episode 3000, Total Reward: -151.0\n",
            "Q-learning - Seed 4, Episode 3100, Total Reward: -149.0\n",
            "Q-learning - Seed 4, Episode 3200, Total Reward: -194.0\n",
            "Q-learning - Seed 4, Episode 3300, Total Reward: -187.0\n",
            "Q-learning - Seed 4, Episode 3400, Total Reward: -200.0\n",
            "Q-learning - Seed 4, Episode 3500, Total Reward: -191.0\n",
            "Q-learning - Seed 4, Episode 3600, Total Reward: -151.0\n",
            "Q-learning - Seed 4, Episode 3700, Total Reward: -163.0\n",
            "Q-learning - Seed 4, Episode 3800, Total Reward: -200.0\n",
            "Q-learning - Seed 4, Episode 3900, Total Reward: -200.0\n",
            "Q-learning - Seed 4, Episode 4000, Total Reward: -200.0\n",
            "Q-learning - Seed 4, Episode 4100, Total Reward: -155.0\n",
            "Q-learning - Seed 4, Episode 4200, Total Reward: -154.0\n",
            "Q-learning - Seed 4, Episode 4300, Total Reward: -156.0\n",
            "Q-learning - Seed 4, Episode 4400, Total Reward: -144.0\n",
            "Q-learning - Seed 4, Episode 4500, Total Reward: -183.0\n",
            "Q-learning - Seed 4, Episode 4600, Total Reward: -115.0\n",
            "Q-learning - Seed 4, Episode 4700, Total Reward: -157.0\n",
            "Q-learning - Seed 4, Episode 4800, Total Reward: -116.0\n",
            "Q-learning - Seed 4, Episode 4900, Total Reward: -152.0\n",
            "Q-learning - Seed 4, Episode 5000, Total Reward: -200.0\n"
          ]
        }
      ]
    },
    {
      "cell_type": "code",
      "source": [
        "best_sarsa_params = {\n",
        "    \"alpha\": 0.15,\n",
        "    \"epsilon\": 0.05,\n",
        "    \"num_bins\": 15,\n",
        "    \"gamma\": 0.99,\n",
        "    \"num_episodes\": 5000,\n",
        "    \"max_steps\": 200\n",
        "}\n",
        "\n",
        "best_q_params = {\n",
        "    \"alpha\": 0.1,\n",
        "    \"temperature\": 0.2,\n",
        "    \"num_bins\": 20,\n",
        "    \"gamma\": 0.99,\n",
        "    \"num_episodes\": 5000,\n",
        "    \"max_steps\": 200\n",
        "}\n",
        "\n",
        "# Plot SARSA results\n",
        "plt.figure(figsize=(10, 6))\n",
        "plt.plot(sarsa_mean, label='SARSA Mean', color='blue')\n",
        "plt.fill_between(range(best_sarsa_params['num_episodes']),\n",
        "                 sarsa_mean - sarsa_std,\n",
        "                 sarsa_mean + sarsa_std,\n",
        "                 alpha=0.3, color='blue', label='SARSA Variance')\n",
        "plt.xlabel('Episodes')\n",
        "plt.ylabel('Episodic Return')\n",
        "plt.title('SARSA Performance (Mean ± Variance)')\n",
        "plt.legend()\n",
        "plt.grid()\n",
        "plt.show()\n",
        "\n",
        "# Plot Q-learning results\n",
        "plt.figure(figsize=(10, 6))\n",
        "plt.plot(q_learning_mean, label='Q-learning Mean', color='red')\n",
        "plt.fill_between(range(best_q_params['num_episodes']),\n",
        "                 q_learning_mean - q_learning_std,\n",
        "                 q_learning_mean + q_learning_std,\n",
        "                 alpha=0.3, color='red', label='Q-learning Variance')\n",
        "plt.xlabel('Episodes')\n",
        "plt.ylabel('Episodic Return')\n",
        "plt.title('Q-learning Performance (Mean ± Variance)')\n",
        "plt.legend()\n",
        "plt.grid()\n",
        "plt.show()"
      ],
      "metadata": {
        "id": "A2RZGLw9rSil",
        "colab": {
          "base_uri": "https://localhost:8080/",
          "height": 1000
        },
        "outputId": "dec3ecb8-9123-4359-a217-f620dcf1c742"
      },
      "execution_count": null,
      "outputs": [
        {
          "output_type": "display_data",
          "data": {
            "text/plain": [
              "<Figure size 1000x600 with 1 Axes>"
            ],
            "image/png": "[encoded data removed]"
          },
          "metadata": {}
        },
        {
          "output_type": "display_data",
          "data": {
            "text/plain": [
              "<Figure size 1000x600 with 1 Axes>"
            ],
            "image/png": "[encoded data removed]"
          },
          "metadata": {}
        }
      ]
    },
    {
      "cell_type": "code",
      "source": [],
      "metadata": {
        "id": "_6mgv-aFvQoQ"
      },
      "execution_count": null,
      "outputs": []
    }
  ]
}